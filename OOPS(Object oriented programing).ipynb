{
 "cells": [
  {
   "cell_type": "code",
   "execution_count": 1,
   "id": "aca153d7",
   "metadata": {},
   "outputs": [
    {
     "name": "stdout",
     "output_type": "stream",
     "text": [
      "aman 1\n"
     ]
    }
   ],
   "source": [
    "class student:\n",
    "    def __init__(self,name,age):\n",
    "        self.name=name\n",
    "        self.age=age\n",
    "a=student(\"aman\",1)\n",
    "print(a.name,a.age)\n",
    "        "
   ]
  },
  {
   "cell_type": "code",
   "execution_count": 2,
   "id": "e6e0231e",
   "metadata": {},
   "outputs": [
    {
     "name": "stdout",
     "output_type": "stream",
     "text": [
      "kannur\n"
     ]
    }
   ],
   "source": [
    "class state:\n",
    "    def kannur(self):\n",
    "        print(\"kannur\")\n",
    "t=state()\n",
    "t.kannur()\n",
    "        "
   ]
  },
  {
   "cell_type": "code",
   "execution_count": 3,
   "id": "169a2de4",
   "metadata": {},
   "outputs": [
    {
     "name": "stdout",
     "output_type": "stream",
     "text": [
      "name is zebra and the color iswhite and black\n",
      "colour is white and black\n"
     ]
    }
   ],
   "source": [
    "class animal:\n",
    "    def __init__(self,name,color):\n",
    "        self.name=name\n",
    "        self.color=color\n",
    "    def display(self):\n",
    "        print(\"name is {} and the color is{}\".format(self.name , self.color))\n",
    "    def colour(self):\n",
    "        print(\"colour is {}\".format(self.color))\n",
    "d=animal(\"zebra\",\"white and black\")\n",
    "d.display()\n",
    "d.colour()"
   ]
  },
  {
   "cell_type": "code",
   "execution_count": 4,
   "id": "42536162",
   "metadata": {},
   "outputs": [
    {
     "name": "stdout",
     "output_type": "stream",
     "text": [
      "abhijith\n",
      "21\n"
     ]
    }
   ],
   "source": [
    "class name:\n",
    "    n=\"abhijith\"\n",
    "    age= 21\n",
    "print(name.n)\n",
    "print(name.age)"
   ]
  },
  {
   "cell_type": "code",
   "execution_count": 5,
   "id": "ec64c8b5",
   "metadata": {},
   "outputs": [
    {
     "name": "stdout",
     "output_type": "stream",
     "text": [
      "name is :  abhijith\n",
      "age is :  21\n"
     ]
    }
   ],
   "source": [
    "class mydetails:\n",
    "    def __init__(self,name,age):\n",
    "        self.name=name\n",
    "        self.age=age\n",
    "    def display(self):\n",
    "        print(\"name is : \",self.name)\n",
    "        print(\"age is : \",self.age)\n",
    "m=mydetails(\"abhijith\",21)\n",
    "m.display()"
   ]
  },
  {
   "cell_type": "code",
   "execution_count": 6,
   "id": "ea6c96f3",
   "metadata": {},
   "outputs": [
    {
     "name": "stdout",
     "output_type": "stream",
     "text": [
      "name is :  abhijith\n",
      "age is :  21\n"
     ]
    }
   ],
   "source": [
    "class mydetails:\n",
    "    def display(self,name,age):\n",
    "        self.name=name\n",
    "        self.age=age\n",
    "        print(\"name is : \", self.name)\n",
    "        print(\"age is : \", self.age)\n",
    "m=mydetails()\n",
    "m.display(\"abhijith\",21)       "
   ]
  },
  {
   "cell_type": "code",
   "execution_count": 7,
   "id": "fd21ddeb",
   "metadata": {},
   "outputs": [
    {
     "name": "stdout",
     "output_type": "stream",
     "text": [
      "enter the name : abhijith\n",
      "enter your dept : bba\n",
      "enter your age : 21\n",
      "enter your place : kochi\n",
      "my name is  abhijith\n",
      "dept is  bba\n",
      "age is  21\n",
      "place is  kochi\n"
     ]
    }
   ],
   "source": [
    "class students:\n",
    "    def display(self,name,dept,age,place):\n",
    "        self.name=name\n",
    "        self.dept=dept\n",
    "        self.age=age\n",
    "        self.place=place\n",
    "        print(\"my name is \" ,self.name)\n",
    "        print(\"dept is \" ,self.dept)\n",
    "        print(\"age is \" ,self.age)\n",
    "        print(\"place is \" ,self.place)\n",
    "s=students()\n",
    "a=input(\"enter the name : \")\n",
    "b=input(\"enter your dept : \")\n",
    "c=int(input(\"enter your age : \"))\n",
    "d=input(\"enter your place : \")      \n",
    "s.display(a,b,c,d)\n"
   ]
  },
  {
   "cell_type": "code",
   "execution_count": 8,
   "id": "618d0c0d",
   "metadata": {},
   "outputs": [
    {
     "name": "stdout",
     "output_type": "stream",
     "text": [
      "enter your first number : 1\n",
      "enter your sec number : 2\n",
      "0-exit\n",
      "1-add\n",
      "2-sub\n",
      "3-multiply\n",
      "4-divide\n",
      "enter your choice0\n",
      "exiting\n",
      "\n"
     ]
    }
   ],
   "source": [
    "class pen:\n",
    "    def __init__(self,a,b):\n",
    "        self.a=a\n",
    "        self.b=b\n",
    "    def add(self):\n",
    "        return self.a+self.b\n",
    "    def subtract(self):\n",
    "        return self.a-self.b\n",
    "    def multiply(self):\n",
    "        return self.a*self.b\n",
    "    def divide(self):\n",
    "        return self.a/self.b\n",
    "a=int(input(\"enter your first number : \"))\n",
    "b=int(input(\"enter your sec number : \"))  \n",
    "t=pen(a,b)\n",
    "choice=1\n",
    "while choice!=0:\n",
    "    print(\"0-exit\")\n",
    "    print(\"1-add\")\n",
    "    print(\"2-sub\")\n",
    "    print(\"3-multiply\")\n",
    "    print(\"4-divide\")\n",
    "    choice=int(input(\"enter your choice\"))\n",
    "    if choice==1:\n",
    "        print(\"result: \",t.add())\n",
    "    elif choice==2:\n",
    "        print(\"result: \",t.subtract())\n",
    "    elif choice==3:\n",
    "        print(\"result: \",t.multiply())\n",
    "    elif choice==4:\n",
    "        print(\"result: \",t.divide())\n",
    "    elif choice==0:\n",
    "        print(\"exiting\")\n",
    "    else:\n",
    "        print(\"invalid choice\")\n",
    "print()        "
   ]
  },
  {
   "cell_type": "code",
   "execution_count": 9,
   "id": "2c969d42",
   "metadata": {},
   "outputs": [
    {
     "name": "stdout",
     "output_type": "stream",
     "text": [
      "enter a number : 6\n",
      "enter a number : 8\n",
      "area of rectangle :  48\n",
      "\n"
     ]
    }
   ],
   "source": [
    "class rectangle:\n",
    "    def __init__(self,l,b):\n",
    "        self.l=l\n",
    "        self.b=b\n",
    "    def area(self):\n",
    "        return self.b*self.l\n",
    "l=int(input(\"enter a number : \"))\n",
    "b=int(input(\"enter a number : \"))\n",
    "r=rectangle(l,b)\n",
    "print(\"area of rectangle : \",r.area())\n",
    "print()\n",
    "        "
   ]
  },
  {
   "cell_type": "code",
   "execution_count": null,
   "id": "7aabfb67",
   "metadata": {},
   "outputs": [],
   "source": []
  }
 ],
 "metadata": {
  "kernelspec": {
   "display_name": "Python 3 (ipykernel)",
   "language": "python",
   "name": "python3"
  },
  "language_info": {
   "codemirror_mode": {
    "name": "ipython",
    "version": 3
   },
   "file_extension": ".py",
   "mimetype": "text/x-python",
   "name": "python",
   "nbconvert_exporter": "python",
   "pygments_lexer": "ipython3",
   "version": "3.9.12"
  }
 },
 "nbformat": 4,
 "nbformat_minor": 5
}
