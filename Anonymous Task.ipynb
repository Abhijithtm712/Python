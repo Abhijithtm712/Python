{
 "cells": [
  {
   "cell_type": "code",
   "execution_count": 4,
   "id": "60c8d134",
   "metadata": {},
   "outputs": [
    {
     "name": "stdout",
     "output_type": "stream",
     "text": [
      "numbers divisible by 2 are [10, 20, 30, 90]\n"
     ]
    }
   ],
   "source": [
    "p=[10,20,30,39,887,99,90]\n",
    "q=list(filter(lambda r:(r%2==0), p))\n",
    "print(\"numbers divisible by 2 are\", q)"
   ]
  },
  {
   "cell_type": "code",
   "execution_count": 2,
   "id": "ce525d26",
   "metadata": {},
   "outputs": [
    {
     "name": "stdout",
     "output_type": "stream",
     "text": [
      "[100, 400, 900, 1600, 2500, 3600, 4900, 6400, 8100]\n"
     ]
    }
   ],
   "source": [
    "b=[10,20,30,40,50,60,70,80,90]\n",
    "a=list(map(lambda f:f**2,b))\n",
    "print(a)"
   ]
  },
  {
   "cell_type": "code",
   "execution_count": null,
   "id": "fb2331c1",
   "metadata": {},
   "outputs": [],
   "source": []
  }
 ],
 "metadata": {
  "kernelspec": {
   "display_name": "Python 3 (ipykernel)",
   "language": "python",
   "name": "python3"
  },
  "language_info": {
   "codemirror_mode": {
    "name": "ipython",
    "version": 3
   },
   "file_extension": ".py",
   "mimetype": "text/x-python",
   "name": "python",
   "nbconvert_exporter": "python",
   "pygments_lexer": "ipython3",
   "version": "3.9.12"
  }
 },
 "nbformat": 4,
 "nbformat_minor": 5
}
