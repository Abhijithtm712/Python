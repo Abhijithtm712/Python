{
 "cells": [
  {
   "cell_type": "code",
   "execution_count": 1,
   "id": "429909ef",
   "metadata": {},
   "outputs": [],
   "source": [
    "import numpy as np\n"
   ]
  },
  {
   "cell_type": "code",
   "execution_count": 2,
   "id": "cdb8c90e",
   "metadata": {},
   "outputs": [
    {
     "name": "stdout",
     "output_type": "stream",
     "text": [
      "[1 2 3]\n"
     ]
    }
   ],
   "source": [
    "p=np.array([1,2,3])\n",
    "print(p)"
   ]
  },
  {
   "cell_type": "code",
   "execution_count": 3,
   "id": "60800878",
   "metadata": {},
   "outputs": [
    {
     "name": "stdout",
     "output_type": "stream",
     "text": [
      "[[1 2 3]\n",
      " [4 5 6]]\n"
     ]
    }
   ],
   "source": [
    "r=np.array([(1,2,3),(4,5,6)])\n",
    "print(r)"
   ]
  },
  {
   "cell_type": "code",
   "execution_count": 4,
   "id": "355a0192",
   "metadata": {},
   "outputs": [
    {
     "name": "stdout",
     "output_type": "stream",
     "text": [
      "2\n"
     ]
    }
   ],
   "source": [
    "print(r.ndim)"
   ]
  },
  {
   "cell_type": "code",
   "execution_count": 5,
   "id": "a662b0ac",
   "metadata": {},
   "outputs": [
    {
     "name": "stdout",
     "output_type": "stream",
     "text": [
      "1\n"
     ]
    }
   ],
   "source": [
    "print(p.ndim)"
   ]
  },
  {
   "cell_type": "code",
   "execution_count": 6,
   "id": "a38d967c",
   "metadata": {},
   "outputs": [
    {
     "name": "stdout",
     "output_type": "stream",
     "text": [
      "int32\n"
     ]
    }
   ],
   "source": [
    "print(r.dtype)"
   ]
  },
  {
   "cell_type": "code",
   "execution_count": 7,
   "id": "7f0baf9f",
   "metadata": {},
   "outputs": [
    {
     "name": "stdout",
     "output_type": "stream",
     "text": [
      "6\n"
     ]
    }
   ],
   "source": [
    "print(r.size)"
   ]
  },
  {
   "cell_type": "code",
   "execution_count": 8,
   "id": "2fbe84c2",
   "metadata": {},
   "outputs": [
    {
     "name": "stdout",
     "output_type": "stream",
     "text": [
      "[[10 20 30 40 50 60 70 80]\n",
      " [ 1  2  3  4  5  6  7  8]]\n"
     ]
    }
   ],
   "source": [
    "l=np.array([(10,20,30,40,50,60,70,80),(1,2,3,4,5,6,7,8)])\n",
    "print(l)"
   ]
  },
  {
   "cell_type": "code",
   "execution_count": 9,
   "id": "ee1d0d84",
   "metadata": {},
   "outputs": [
    {
     "name": "stdout",
     "output_type": "stream",
     "text": [
      "(2, 8)\n"
     ]
    }
   ],
   "source": [
    "print(l.shape)"
   ]
  },
  {
   "cell_type": "code",
   "execution_count": 10,
   "id": "ae6a6be8",
   "metadata": {},
   "outputs": [
    {
     "name": "stdout",
     "output_type": "stream",
     "text": [
      "(2,)\n"
     ]
    },
    {
     "name": "stderr",
     "output_type": "stream",
     "text": [
      "C:\\Users\\ABHIJITH\\AppData\\Local\\Temp\\ipykernel_16736\\3855870567.py:1: VisibleDeprecationWarning: Creating an ndarray from ragged nested sequences (which is a list-or-tuple of lists-or-tuples-or ndarrays with different lengths or shapes) is deprecated. If you meant to do this, you must specify 'dtype=object' when creating the ndarray.\n",
      "  t=np.array([(10,20,30,40,50,60,70),(1,2,3,4,5,6,7,8)])\n"
     ]
    }
   ],
   "source": [
    "t=np.array([(10,20,30,40,50,60,70),(1,2,3,4,5,6,7,8)])\n",
    "print(t.shape)"
   ]
  },
  {
   "cell_type": "code",
   "execution_count": 11,
   "id": "51b48b45",
   "metadata": {},
   "outputs": [
    {
     "data": {
      "text/plain": [
       "array([[10, 20],\n",
       "       [30, 40],\n",
       "       [50, 60],\n",
       "       [70, 80],\n",
       "       [ 1,  2],\n",
       "       [ 3,  4],\n",
       "       [ 5,  6],\n",
       "       [ 7,  8]])"
      ]
     },
     "execution_count": 11,
     "metadata": {},
     "output_type": "execute_result"
    }
   ],
   "source": [
    "l=l.reshape(8,2)\n",
    "l"
   ]
  },
  {
   "cell_type": "code",
   "execution_count": 12,
   "id": "2c4fbd1a",
   "metadata": {},
   "outputs": [
    {
     "data": {
      "text/plain": [
       "array([[10, 20, 30, 40],\n",
       "       [50, 60, 70, 80],\n",
       "       [ 1,  2,  3,  4],\n",
       "       [ 5,  6,  7,  8]])"
      ]
     },
     "execution_count": 12,
     "metadata": {},
     "output_type": "execute_result"
    }
   ],
   "source": [
    "l=l.reshape(4,4)\n",
    "l"
   ]
  },
  {
   "cell_type": "code",
   "execution_count": 13,
   "id": "88a5f37f",
   "metadata": {},
   "outputs": [
    {
     "data": {
      "text/plain": [
       "array([[10],\n",
       "       [20],\n",
       "       [30],\n",
       "       [40],\n",
       "       [50],\n",
       "       [60],\n",
       "       [70],\n",
       "       [80],\n",
       "       [ 1],\n",
       "       [ 2],\n",
       "       [ 3],\n",
       "       [ 4],\n",
       "       [ 5],\n",
       "       [ 6],\n",
       "       [ 7],\n",
       "       [ 8]])"
      ]
     },
     "execution_count": 13,
     "metadata": {},
     "output_type": "execute_result"
    }
   ],
   "source": [
    "l=l.reshape(16,1)\n",
    "l"
   ]
  },
  {
   "cell_type": "code",
   "execution_count": 14,
   "id": "b1e0c374",
   "metadata": {},
   "outputs": [
    {
     "data": {
      "text/plain": [
       "array([[1, 2, 3, 4],\n",
       "       [5, 6, 7, 8]])"
      ]
     },
     "execution_count": 14,
     "metadata": {},
     "output_type": "execute_result"
    }
   ],
   "source": [
    "k=np.array([(1,2,3,4),(5,6,7,8)])\n",
    "k"
   ]
  },
  {
   "cell_type": "code",
   "execution_count": 15,
   "id": "8e808029",
   "metadata": {},
   "outputs": [
    {
     "name": "stdout",
     "output_type": "stream",
     "text": [
      "3\n"
     ]
    }
   ],
   "source": [
    "print(k[0,2])"
   ]
  },
  {
   "cell_type": "code",
   "execution_count": 16,
   "id": "781e08c4",
   "metadata": {},
   "outputs": [
    {
     "name": "stdout",
     "output_type": "stream",
     "text": [
      "[1 2 3 4]\n"
     ]
    }
   ],
   "source": [
    "print(k[0, :])"
   ]
  },
  {
   "cell_type": "code",
   "execution_count": 17,
   "id": "d28204a9",
   "metadata": {},
   "outputs": [
    {
     "name": "stdout",
     "output_type": "stream",
     "text": [
      "[1 2 3 4]\n"
     ]
    }
   ],
   "source": [
    "print(k[0])"
   ]
  },
  {
   "cell_type": "code",
   "execution_count": 18,
   "id": "82dbe13d",
   "metadata": {},
   "outputs": [
    {
     "name": "stdout",
     "output_type": "stream",
     "text": [
      "[4 8]\n"
     ]
    }
   ],
   "source": [
    "print(k[0:,3])"
   ]
  },
  {
   "cell_type": "code",
   "execution_count": 19,
   "id": "df171c9b",
   "metadata": {},
   "outputs": [
    {
     "name": "stdout",
     "output_type": "stream",
     "text": [
      "[3 5 7]\n"
     ]
    }
   ],
   "source": [
    "a=np.array([(1,2,3),(3,4,5),(5,6,7)])\n",
    "print(a[0:,2])"
   ]
  },
  {
   "cell_type": "code",
   "execution_count": 20,
   "id": "2c650104",
   "metadata": {},
   "outputs": [
    {
     "name": "stdout",
     "output_type": "stream",
     "text": [
      "[3 5]\n"
     ]
    }
   ],
   "source": [
    "print(a[0:2,2])"
   ]
  },
  {
   "cell_type": "code",
   "execution_count": 21,
   "id": "a2fea5f7",
   "metadata": {},
   "outputs": [
    {
     "data": {
      "text/plain": [
       "array([1. , 1.5, 2. , 2.5, 3. ])"
      ]
     },
     "execution_count": 21,
     "metadata": {},
     "output_type": "execute_result"
    }
   ],
   "source": [
    "w=np.linspace(1,3,5)\n",
    "w"
   ]
  },
  {
   "cell_type": "code",
   "execution_count": 22,
   "id": "d7031419",
   "metadata": {},
   "outputs": [
    {
     "data": {
      "text/plain": [
       "array([1.        , 1.44444444, 1.88888889, 2.33333333, 2.77777778,\n",
       "       3.22222222, 3.66666667, 4.11111111, 4.55555556, 5.        ])"
      ]
     },
     "execution_count": 22,
     "metadata": {},
     "output_type": "execute_result"
    }
   ],
   "source": [
    "q=np.linspace(1,5,10)\n",
    "q"
   ]
  },
  {
   "cell_type": "code",
   "execution_count": 23,
   "id": "0f5b1ac7",
   "metadata": {},
   "outputs": [
    {
     "name": "stdout",
     "output_type": "stream",
     "text": [
      "3\n"
     ]
    }
   ],
   "source": [
    "s=np.array([1,2,3])\n",
    "print(s.max())"
   ]
  },
  {
   "cell_type": "code",
   "execution_count": 24,
   "id": "c689d752",
   "metadata": {},
   "outputs": [
    {
     "name": "stdout",
     "output_type": "stream",
     "text": [
      "1\n"
     ]
    }
   ],
   "source": [
    "print(s.min())"
   ]
  },
  {
   "cell_type": "code",
   "execution_count": 25,
   "id": "bf61ab7d",
   "metadata": {},
   "outputs": [
    {
     "name": "stdout",
     "output_type": "stream",
     "text": [
      "6\n"
     ]
    }
   ],
   "source": [
    "print(s.sum())"
   ]
  },
  {
   "cell_type": "code",
   "execution_count": 26,
   "id": "2bdcb048",
   "metadata": {},
   "outputs": [
    {
     "name": "stdout",
     "output_type": "stream",
     "text": [
      "[[1.         1.41421356 1.73205081]\n",
      " [3.         2.82842712 2.64575131]]\n"
     ]
    }
   ],
   "source": [
    "x=np.array([(1,2,3),(9,8,7)])\n",
    "print(np.sqrt(x))"
   ]
  },
  {
   "cell_type": "code",
   "execution_count": 28,
   "id": "99f924af",
   "metadata": {},
   "outputs": [
    {
     "name": "stdout",
     "output_type": "stream",
     "text": [
      "[[ 3  5  7]\n",
      " [15 15 15]]\n"
     ]
    }
   ],
   "source": [
    "j=np.array([(2,3,4),(6,7,8)])\n",
    "u=np.array([(1,2,3),(9,8,7)])\n",
    "print(j+u)"
   ]
  },
  {
   "cell_type": "code",
   "execution_count": 29,
   "id": "c8a02584",
   "metadata": {},
   "outputs": [
    {
     "name": "stdout",
     "output_type": "stream",
     "text": [
      "[[ 1  1  1]\n",
      " [-3 -1  1]]\n"
     ]
    }
   ],
   "source": [
    "j=np.array([(2,3,4),(6,7,8)])\n",
    "u=np.array([(1,2,3),(9,8,7)])\n",
    "print(j-u)"
   ]
  },
  {
   "cell_type": "code",
   "execution_count": 30,
   "id": "d1e779d2",
   "metadata": {},
   "outputs": [
    {
     "name": "stdout",
     "output_type": "stream",
     "text": [
      "[[ 2  6 12]\n",
      " [54 56 56]]\n"
     ]
    }
   ],
   "source": [
    "j=np.array([(2,3,4),(6,7,8)])\n",
    "u=np.array([(1,2,3),(9,8,7)])\n",
    "print(j*u)"
   ]
  },
  {
   "cell_type": "code",
   "execution_count": 31,
   "id": "de978e64",
   "metadata": {},
   "outputs": [
    {
     "name": "stdout",
     "output_type": "stream",
     "text": [
      "[[2.         1.5        1.33333333]\n",
      " [0.66666667 0.875      1.14285714]]\n"
     ]
    }
   ],
   "source": [
    "j=np.array([(2,3,4),(6,7,8)])\n",
    "u=np.array([(1,2,3),(9,8,7)])\n",
    "print(j/u)"
   ]
  },
  {
   "cell_type": "code",
   "execution_count": 32,
   "id": "39744494",
   "metadata": {},
   "outputs": [
    {
     "name": "stdout",
     "output_type": "stream",
     "text": [
      "[[2 3 4]\n",
      " [6 7 8]\n",
      " [1 2 3]\n",
      " [9 8 7]]\n"
     ]
    }
   ],
   "source": [
    "print(np.vstack((j,u)))"
   ]
  },
  {
   "cell_type": "code",
   "execution_count": 33,
   "id": "7c3f9971",
   "metadata": {},
   "outputs": [
    {
     "name": "stdout",
     "output_type": "stream",
     "text": [
      "[[2 3 4 1 2 3]\n",
      " [6 7 8 9 8 7]]\n"
     ]
    }
   ],
   "source": [
    "print(np.hstack((j,u)))"
   ]
  },
  {
   "cell_type": "code",
   "execution_count": 34,
   "id": "a60853b2",
   "metadata": {},
   "outputs": [
    {
     "name": "stdout",
     "output_type": "stream",
     "text": [
      "[2 3 4 6 7 8]\n"
     ]
    }
   ],
   "source": [
    "print(j.ravel())"
   ]
  },
  {
   "cell_type": "code",
   "execution_count": 35,
   "id": "6a4f00e6",
   "metadata": {},
   "outputs": [
    {
     "name": "stdout",
     "output_type": "stream",
     "text": [
      "[1 2 3 9 8 7]\n"
     ]
    }
   ],
   "source": [
    "print(u.ravel())"
   ]
  },
  {
   "cell_type": "code",
   "execution_count": 36,
   "id": "85aead4c",
   "metadata": {},
   "outputs": [
    {
     "data": {
      "text/plain": [
       "array([[11., 22., 33.],\n",
       "       [55., 66., 77.]])"
      ]
     },
     "execution_count": 36,
     "metadata": {},
     "output_type": "execute_result"
    }
   ],
   "source": [
    "h=np.array([[11,22,33],[55,66,77]],dtype=\"float\")\n",
    "h"
   ]
  },
  {
   "cell_type": "code",
   "execution_count": 37,
   "id": "d72ac865",
   "metadata": {},
   "outputs": [
    {
     "data": {
      "text/plain": [
       "array([[0., 0., 0., 0.],\n",
       "       [0., 0., 0., 0.],\n",
       "       [0., 0., 0., 0.]])"
      ]
     },
     "execution_count": 37,
     "metadata": {},
     "output_type": "execute_result"
    }
   ],
   "source": [
    "r=np.zeros((3,4))\n",
    "r"
   ]
  },
  {
   "cell_type": "code",
   "execution_count": 42,
   "id": "03879047",
   "metadata": {},
   "outputs": [
    {
     "data": {
      "text/plain": [
       "array([[0.23190164, 0.70597363],\n",
       "       [0.53043793, 0.67008761]])"
      ]
     },
     "execution_count": 42,
     "metadata": {},
     "output_type": "execute_result"
    }
   ],
   "source": [
    "u=np.random.random((2,2))\n",
    "u"
   ]
  },
  {
   "cell_type": "code",
   "execution_count": 44,
   "id": "5e5872c9",
   "metadata": {},
   "outputs": [
    {
     "data": {
      "text/plain": [
       "array([ 0,  5, 10, 15, 20, 25])"
      ]
     },
     "execution_count": 44,
     "metadata": {},
     "output_type": "execute_result"
    }
   ],
   "source": [
    "b=np.arange(0,30,5)\n",
    "b"
   ]
  },
  {
   "cell_type": "code",
   "execution_count": 49,
   "id": "d23a600c",
   "metadata": {},
   "outputs": [
    {
     "name": "stdout",
     "output_type": "stream",
     "text": [
      "[111 222 333 666 777 888]\n"
     ]
    }
   ],
   "source": [
    "k=np.array([(111,222,333),(666,777,888)])\n",
    "y=k.flatten()\n",
    "print(y)"
   ]
  },
  {
   "cell_type": "code",
   "execution_count": null,
   "id": "cd62a922",
   "metadata": {},
   "outputs": [],
   "source": []
  }
 ],
 "metadata": {
  "kernelspec": {
   "display_name": "Python 3 (ipykernel)",
   "language": "python",
   "name": "python3"
  },
  "language_info": {
   "codemirror_mode": {
    "name": "ipython",
    "version": 3
   },
   "file_extension": ".py",
   "mimetype": "text/x-python",
   "name": "python",
   "nbconvert_exporter": "python",
   "pygments_lexer": "ipython3",
   "version": "3.9.12"
  }
 },
 "nbformat": 4,
 "nbformat_minor": 5
}
