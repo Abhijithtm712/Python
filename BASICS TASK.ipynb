{
 "cells": [
  {
   "cell_type": "code",
   "execution_count": 1,
   "id": "86de9cac",
   "metadata": {},
   "outputs": [
    {
     "name": "stdout",
     "output_type": "stream",
     "text": [
      "55\n"
     ]
    }
   ],
   "source": [
    "h=(1,2,3,4,5,6,7,8,9,10)\n",
    "print(sum(h))"
   ]
  },
  {
   "cell_type": "code",
   "execution_count": 2,
   "id": "a5057152",
   "metadata": {},
   "outputs": [
    {
     "name": "stdout",
     "output_type": "stream",
     "text": [
      "1\n",
      "3\n",
      "5\n",
      "7\n",
      "9\n",
      "11\n",
      "13\n",
      "15\n",
      "17\n",
      "19\n",
      "21\n",
      "23\n",
      "25\n",
      "27\n",
      "29\n"
     ]
    }
   ],
   "source": [
    "for i in range(0,30):\n",
    "    if i%2==1:\n",
    "       print(i)"
   ]
  },
  {
   "cell_type": "code",
   "execution_count": 3,
   "id": "14963d28",
   "metadata": {},
   "outputs": [
    {
     "name": "stdout",
     "output_type": "stream",
     "text": [
      "enter your number5\n",
      "15\n"
     ]
    }
   ],
   "source": [
    "b=int(input(\"enter your number\"))\n",
    "t=0\n",
    "if b<0:\n",
    "    print(\"enter a positive integer\")\n",
    "else:\n",
    "\n",
    "    for i in range(1,b+1):\n",
    "        t=t+i\n",
    "    print(t)    \n",
    "    "
   ]
  },
  {
   "cell_type": "code",
   "execution_count": 4,
   "id": "cb38aa35",
   "metadata": {},
   "outputs": [
    {
     "name": "stdout",
     "output_type": "stream",
     "text": [
      "enter your number5\n",
      "15\n"
     ]
    }
   ],
   "source": [
    "h=int(input(\"enter your number\"))\n",
    "j=0\n",
    "while h>=1:\n",
    "    j=j+h\n",
    "    h=h-1\n",
    "print(j)   \n",
    "    "
   ]
  },
  {
   "cell_type": "code",
   "execution_count": 5,
   "id": "e95efbfe",
   "metadata": {},
   "outputs": [
    {
     "name": "stdout",
     "output_type": "stream",
     "text": [
      "enter a number 153\n",
      "armstrong number\n"
     ]
    }
   ],
   "source": [
    "num=int(input(\"enter a number \"))\n",
    "b=0\n",
    "temp=num\n",
    "while temp>0:\n",
    "    digit=temp%10\n",
    "    b=b+digit**3\n",
    "    temp=temp//10\n",
    "if num==b:\n",
    "    print(\"armstrong number\")\n",
    "else:\n",
    "    print(\"not an armstrong number\")\n"
   ]
  },
  {
   "cell_type": "code",
   "execution_count": 6,
   "id": "cd1c7e4e",
   "metadata": {},
   "outputs": [
    {
     "name": "stdout",
     "output_type": "stream",
     "text": [
      "enter a number1234\n",
      "reversed number :4321\n"
     ]
    }
   ],
   "source": [
    "num=int(input(\"enter a number\"))\n",
    "r=0\n",
    "while num!=0:\n",
    "    digit=num%10\n",
    "    r=r*10+digit\n",
    "    num//=10\n",
    "print(\"reversed number :\" +str(r))    "
   ]
  },
  {
   "cell_type": "code",
   "execution_count": 7,
   "id": "7ac1bb7e",
   "metadata": {},
   "outputs": [
    {
     "name": "stdout",
     "output_type": "stream",
     "text": [
      "enter a number7\n",
      "fibonacci sequence :\n",
      "0\n",
      "1\n",
      "1\n",
      "2\n",
      "3\n",
      "5\n",
      "8\n"
     ]
    }
   ],
   "source": [
    "n=int(input(\"enter a number\"))\n",
    "nterms=7\n",
    "n1=0\n",
    "n2=1\n",
    "count=0\n",
    "if nterms<=0:\n",
    "    print(\"enter a positive number\")\n",
    "elif nterms==1:\n",
    "        print(\"fibonacci sequence upto\",nterms,\":\")\n",
    "        print(n1)\n",
    "else:\n",
    "    print(\"fibonacci sequence :\")\n",
    "    while count<nterms:\n",
    "        print(n1)\n",
    "        nth=n1+n2\n",
    "        n1=n2\n",
    "        n2=nth\n",
    "        count=count+1"
   ]
  },
  {
   "cell_type": "code",
   "execution_count": null,
   "id": "09335353",
   "metadata": {},
   "outputs": [],
   "source": [
    "num=407\n",
    "if num>1:\n",
    "    for i in range(2,num)\n",
    "    if (num%i)==0:\n",
    "        print(num,\"is not a prime number\")\n",
    "        print()"
   ]
  },
  {
   "cell_type": "code",
   "execution_count": 11,
   "id": "e4bfd841",
   "metadata": {},
   "outputs": [
    {
     "name": "stdout",
     "output_type": "stream",
     "text": [
      "enter a stringIndePendence\n",
      "number of vowels are\n",
      "5\n"
     ]
    }
   ],
   "source": [
    "b=input(\"enter a string\")\n",
    "vowel=0\n",
    "for i in b:\n",
    "    if(i=='a' or i=='e' or i=='i' or i=='o' or i=='u' or i=='A' or i=='E' or i=='I' or i=='O' or i=='U'):\n",
    "          vowel=vowel+1\n",
    "print(\"number of vowels are\")\n",
    "print(vowel)\n",
    "    "
   ]
  },
  {
   "cell_type": "code",
   "execution_count": null,
   "id": "0b95bda5",
   "metadata": {},
   "outputs": [],
   "source": []
  }
 ],
 "metadata": {
  "kernelspec": {
   "display_name": "Python 3 (ipykernel)",
   "language": "python",
   "name": "python3"
  },
  "language_info": {
   "codemirror_mode": {
    "name": "ipython",
    "version": 3
   },
   "file_extension": ".py",
   "mimetype": "text/x-python",
   "name": "python",
   "nbconvert_exporter": "python",
   "pygments_lexer": "ipython3",
   "version": "3.9.12"
  }
 },
 "nbformat": 4,
 "nbformat_minor": 5
}
