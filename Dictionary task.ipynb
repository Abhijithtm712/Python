{
 "cells": [
  {
   "cell_type": "code",
   "execution_count": 1,
   "id": "a0f5cb9d",
   "metadata": {},
   "outputs": [
    {
     "data": {
      "text/plain": [
       "{11: 101, 111: 1001, 1111: 10001}"
      ]
     },
     "execution_count": 1,
     "metadata": {},
     "output_type": "execute_result"
    }
   ],
   "source": [
    "a={11:101,111:1001}\n",
    "a[1111]=10001\n",
    "a"
   ]
  },
  {
   "cell_type": "code",
   "execution_count": 2,
   "id": "a74674d3",
   "metadata": {},
   "outputs": [
    {
     "data": {
      "text/plain": [
       "{12: 122, 13: 103, 14: 104}"
      ]
     },
     "execution_count": 2,
     "metadata": {},
     "output_type": "execute_result"
    }
   ],
   "source": [
    "b={12:102,13:103,14:104}\n",
    "b[12]=122\n",
    "b"
   ]
  },
  {
   "cell_type": "code",
   "execution_count": 8,
   "id": "386b054a",
   "metadata": {},
   "outputs": [
    {
     "name": "stdout",
     "output_type": "stream",
     "text": [
      "66\n"
     ]
    }
   ],
   "source": [
    "c={11:111,22:222,33:333}\n",
    "print(sum(c))"
   ]
  },
  {
   "cell_type": "code",
   "execution_count": 10,
   "id": "e047205d",
   "metadata": {},
   "outputs": [
    {
     "data": {
      "text/plain": [
       "{44: 444, 66: 666}"
      ]
     },
     "execution_count": 10,
     "metadata": {},
     "output_type": "execute_result"
    }
   ],
   "source": [
    "d={44:444,55:555,66:666}\n",
    "del d[55]\n",
    "d"
   ]
  },
  {
   "cell_type": "code",
   "execution_count": 1,
   "id": "7f3b93cf",
   "metadata": {},
   "outputs": [
    {
     "name": "stdout",
     "output_type": "stream",
     "text": [
      "1842\n"
     ]
    }
   ],
   "source": [
    "g={\"good\":666,\"ok\":999,\"cat\":88,\"dog\":89}\n",
    "print(sum(g.values()))"
   ]
  },
  {
   "cell_type": "code",
   "execution_count": 3,
   "id": "9ed701c2",
   "metadata": {},
   "outputs": [
    {
     "name": "stdout",
     "output_type": "stream",
     "text": [
      "28260882\n"
     ]
    }
   ],
   "source": [
    "r={\"moon\":78,\"sun\":89,\"earth\":69,\"water\":59}\n",
    "u=1\n",
    "for i in r:\n",
    "    u=u*r[i]\n",
    "print(u)    "
   ]
  },
  {
   "cell_type": "code",
   "execution_count": 4,
   "id": "06c7f65e",
   "metadata": {},
   "outputs": [
    {
     "name": "stdout",
     "output_type": "stream",
     "text": [
      "dict_keys(['moon', 'sun', 'earth', 'water'])\n"
     ]
    }
   ],
   "source": [
    "print(r.keys())"
   ]
  },
  {
   "cell_type": "code",
   "execution_count": 5,
   "id": "e50ce56a",
   "metadata": {},
   "outputs": [
    {
     "name": "stdout",
     "output_type": "stream",
     "text": [
      "dict_keys([23, 34, 99])\n"
     ]
    }
   ],
   "source": [
    "w={23:\"car\",34:\"bike\",99:\"bus\"}\n",
    "r=w.keys()\n",
    "print(r)"
   ]
  },
  {
   "cell_type": "code",
   "execution_count": 6,
   "id": "8b18024d",
   "metadata": {},
   "outputs": [
    {
     "data": {
      "text/plain": [
       "156"
      ]
     },
     "execution_count": 6,
     "metadata": {},
     "output_type": "execute_result"
    }
   ],
   "source": [
    "sum(r)"
   ]
  },
  {
   "cell_type": "code",
   "execution_count": 11,
   "id": "3fc7e17c",
   "metadata": {},
   "outputs": [
    {
     "data": {
      "text/plain": [
       "77418"
      ]
     },
     "execution_count": 11,
     "metadata": {},
     "output_type": "execute_result"
    }
   ],
   "source": [
    "t=1\n",
    "for i in r:\n",
    "    t=t*i\n",
    "t    "
   ]
  },
  {
   "cell_type": "code",
   "execution_count": null,
   "id": "b3a330d6",
   "metadata": {},
   "outputs": [],
   "source": []
  }
 ],
 "metadata": {
  "kernelspec": {
   "display_name": "Python 3 (ipykernel)",
   "language": "python",
   "name": "python3"
  },
  "language_info": {
   "codemirror_mode": {
    "name": "ipython",
    "version": 3
   },
   "file_extension": ".py",
   "mimetype": "text/x-python",
   "name": "python",
   "nbconvert_exporter": "python",
   "pygments_lexer": "ipython3",
   "version": "3.9.12"
  }
 },
 "nbformat": 4,
 "nbformat_minor": 5
}
