{
 "cells": [
  {
   "cell_type": "code",
   "execution_count": 1,
   "id": "5e61df1c",
   "metadata": {},
   "outputs": [
    {
     "name": "stdout",
     "output_type": "stream",
     "text": [
      "10\n"
     ]
    }
   ],
   "source": [
    "a=\"abhijithtm\"\n",
    "print(len(a))"
   ]
  },
  {
   "cell_type": "code",
   "execution_count": 17,
   "id": "97ba36ae",
   "metadata": {},
   "outputs": [
    {
     "data": {
      "text/plain": [
       "4"
      ]
     },
     "execution_count": 17,
     "metadata": {},
     "output_type": "execute_result"
    }
   ],
   "source": [
    "a=\"aman and abhijith\"\n",
    "a.count(\"a\")"
   ]
  },
  {
   "cell_type": "code",
   "execution_count": 11,
   "id": "02b464ac",
   "metadata": {},
   "outputs": [
    {
     "name": "stdout",
     "output_type": "stream",
     "text": [
      "enter the string  : Abhijith TM\n",
      "The entered string in upper case is :  ABHIJITH TM\n",
      "The entered string in lower case is :  abhijith tm\n"
     ]
    }
   ],
   "source": [
    "a=input(\"enter the string  : \")\n",
    "print(\"The entered string in upper case is : \",a.upper())\n",
    "print(\"The entered string in lower case is : \",a.lower())"
   ]
  },
  {
   "cell_type": "code",
   "execution_count": 18,
   "id": "e699cec4",
   "metadata": {},
   "outputs": [
    {
     "data": {
      "text/plain": [
       "1"
      ]
     },
     "execution_count": 18,
     "metadata": {},
     "output_type": "execute_result"
    }
   ],
   "source": [
    "a=\"aman and abhijith\"\n",
    "a.count(\"and\")"
   ]
  },
  {
   "cell_type": "code",
   "execution_count": null,
   "id": "682e9ec9",
   "metadata": {},
   "outputs": [],
   "source": []
  }
 ],
 "metadata": {
  "kernelspec": {
   "display_name": "Python 3 (ipykernel)",
   "language": "python",
   "name": "python3"
  },
  "language_info": {
   "codemirror_mode": {
    "name": "ipython",
    "version": 3
   },
   "file_extension": ".py",
   "mimetype": "text/x-python",
   "name": "python",
   "nbconvert_exporter": "python",
   "pygments_lexer": "ipython3",
   "version": "3.9.12"
  }
 },
 "nbformat": 4,
 "nbformat_minor": 5
}
