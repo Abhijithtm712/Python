{
 "cells": [
  {
   "cell_type": "code",
   "execution_count": 1,
   "id": "ac6755f3",
   "metadata": {},
   "outputs": [
    {
     "data": {
      "text/plain": [
       "32"
      ]
     },
     "execution_count": 1,
     "metadata": {},
     "output_type": "execute_result"
    }
   ],
   "source": [
    "h=32\n",
    "h"
   ]
  },
  {
   "cell_type": "code",
   "execution_count": 2,
   "id": "e6fef3cc",
   "metadata": {},
   "outputs": [
    {
     "name": "stdout",
     "output_type": "stream",
     "text": [
      "32\n"
     ]
    }
   ],
   "source": [
    "print(h)"
   ]
  },
  {
   "cell_type": "code",
   "execution_count": 3,
   "id": "c8d4130e",
   "metadata": {},
   "outputs": [
    {
     "name": "stdout",
     "output_type": "stream",
     "text": [
      "<class 'int'>\n"
     ]
    }
   ],
   "source": [
    "print(type(h))"
   ]
  },
  {
   "cell_type": "code",
   "execution_count": 4,
   "id": "b66ae98a",
   "metadata": {},
   "outputs": [
    {
     "data": {
      "text/plain": [
       "'abhijith'"
      ]
     },
     "execution_count": 4,
     "metadata": {},
     "output_type": "execute_result"
    }
   ],
   "source": [
    "m='abhijith'\n",
    "m"
   ]
  },
  {
   "cell_type": "code",
   "execution_count": 7,
   "id": "f4c63617",
   "metadata": {},
   "outputs": [
    {
     "data": {
      "text/plain": [
       "'abhijith'"
      ]
     },
     "execution_count": 7,
     "metadata": {},
     "output_type": "execute_result"
    }
   ],
   "source": [
    "n=\"abhijith\"\n",
    "n"
   ]
  },
  {
   "cell_type": "code",
   "execution_count": 8,
   "id": "48acddcc",
   "metadata": {},
   "outputs": [
    {
     "name": "stdout",
     "output_type": "stream",
     "text": [
      "abhijith\n"
     ]
    }
   ],
   "source": [
    "print(n)"
   ]
  },
  {
   "cell_type": "code",
   "execution_count": 9,
   "id": "cef080da",
   "metadata": {},
   "outputs": [
    {
     "name": "stdout",
     "output_type": "stream",
     "text": [
      "<class 'str'>\n"
     ]
    }
   ],
   "source": [
    "print(type(n))"
   ]
  },
  {
   "cell_type": "code",
   "execution_count": 10,
   "id": "5f913523",
   "metadata": {},
   "outputs": [
    {
     "data": {
      "text/plain": [
       "0.8"
      ]
     },
     "execution_count": 10,
     "metadata": {},
     "output_type": "execute_result"
    }
   ],
   "source": [
    "f=0.8\n",
    "f"
   ]
  },
  {
   "cell_type": "code",
   "execution_count": 11,
   "id": "f6ba6ee4",
   "metadata": {},
   "outputs": [
    {
     "name": "stdout",
     "output_type": "stream",
     "text": [
      "0.8\n"
     ]
    }
   ],
   "source": [
    "print(f)"
   ]
  },
  {
   "cell_type": "code",
   "execution_count": 12,
   "id": "bc516737",
   "metadata": {},
   "outputs": [
    {
     "name": "stdout",
     "output_type": "stream",
     "text": [
      "<class 'float'>\n"
     ]
    }
   ],
   "source": [
    "print(type(f))"
   ]
  },
  {
   "cell_type": "code",
   "execution_count": 13,
   "id": "9cb4f6e8",
   "metadata": {},
   "outputs": [
    {
     "data": {
      "text/plain": [
       "50"
      ]
     },
     "execution_count": 13,
     "metadata": {},
     "output_type": "execute_result"
    }
   ],
   "source": [
    "20+30"
   ]
  },
  {
   "cell_type": "code",
   "execution_count": 14,
   "id": "28b9ab09",
   "metadata": {},
   "outputs": [
    {
     "name": "stdout",
     "output_type": "stream",
     "text": [
      "100\n"
     ]
    }
   ],
   "source": [
    "a=50\n",
    "b=50\n",
    "c=a+b\n",
    "print(c)"
   ]
  },
  {
   "cell_type": "code",
   "execution_count": 15,
   "id": "738756ce",
   "metadata": {},
   "outputs": [
    {
     "data": {
      "text/plain": [
       "int"
      ]
     },
     "execution_count": 15,
     "metadata": {},
     "output_type": "execute_result"
    }
   ],
   "source": [
    "type(c)"
   ]
  },
  {
   "cell_type": "code",
   "execution_count": 16,
   "id": "da682325",
   "metadata": {},
   "outputs": [
    {
     "name": "stdout",
     "output_type": "stream",
     "text": [
      "100\n"
     ]
    }
   ],
   "source": [
    "f=20\n",
    "g=80\n",
    "t=f+g\n",
    "print(t)"
   ]
  },
  {
   "cell_type": "code",
   "execution_count": 17,
   "id": "abc24f20",
   "metadata": {},
   "outputs": [
    {
     "name": "stdout",
     "output_type": "stream",
     "text": [
      "100\n"
     ]
    }
   ],
   "source": [
    "print(80+20)"
   ]
  },
  {
   "cell_type": "code",
   "execution_count": 18,
   "id": "e4470938",
   "metadata": {},
   "outputs": [
    {
     "name": "stdout",
     "output_type": "stream",
     "text": [
      "100\n"
     ]
    }
   ],
   "source": [
    "print(f+g)"
   ]
  },
  {
   "cell_type": "code",
   "execution_count": 19,
   "id": "052dd1d0",
   "metadata": {},
   "outputs": [
    {
     "name": "stdout",
     "output_type": "stream",
     "text": [
      "it is a positive number\n"
     ]
    }
   ],
   "source": [
    "b=20\n",
    "if b>0:\n",
    "    print(\"it is a positive number\")\n",
    "else:\n",
    "    print(\"it is a negative number\")"
   ]
  },
  {
   "cell_type": "code",
   "execution_count": 20,
   "id": "f2eb92d2",
   "metadata": {},
   "outputs": [
    {
     "name": "stdout",
     "output_type": "stream",
     "text": [
      "it is a negative number\n"
     ]
    }
   ],
   "source": [
    "b=-20\n",
    "if b>0:\n",
    "    print(\"it is a positive number\")\n",
    "else:\n",
    "    print(\"it is a negative number\")"
   ]
  },
  {
   "cell_type": "code",
   "execution_count": 21,
   "id": "c2d60720",
   "metadata": {},
   "outputs": [
    {
     "name": "stdout",
     "output_type": "stream",
     "text": [
      "it is a positive number\n"
     ]
    }
   ],
   "source": [
    "c=30\n",
    "if c>0:\n",
    "    print(\"it is a positive number\")\n",
    "elif c<0:\n",
    "    print(\"it is a negative number\")\n",
    "else:\n",
    "    print(\"it is 0\")"
   ]
  },
  {
   "cell_type": "code",
   "execution_count": 22,
   "id": "e07d8aa5",
   "metadata": {},
   "outputs": [
    {
     "name": "stdout",
     "output_type": "stream",
     "text": [
      "it is a negative number\n"
     ]
    }
   ],
   "source": [
    "c=-30\n",
    "if c>0:\n",
    "    print(\"it is a positive number\")\n",
    "elif c<0:\n",
    "    print(\"it is a negative number\")\n",
    "else:\n",
    "    print(\"it is 0\")"
   ]
  },
  {
   "cell_type": "code",
   "execution_count": 23,
   "id": "3408627d",
   "metadata": {},
   "outputs": [
    {
     "name": "stdout",
     "output_type": "stream",
     "text": [
      "it is 0\n"
     ]
    }
   ],
   "source": [
    "c=0\n",
    "if c>0:\n",
    "    print(\"it is a positive number\")\n",
    "elif c<0:\n",
    "    print(\"it is a negative number\")\n",
    "else:\n",
    "    print(\"it is 0\")"
   ]
  },
  {
   "cell_type": "code",
   "execution_count": 24,
   "id": "d27fe7aa",
   "metadata": {},
   "outputs": [
    {
     "name": "stdout",
     "output_type": "stream",
     "text": [
      "10\n",
      "20\n",
      "30\n",
      "40\n"
     ]
    }
   ],
   "source": [
    "g=[10,20,30,40]\n",
    "for i in g:\n",
    "    print(i)"
   ]
  },
  {
   "cell_type": "code",
   "execution_count": 25,
   "id": "7f92576a",
   "metadata": {},
   "outputs": [
    {
     "name": "stdout",
     "output_type": "stream",
     "text": [
      "[10, 20, 30, 40]\n"
     ]
    }
   ],
   "source": [
    "g=[10,20,30,40]\n",
    "print(g)"
   ]
  },
  {
   "cell_type": "code",
   "execution_count": 26,
   "id": "da4b1af1",
   "metadata": {},
   "outputs": [
    {
     "name": "stdout",
     "output_type": "stream",
     "text": [
      "it is an even number\n"
     ]
    }
   ],
   "source": [
    "g=6\n",
    "if g%2==0:\n",
    "    print(\"it is an even number\")\n",
    "else:\n",
    "    print(\"it is an odd number\")"
   ]
  },
  {
   "cell_type": "code",
   "execution_count": 27,
   "id": "ae3fe7de",
   "metadata": {},
   "outputs": [
    {
     "name": "stdout",
     "output_type": "stream",
     "text": [
      "it is an odd number\n"
     ]
    }
   ],
   "source": [
    "g=7\n",
    "if g%2==0:\n",
    "    print(\"it is an even number\")\n",
    "else:\n",
    "    print(\"it is an odd number\")    "
   ]
  },
  {
   "cell_type": "code",
   "execution_count": 28,
   "id": "f4e05663",
   "metadata": {},
   "outputs": [
    {
     "name": "stdout",
     "output_type": "stream",
     "text": [
      "b is largest\n"
     ]
    }
   ],
   "source": [
    "\n",
    "a=10\n",
    "b=80\n",
    "c=20\n",
    "if (a>b)and(a>c):\n",
    "    print(\"a is largest\")\n",
    "elif (b>a)and(b>c):\n",
    "    print(\"b is largest\")\n",
    "else:\n",
    "    print(\"c is largest\")"
   ]
  },
  {
   "cell_type": "code",
   "execution_count": 29,
   "id": "28b6af66",
   "metadata": {},
   "outputs": [
    {
     "name": "stdout",
     "output_type": "stream",
     "text": [
      "emter your elements30\n",
      "enter your elements20\n",
      "50\n"
     ]
    }
   ],
   "source": [
    "a=int(input(\"emter your elements\"))\n",
    "b=int(input(\"enter your elements\"))\n",
    "c=a+b\n",
    "print(c)"
   ]
  },
  {
   "cell_type": "code",
   "execution_count": 31,
   "id": "fd70649d",
   "metadata": {},
   "outputs": [
    {
     "name": "stdout",
     "output_type": "stream",
     "text": [
      "enter your mark88\n",
      "enter your mark85\n",
      "enter your mark90\n",
      "enter your mark87\n",
      "enter your mark80\n",
      "grade is A\n"
     ]
    }
   ],
   "source": [
    "s1=int(input(\"enter your mark\"))\n",
    "s2=int(input(\"enter your mark\"))\n",
    "s3=int(input(\"enter your mark\"))\n",
    "s4=int(input(\"enter your mark\"))\n",
    "s5=int(input(\"enter your mark\"))\n",
    "avg=(s1+s2+s3+s4+s5)/5\n",
    "if (avg>=90)and (avg<=100):\n",
    "    print(\"grade is A+\")\n",
    "elif(avg>=80)and (avg<=89):\n",
    "    print(\"grade is A\")\n",
    "elif(avg>=70)and (avg<=79):\n",
    "    print(\"grade is B+\")\n",
    "elif(avg>=60)and (avg<=69):\n",
    "    print(\"grade is B\")\n",
    "elif(avg>=50)and (avg<=59):\n",
    "    print(\"grade is C\")\n",
    "elif(avg>=40)and (avg<=49):\n",
    "    print(\"grade is D\")\n",
    "else:\n",
    "    print(\"your are failed\")"
   ]
  },
  {
   "cell_type": "code",
   "execution_count": 32,
   "id": "bce47eb7",
   "metadata": {},
   "outputs": [
    {
     "name": "stdout",
     "output_type": "stream",
     "text": [
      "enter your mark30\n",
      "enter your mark33\n",
      "enter your mark23\n",
      "enter your mark32\n",
      "enter your mark28\n",
      "your are failed\n"
     ]
    }
   ],
   "source": [
    "s1=int(input(\"enter your mark\"))\n",
    "s2=int(input(\"enter your mark\"))\n",
    "s3=int(input(\"enter your mark\"))\n",
    "s4=int(input(\"enter your mark\"))\n",
    "s5=int(input(\"enter your mark\"))\n",
    "avg=(s1+s2+s3+s4+s5)/5\n",
    "if (avg>=90)and (avg<=100):\n",
    "    print(\"grade is A+\")\n",
    "elif(avg>=80)and (avg<=89):\n",
    "    print(\"grade is A\")\n",
    "elif(avg>=70)and (avg<=79):\n",
    "    print(\"grade is B+\")\n",
    "elif(avg>=60)and (avg<=69):\n",
    "    print(\"grade is B\")\n",
    "elif(avg>=50)and (avg<=59):\n",
    "    print(\"grade is C\")\n",
    "elif(avg>=40)and (avg<=49):\n",
    "    print(\"grade is D\")\n",
    "else:\n",
    "    print(\"your are failed\")"
   ]
  },
  {
   "cell_type": "code",
   "execution_count": 34,
   "id": "abe921d2",
   "metadata": {},
   "outputs": [
    {
     "name": "stdout",
     "output_type": "stream",
     "text": [
      "enter the number88\n",
      "enter the number99\n",
      "enter the number60\n",
      "b is largest\n"
     ]
    }
   ],
   "source": [
    "a=int(input(\"enter the number\"))\n",
    "b=int(input(\"enter the number\"))\n",
    "c=int(input(\"enter the number\"))\n",
    "if (a>b)and(a>c):\n",
    "    print(\"a is largest\")\n",
    "elif(b>a)and(b>c):\n",
    "    print(\"b is largest\")\n",
    "else:\n",
    "    print(\"c is largest\")"
   ]
  },
  {
   "cell_type": "code",
   "execution_count": 35,
   "id": "9faa7072",
   "metadata": {},
   "outputs": [
    {
     "name": "stdout",
     "output_type": "stream",
     "text": [
      "<class 'int'>\n"
     ]
    }
   ],
   "source": [
    "a=10\n",
    "print(type(a))"
   ]
  },
  {
   "cell_type": "code",
   "execution_count": 36,
   "id": "8c5bea0f",
   "metadata": {},
   "outputs": [
    {
     "name": "stdout",
     "output_type": "stream",
     "text": [
      "<class 'str'>\n"
     ]
    }
   ],
   "source": [
    "a=\"10\"\n",
    "print(type(a))"
   ]
  },
  {
   "cell_type": "code",
   "execution_count": 37,
   "id": "40d189b9",
   "metadata": {},
   "outputs": [
    {
     "name": "stdout",
     "output_type": "stream",
     "text": [
      "400\n"
     ]
    }
   ],
   "source": [
    "a=10\n",
    "b=40\n",
    "c=a*b\n",
    "print(c)"
   ]
  },
  {
   "cell_type": "code",
   "execution_count": 38,
   "id": "915d521a",
   "metadata": {},
   "outputs": [
    {
     "name": "stdout",
     "output_type": "stream",
     "text": [
      "6.0\n"
     ]
    }
   ],
   "source": [
    "a=30\n",
    "b=5\n",
    "c=a/b\n",
    "print(c)"
   ]
  },
  {
   "cell_type": "code",
   "execution_count": 39,
   "id": "7b7e5f3a",
   "metadata": {},
   "outputs": [
    {
     "name": "stdout",
     "output_type": "stream",
     "text": [
      "0\n"
     ]
    }
   ],
   "source": [
    "a=10\n",
    "b=2\n",
    "c=a%b\n",
    "print(c)"
   ]
  },
  {
   "cell_type": "code",
   "execution_count": 40,
   "id": "9c29ca1e",
   "metadata": {},
   "outputs": [
    {
     "name": "stdout",
     "output_type": "stream",
     "text": [
      "1\n"
     ]
    }
   ],
   "source": [
    "a=10\n",
    "b=3\n",
    "c=a%b\n",
    "print(c)"
   ]
  },
  {
   "cell_type": "code",
   "execution_count": 41,
   "id": "83955040",
   "metadata": {},
   "outputs": [
    {
     "data": {
      "text/plain": [
       "11"
      ]
     },
     "execution_count": 41,
     "metadata": {},
     "output_type": "execute_result"
    }
   ],
   "source": [
    "str=\"hello world\"\n",
    "len(str)"
   ]
  },
  {
   "cell_type": "code",
   "execution_count": 42,
   "id": "60f0dda9",
   "metadata": {},
   "outputs": [
    {
     "data": {
      "text/plain": [
       "'Hello world'"
      ]
     },
     "execution_count": 42,
     "metadata": {},
     "output_type": "execute_result"
    }
   ],
   "source": [
    "str.capitalize()"
   ]
  },
  {
   "cell_type": "code",
   "execution_count": 43,
   "id": "a00318ae",
   "metadata": {},
   "outputs": [
    {
     "data": {
      "text/plain": [
       "'Hello World'"
      ]
     },
     "execution_count": 43,
     "metadata": {},
     "output_type": "execute_result"
    }
   ],
   "source": [
    "str.title()"
   ]
  },
  {
   "cell_type": "code",
   "execution_count": 44,
   "id": "73021034",
   "metadata": {},
   "outputs": [
    {
     "data": {
      "text/plain": [
       "'HELLO WORLD'"
      ]
     },
     "execution_count": 44,
     "metadata": {},
     "output_type": "execute_result"
    }
   ],
   "source": [
    "str.upper()"
   ]
  },
  {
   "cell_type": "code",
   "execution_count": 60,
   "id": "9542a580",
   "metadata": {},
   "outputs": [
    {
     "data": {
      "text/plain": [
       "'hello world hello'"
      ]
     },
     "execution_count": 60,
     "metadata": {},
     "output_type": "execute_result"
    }
   ],
   "source": [
    "str1=\"HellO WORLD HellO\"\n",
    "str1.lower()"
   ]
  },
  {
   "cell_type": "code",
   "execution_count": 63,
   "id": "fc5542c9",
   "metadata": {},
   "outputs": [
    {
     "data": {
      "text/plain": [
       "2"
      ]
     },
     "execution_count": 63,
     "metadata": {},
     "output_type": "execute_result"
    }
   ],
   "source": [
    "sub=\"l\"\n",
    "str1.count(sub,0,4)"
   ]
  },
  {
   "cell_type": "code",
   "execution_count": 62,
   "id": "f04169c3",
   "metadata": {},
   "outputs": [
    {
     "data": {
      "text/plain": [
       "2"
      ]
     },
     "execution_count": 62,
     "metadata": {},
     "output_type": "execute_result"
    }
   ],
   "source": [
    "sub=\"HellO\"\n",
    "str1.count(sub,0,20)"
   ]
  },
  {
   "cell_type": "code",
   "execution_count": 64,
   "id": "87db2e6e",
   "metadata": {},
   "outputs": [
    {
     "data": {
      "text/plain": [
       "True"
      ]
     },
     "execution_count": 64,
     "metadata": {},
     "output_type": "execute_result"
    }
   ],
   "source": [
    "str3=\"welcome2022\"\n",
    "str3.isalnum()"
   ]
  },
  {
   "cell_type": "code",
   "execution_count": 65,
   "id": "4d29e37d",
   "metadata": {},
   "outputs": [
    {
     "data": {
      "text/plain": [
       "False"
      ]
     },
     "execution_count": 65,
     "metadata": {},
     "output_type": "execute_result"
    }
   ],
   "source": [
    "str4=\"welcome aaa\"\n",
    "str4.isalnum()"
   ]
  },
  {
   "cell_type": "code",
   "execution_count": 66,
   "id": "57bf40d5",
   "metadata": {},
   "outputs": [
    {
     "data": {
      "text/plain": [
       "False"
      ]
     },
     "execution_count": 66,
     "metadata": {},
     "output_type": "execute_result"
    }
   ],
   "source": [
    "str=\"hello44\"\n",
    "str.isalpha()"
   ]
  },
  {
   "cell_type": "code",
   "execution_count": 67,
   "id": "9c052bb4",
   "metadata": {},
   "outputs": [
    {
     "data": {
      "text/plain": [
       "True"
      ]
     },
     "execution_count": 67,
     "metadata": {},
     "output_type": "execute_result"
    }
   ],
   "source": [
    "str=\"1234\"\n",
    "str.isdigit()"
   ]
  },
  {
   "cell_type": "code",
   "execution_count": 68,
   "id": "5502aed8",
   "metadata": {},
   "outputs": [
    {
     "data": {
      "text/plain": [
       "True"
      ]
     },
     "execution_count": 68,
     "metadata": {},
     "output_type": "execute_result"
    }
   ],
   "source": [
    "str=\"   \"\n",
    "str.isspace()"
   ]
  },
  {
   "cell_type": "code",
   "execution_count": 69,
   "id": "57d0e802",
   "metadata": {},
   "outputs": [
    {
     "data": {
      "text/plain": [
       "False"
      ]
     },
     "execution_count": 69,
     "metadata": {},
     "output_type": "execute_result"
    }
   ],
   "source": [
    "str=\"0   5\"\n",
    "str.isspace()"
   ]
  },
  {
   "cell_type": "code",
   "execution_count": 70,
   "id": "da27a9cc",
   "metadata": {},
   "outputs": [
    {
     "data": {
      "text/plain": [
       "True"
      ]
     },
     "execution_count": 70,
     "metadata": {},
     "output_type": "execute_result"
    }
   ],
   "source": [
    "str=\"keyboard\"\n",
    "str.islower()"
   ]
  },
  {
   "cell_type": "code",
   "execution_count": 72,
   "id": "a59e3f2c",
   "metadata": {},
   "outputs": [
    {
     "data": {
      "text/plain": [
       "False"
      ]
     },
     "execution_count": 72,
     "metadata": {},
     "output_type": "execute_result"
    }
   ],
   "source": [
    "str=\"334\"\n",
    "str.islower()"
   ]
  },
  {
   "cell_type": "code",
   "execution_count": 73,
   "id": "b7980963",
   "metadata": {},
   "outputs": [
    {
     "data": {
      "text/plain": [
       "True"
      ]
     },
     "execution_count": 73,
     "metadata": {},
     "output_type": "execute_result"
    }
   ],
   "source": [
    "str=\"GOOD\"\n",
    "str.isupper()"
   ]
  },
  {
   "cell_type": "code",
   "execution_count": 74,
   "id": "4e1220b7",
   "metadata": {},
   "outputs": [
    {
     "data": {
      "text/plain": [
       "True"
      ]
     },
     "execution_count": 74,
     "metadata": {},
     "output_type": "execute_result"
    }
   ],
   "source": [
    "str=\"Hello World\"\n",
    "str.istitle()"
   ]
  },
  {
   "cell_type": "code",
   "execution_count": 76,
   "id": "6febe70d",
   "metadata": {},
   "outputs": [
    {
     "data": {
      "text/plain": [
       "False"
      ]
     },
     "execution_count": 76,
     "metadata": {},
     "output_type": "execute_result"
    }
   ],
   "source": [
    "str=\"Hello world\"\n",
    "str.istitle()"
   ]
  },
  {
   "cell_type": "code",
   "execution_count": 77,
   "id": "1af119d4",
   "metadata": {},
   "outputs": [
    {
     "data": {
      "text/plain": [
       "' Hello world '"
      ]
     },
     "execution_count": 77,
     "metadata": {},
     "output_type": "execute_result"
    }
   ],
   "source": [
    "str=\"lll Hello world lll\"\n",
    "str.strip(\"l\")"
   ]
  },
  {
   "cell_type": "code",
   "execution_count": 78,
   "id": "25f78724",
   "metadata": {},
   "outputs": [
    {
     "data": {
      "text/plain": [
       "'0l Hello world l0'"
      ]
     },
     "execution_count": 78,
     "metadata": {},
     "output_type": "execute_result"
    }
   ],
   "source": [
    "str=\"l0l Hello world l0l\"\n",
    "str.strip(\"l\")"
   ]
  },
  {
   "cell_type": "code",
   "execution_count": 79,
   "id": "ab6359af",
   "metadata": {},
   "outputs": [
    {
     "data": {
      "text/plain": [
       "('welcome yo', 'u', '')"
      ]
     },
     "execution_count": 79,
     "metadata": {},
     "output_type": "execute_result"
    }
   ],
   "source": [
    "str=\"welcome you\"\n",
    "str.partition(\"u\")"
   ]
  },
  {
   "cell_type": "code",
   "execution_count": 80,
   "id": "cefc1d59",
   "metadata": {},
   "outputs": [
    {
     "data": {
      "text/plain": [
       "['welcome', 'you']"
      ]
     },
     "execution_count": 80,
     "metadata": {},
     "output_type": "execute_result"
    }
   ],
   "source": [
    "str.split()"
   ]
  },
  {
   "cell_type": "code",
   "execution_count": 84,
   "id": "f4c522a8",
   "metadata": {},
   "outputs": [
    {
     "data": {
      "text/plain": [
       "'WELCOME YOU'"
      ]
     },
     "execution_count": 84,
     "metadata": {},
     "output_type": "execute_result"
    }
   ],
   "source": [
    "str.swapcase()"
   ]
  },
  {
   "cell_type": "code",
   "execution_count": 89,
   "id": "c9755416",
   "metadata": {},
   "outputs": [
    {
     "data": {
      "text/plain": [
       "'hELLO WORLD'"
      ]
     },
     "execution_count": 89,
     "metadata": {},
     "output_type": "execute_result"
    }
   ],
   "source": [
    "str=\"Hello world\"\n",
    "str.swapcase()"
   ]
  },
  {
   "cell_type": "code",
   "execution_count": 90,
   "id": "609a0679",
   "metadata": {},
   "outputs": [
    {
     "data": {
      "text/plain": [
       "'H*e*l*l*o* *w*o*r*l*d'"
      ]
     },
     "execution_count": 90,
     "metadata": {},
     "output_type": "execute_result"
    }
   ],
   "source": [
    "t=\"*\"\n",
    "t.join(str)"
   ]
  },
  {
   "cell_type": "code",
   "execution_count": null,
   "id": "d3206d9e",
   "metadata": {},
   "outputs": [],
   "source": [
    "str=\"this is a car\"\n",
    "str.replace(\"is\",\"was\")"
   ]
  },
  {
   "cell_type": "markdown",
   "id": "948be777",
   "metadata": {},
   "source": [
    "2 AUGUST \n"
   ]
  },
  {
   "cell_type": "markdown",
   "id": "b1c2e293",
   "metadata": {},
   "source": [
    "# LIST"
   ]
  },
  {
   "cell_type": "code",
   "execution_count": 91,
   "id": "bae3cd13",
   "metadata": {},
   "outputs": [
    {
     "name": "stdout",
     "output_type": "stream",
     "text": [
      "<class 'list'>\n"
     ]
    }
   ],
   "source": [
    "mylist=[]\n",
    "print(type (mylist))"
   ]
  },
  {
   "cell_type": "code",
   "execution_count": 92,
   "id": "f5bd6255",
   "metadata": {},
   "outputs": [
    {
     "name": "stdout",
     "output_type": "stream",
     "text": [
      "[1, 2, 3]\n"
     ]
    }
   ],
   "source": [
    "mylist=[1,2,3]\n",
    "print(mylist)"
   ]
  },
  {
   "cell_type": "code",
   "execution_count": 93,
   "id": "9a66338c",
   "metadata": {},
   "outputs": [
    {
     "name": "stdout",
     "output_type": "stream",
     "text": [
      "['hello', 1, 2, 3]\n"
     ]
    }
   ],
   "source": [
    "mylist=[\"hello\",1,2,3]\n",
    "print(mylist)"
   ]
  },
  {
   "cell_type": "code",
   "execution_count": 96,
   "id": "1bc12d48",
   "metadata": {},
   "outputs": [
    {
     "name": "stdout",
     "output_type": "stream",
     "text": [
      "['hello', [1, 2, 3]]\n"
     ]
    }
   ],
   "source": [
    "mylist=[\"hello\",[1,2,3]]\n",
    "print(mylist)"
   ]
  },
  {
   "cell_type": "code",
   "execution_count": 97,
   "id": "268f7964",
   "metadata": {},
   "outputs": [
    {
     "name": "stdout",
     "output_type": "stream",
     "text": [
      "5\n"
     ]
    }
   ],
   "source": [
    "mylist=[1,2,3,4,5]\n",
    "print(mylist[-1])"
   ]
  },
  {
   "cell_type": "code",
   "execution_count": 98,
   "id": "a12cc79b",
   "metadata": {},
   "outputs": [
    {
     "name": "stdout",
     "output_type": "stream",
     "text": [
      "4\n"
     ]
    }
   ],
   "source": [
    "mylist=[1,2,3,4,5]\n",
    "print(mylist[-2])"
   ]
  },
  {
   "cell_type": "code",
   "execution_count": 100,
   "id": "7a1e16cb",
   "metadata": {},
   "outputs": [
    {
     "name": "stdout",
     "output_type": "stream",
     "text": [
      "['hello', 1, 2, 3, 4, 10, 6, 7]\n"
     ]
    }
   ],
   "source": [
    "mylist=[\"hello\",1,2,3,4,5,6,7]\n",
    "mylist[-3]=10\n",
    "print(mylist)\n"
   ]
  },
  {
   "cell_type": "code",
   "execution_count": 101,
   "id": "562ef573",
   "metadata": {},
   "outputs": [
    {
     "data": {
      "text/plain": [
       "['hello', 1, 2, 3, 4, 10, 6, 7, 20]"
      ]
     },
     "execution_count": 101,
     "metadata": {},
     "output_type": "execute_result"
    }
   ],
   "source": [
    "mylist.append(20)\n",
    "mylist"
   ]
  },
  {
   "cell_type": "code",
   "execution_count": 104,
   "id": "7d3a4347",
   "metadata": {},
   "outputs": [
    {
     "data": {
      "text/plain": [
       "['hello', 1, 2, 3, 4, 10, 6, 7, 20, 20, 30, 40, 50]"
      ]
     },
     "execution_count": 104,
     "metadata": {},
     "output_type": "execute_result"
    }
   ],
   "source": [
    "mylist.extend([20,30,40,50])\n",
    "mylist"
   ]
  },
  {
   "cell_type": "code",
   "execution_count": 105,
   "id": "43639306",
   "metadata": {},
   "outputs": [
    {
     "data": {
      "text/plain": [
       "[24, 'hello', 1, 2, 3, 4, 10, 6, 7, 20, 20, 30, 40, 50]"
      ]
     },
     "execution_count": 105,
     "metadata": {},
     "output_type": "execute_result"
    }
   ],
   "source": [
    "mylist.insert(0,24)\n",
    "mylist"
   ]
  },
  {
   "cell_type": "code",
   "execution_count": 106,
   "id": "79fcd31c",
   "metadata": {},
   "outputs": [
    {
     "data": {
      "text/plain": [
       "[24, 1, 2, 3, 4, 10, 6, 7, 20, 20, 30, 40, 50]"
      ]
     },
     "execution_count": 106,
     "metadata": {},
     "output_type": "execute_result"
    }
   ],
   "source": [
    "del mylist[1]\n",
    "mylist"
   ]
  },
  {
   "cell_type": "code",
   "execution_count": 107,
   "id": "099c45fb",
   "metadata": {},
   "outputs": [
    {
     "data": {
      "text/plain": [
       "['soap', 'shampoo', 'paste']"
      ]
     },
     "execution_count": 107,
     "metadata": {},
     "output_type": "execute_result"
    }
   ],
   "source": [
    "items=[\"soap\",\"shampoo\",\"brush\",\"paste\"]\n",
    "items.remove(\"brush\")\n",
    "items"
   ]
  },
  {
   "cell_type": "code",
   "execution_count": 108,
   "id": "c20fe188",
   "metadata": {},
   "outputs": [
    {
     "data": {
      "text/plain": [
       "['soap', 'shampoo', 'brush', 'paste', 30, 40]"
      ]
     },
     "execution_count": 108,
     "metadata": {},
     "output_type": "execute_result"
    }
   ],
   "source": [
    "items=[\"soap\",\"shampoo\",\"brush\",\"paste\",20,30,40]\n",
    "items.remove(20)\n",
    "items"
   ]
  },
  {
   "cell_type": "code",
   "execution_count": 112,
   "id": "e24c6a29",
   "metadata": {},
   "outputs": [
    {
     "data": {
      "text/plain": [
       "['soap', 'shampoo', 'brush', 'paste', 30, 40]"
      ]
     },
     "execution_count": 112,
     "metadata": {},
     "output_type": "execute_result"
    }
   ],
   "source": [
    "items1=[\"car\",\"bike\",20,30,20,40]\n",
    "items1.remove(20)\n",
    "items"
   ]
  },
  {
   "cell_type": "code",
   "execution_count": 114,
   "id": "18140ae2",
   "metadata": {},
   "outputs": [
    {
     "data": {
      "text/plain": [
       "[10, 40, 50]"
      ]
     },
     "execution_count": 114,
     "metadata": {},
     "output_type": "execute_result"
    }
   ],
   "source": [
    "items=[20,30,10,40,50]\n",
    "items[2:]"
   ]
  },
  {
   "cell_type": "code",
   "execution_count": 115,
   "id": "625ab6a7",
   "metadata": {},
   "outputs": [
    {
     "data": {
      "text/plain": [
       "[20, 30, 10, 40]"
      ]
     },
     "execution_count": 115,
     "metadata": {},
     "output_type": "execute_result"
    }
   ],
   "source": [
    "items=[20,30,10,40,50]\n",
    "items[0:-1]"
   ]
  },
  {
   "cell_type": "code",
   "execution_count": 116,
   "id": "2dff9725",
   "metadata": {},
   "outputs": [
    {
     "data": {
      "text/plain": [
       "[20, 30, 10, 40]"
      ]
     },
     "execution_count": 116,
     "metadata": {},
     "output_type": "execute_result"
    }
   ],
   "source": [
    "items=[20,30,10,40,50]\n",
    "items[:4]"
   ]
  },
  {
   "cell_type": "code",
   "execution_count": 119,
   "id": "aa593c45",
   "metadata": {},
   "outputs": [
    {
     "data": {
      "text/plain": [
       "[10, 40]"
      ]
     },
     "execution_count": 119,
     "metadata": {},
     "output_type": "execute_result"
    }
   ],
   "source": [
    "items=[20,30,10,40,50,40]\n",
    "items[2:4]"
   ]
  },
  {
   "cell_type": "code",
   "execution_count": 120,
   "id": "ef60e624",
   "metadata": {},
   "outputs": [
    {
     "data": {
      "text/plain": [
       "2"
      ]
     },
     "execution_count": 120,
     "metadata": {},
     "output_type": "execute_result"
    }
   ],
   "source": [
    "items.count(40)"
   ]
  },
  {
   "cell_type": "code",
   "execution_count": 121,
   "id": "02e27e0a",
   "metadata": {},
   "outputs": [
    {
     "data": {
      "text/plain": [
       "['abhijith', 'aman', 1, 2, 3, 'pranav', 'rithul', 4, 5, 6]"
      ]
     },
     "execution_count": 121,
     "metadata": {},
     "output_type": "execute_result"
    }
   ],
   "source": [
    "list1=[\"abhijith\",\"aman\",1,2,3]\n",
    "list2=[\"pranav\",\"rithul\",4,5,6]\n",
    "list1.extend(list2)\n",
    "list1"
   ]
  },
  {
   "cell_type": "code",
   "execution_count": 122,
   "id": "669d41d6",
   "metadata": {},
   "outputs": [
    {
     "data": {
      "text/plain": [
       "['pranav', 'rithul', 4, 5, 6, 'abhijith', 'aman', 1, 2, 3]"
      ]
     },
     "execution_count": 122,
     "metadata": {},
     "output_type": "execute_result"
    }
   ],
   "source": [
    "list1=[\"abhijith\",\"aman\",1,2,3]\n",
    "list2=[\"pranav\",\"rithul\",4,5,6]\n",
    "list2.extend(list1)\n",
    "list2"
   ]
  },
  {
   "cell_type": "code",
   "execution_count": 123,
   "id": "439c3a8e",
   "metadata": {},
   "outputs": [
    {
     "name": "stdout",
     "output_type": "stream",
     "text": [
      "enter your location3\n",
      "enter your data55\n"
     ]
    },
    {
     "data": {
      "text/plain": [
       "[20, 30, 40, 55, 50, 60]"
      ]
     },
     "execution_count": 123,
     "metadata": {},
     "output_type": "execute_result"
    }
   ],
   "source": [
    "mylist=[20,30,40,50,60]\n",
    "a=int(input(\"enter your location\"))\n",
    "b=int(input(\"enter your data\"))\n",
    "mylist.insert(a,b)\n",
    "mylist"
   ]
  },
  {
   "cell_type": "code",
   "execution_count": 124,
   "id": "68a4ad90",
   "metadata": {},
   "outputs": [
    {
     "name": "stdout",
     "output_type": "stream",
     "text": [
      "enter your location3\n"
     ]
    },
    {
     "data": {
      "text/plain": [
       "[20, 30, 40, 60]"
      ]
     },
     "execution_count": 124,
     "metadata": {},
     "output_type": "execute_result"
    }
   ],
   "source": [
    "mylist=[20,30,40,50,60]\n",
    "a=int(input(\"enter your location\"))\n",
    "del mylist[a]\n",
    "mylist"
   ]
  },
  {
   "cell_type": "code",
   "execution_count": 126,
   "id": "be6cb907",
   "metadata": {},
   "outputs": [
    {
     "name": "stdout",
     "output_type": "stream",
     "text": [
      "enter your location50\n"
     ]
    },
    {
     "data": {
      "text/plain": [
       "[20, 30, 40, 60]"
      ]
     },
     "execution_count": 126,
     "metadata": {},
     "output_type": "execute_result"
    }
   ],
   "source": [
    "mylist=[20,30,40,50,60]\n",
    "a=int(input(\"enter your location\"))\n",
    "mylist.remove(a)\n",
    "mylist"
   ]
  },
  {
   "cell_type": "markdown",
   "id": "dd7376f8",
   "metadata": {},
   "source": [
    "6th AUGUST"
   ]
  },
  {
   "cell_type": "code",
   "execution_count": 3,
   "id": "53e2bd04",
   "metadata": {},
   "outputs": [
    {
     "name": "stdout",
     "output_type": "stream",
     "text": [
      "48\n"
     ]
    }
   ],
   "source": [
    "mylist=[\"pranav\",53,48,29,\"rithul\"]\n",
    "print(mylist[2])"
   ]
  },
  {
   "cell_type": "code",
   "execution_count": 4,
   "id": "6b901832",
   "metadata": {},
   "outputs": [
    {
     "name": "stdout",
     "output_type": "stream",
     "text": [
      "rithul\n"
     ]
    }
   ],
   "source": [
    "print(mylist[-1])"
   ]
  },
  {
   "cell_type": "code",
   "execution_count": 6,
   "id": "e852c6b6",
   "metadata": {},
   "outputs": [
    {
     "name": "stdout",
     "output_type": "stream",
     "text": [
      "['abhijith', 74, 64, 85, 'anjaly']\n"
     ]
    }
   ],
   "source": [
    "#COPY METHOD\n",
    "mylist=[\"abhijith\",74,64,85,\"anjaly\"]\n",
    "items=mylist\n",
    "print(mylist)"
   ]
  },
  {
   "cell_type": "code",
   "execution_count": 7,
   "id": "d24a7146",
   "metadata": {},
   "outputs": [
    {
     "name": "stdout",
     "output_type": "stream",
     "text": [
      "['abhijith', 74, 64, 85, 'anjaly']\n"
     ]
    }
   ],
   "source": [
    "print(items)"
   ]
  },
  {
   "cell_type": "code",
   "execution_count": 8,
   "id": "1dd4bc27",
   "metadata": {},
   "outputs": [
    {
     "name": "stdout",
     "output_type": "stream",
     "text": [
      "['abhijith', 74, 84, 85, 'anjaly']\n"
     ]
    }
   ],
   "source": [
    "items[2]=84\n",
    "print(items)"
   ]
  },
  {
   "cell_type": "code",
   "execution_count": 9,
   "id": "1fb61148",
   "metadata": {},
   "outputs": [
    {
     "name": "stdout",
     "output_type": "stream",
     "text": [
      "['abhijith', 74, 84, 85, 'anjaly']\n"
     ]
    }
   ],
   "source": [
    "print(mylist)"
   ]
  },
  {
   "cell_type": "code",
   "execution_count": 12,
   "id": "b9ae049a",
   "metadata": {},
   "outputs": [
    {
     "name": "stdout",
     "output_type": "stream",
     "text": [
      "['abhijith', 74, 84, 86, 'anjaly']\n",
      "['abhijith', 74, 84, 85, 'anjaly']\n"
     ]
    }
   ],
   "source": [
    "items=mylist.copy()\n",
    "items[3]=86\n",
    "print(items)\n",
    "print(mylist)"
   ]
  },
  {
   "cell_type": "code",
   "execution_count": null,
   "id": "6004a4f4",
   "metadata": {},
   "outputs": [],
   "source": []
  }
 ],
 "metadata": {
  "kernelspec": {
   "display_name": "Python 3 (ipykernel)",
   "language": "python",
   "name": "python3"
  },
  "language_info": {
   "codemirror_mode": {
    "name": "ipython",
    "version": 3
   },
   "file_extension": ".py",
   "mimetype": "text/x-python",
   "name": "python",
   "nbconvert_exporter": "python",
   "pygments_lexer": "ipython3",
   "version": "3.9.12"
  }
 },
 "nbformat": 4,
 "nbformat_minor": 5
}
