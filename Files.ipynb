{
 "cells": [
  {
   "cell_type": "code",
   "execution_count": 2,
   "id": "c4d7fc9b",
   "metadata": {},
   "outputs": [
    {
     "data": {
      "text/plain": [
       "<_io.TextIOWrapper name='new.txt' mode='r' encoding='cp1252'>"
      ]
     },
     "execution_count": 2,
     "metadata": {},
     "output_type": "execute_result"
    }
   ],
   "source": [
    "u=open(\"new.txt\")\n",
    "u"
   ]
  },
  {
   "cell_type": "code",
   "execution_count": 4,
   "id": "1a72ff6c",
   "metadata": {},
   "outputs": [
    {
     "data": {
      "text/plain": [
       "<_io.TextIOWrapper name='new.txt' mode='w' encoding='cp1252'>"
      ]
     },
     "execution_count": 4,
     "metadata": {},
     "output_type": "execute_result"
    }
   ],
   "source": [
    "o=open(\"new.txt\",\"w\")\n",
    "o"
   ]
  },
  {
   "cell_type": "code",
   "execution_count": 7,
   "id": "77479b64",
   "metadata": {},
   "outputs": [],
   "source": [
    "u.close()"
   ]
  },
  {
   "cell_type": "code",
   "execution_count": 10,
   "id": "df3dd7a1",
   "metadata": {},
   "outputs": [],
   "source": [
    "try:\n",
    "    t=open(\"new.txt\")\n",
    "finally:\n",
    "    t.close()"
   ]
  },
  {
   "cell_type": "code",
   "execution_count": 14,
   "id": "6a6d16ec",
   "metadata": {},
   "outputs": [],
   "source": [
    "with open(\"new.txt\") as o:\n",
    "    pass"
   ]
  },
  {
   "cell_type": "code",
   "execution_count": 3,
   "id": "782654ea",
   "metadata": {},
   "outputs": [],
   "source": [
    "with open(\"new.txt\",\"w\") as a:\n",
    "    a.write(\"how are you\")\n",
    "    a.write(\"i am fine\")"
   ]
  },
  {
   "cell_type": "code",
   "execution_count": 5,
   "id": "6006d0a3",
   "metadata": {},
   "outputs": [],
   "source": [
    "with open(\"text.txt\",\"w\") as w:\n",
    "    w.write(\"welcome to\")\n",
    "    w.write(\"ooty,nice\")\n",
    "    w.write(\"to meet you\")"
   ]
  },
  {
   "cell_type": "code",
   "execution_count": 7,
   "id": "6ac67c44",
   "metadata": {},
   "outputs": [],
   "source": [
    "with open(\"run.txt\",\"w\") as t:\n",
    "    t.write(\"i am aman\")\n",
    "    t.write(\"from kozhikode\")\n",
    "    t.write(\"thenkz\")"
   ]
  },
  {
   "cell_type": "code",
   "execution_count": 13,
   "id": "5c69cf6e",
   "metadata": {},
   "outputs": [
    {
     "name": "stdout",
     "output_type": "stream",
     "text": [
      "how are youi am fine\n"
     ]
    }
   ],
   "source": [
    "with open(\"new.txt\",\"r\") as g:\n",
    "    print(g.read())\n",
    "    "
   ]
  },
  {
   "cell_type": "code",
   "execution_count": 12,
   "id": "44b3c035",
   "metadata": {},
   "outputs": [
    {
     "data": {
      "text/plain": [
       "'how are youi am fine'"
      ]
     },
     "execution_count": 12,
     "metadata": {},
     "output_type": "execute_result"
    }
   ],
   "source": [
    "h=open(\"new.txt\",\"r\")\n",
    "h.read()"
   ]
  },
  {
   "cell_type": "code",
   "execution_count": null,
   "id": "9274b757",
   "metadata": {},
   "outputs": [],
   "source": []
  }
 ],
 "metadata": {
  "kernelspec": {
   "display_name": "Python 3 (ipykernel)",
   "language": "python",
   "name": "python3"
  },
  "language_info": {
   "codemirror_mode": {
    "name": "ipython",
    "version": 3
   },
   "file_extension": ".py",
   "mimetype": "text/x-python",
   "name": "python",
   "nbconvert_exporter": "python",
   "pygments_lexer": "ipython3",
   "version": "3.9.12"
  }
 },
 "nbformat": 4,
 "nbformat_minor": 5
}
