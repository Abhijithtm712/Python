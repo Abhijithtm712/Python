{
 "cells": [
  {
   "cell_type": "code",
   "execution_count": 1,
   "id": "251189d5",
   "metadata": {},
   "outputs": [],
   "source": [
    "import pandas as pd"
   ]
  },
  {
   "cell_type": "code",
   "execution_count": 2,
   "id": "d8dd1fbf",
   "metadata": {},
   "outputs": [],
   "source": [
    "import numpy as np"
   ]
  },
  {
   "cell_type": "code",
   "execution_count": 3,
   "id": "53c7011a",
   "metadata": {},
   "outputs": [
    {
     "data": {
      "text/plain": [
       "0     1.0\n",
       "1     2.0\n",
       "2     3.0\n",
       "3     4.0\n",
       "4     5.0\n",
       "5     6.0\n",
       "6     NaN\n",
       "7     8.0\n",
       "8     9.0\n",
       "9    10.0\n",
       "dtype: float64"
      ]
     },
     "execution_count": 3,
     "metadata": {},
     "output_type": "execute_result"
    }
   ],
   "source": [
    "h=pd.Series([1,2,3,4,5,6,np.nan,8,9,10])\n",
    "h"
   ]
  },
  {
   "cell_type": "code",
   "execution_count": 4,
   "id": "2d305137",
   "metadata": {},
   "outputs": [
    {
     "data": {
      "text/plain": [
       "DatetimeIndex(['2001-12-31', '2002-01-01', '2002-01-02', '2002-01-03',\n",
       "               '2002-01-04', '2002-01-05', '2002-01-06', '2002-01-07',\n",
       "               '2002-01-08', '2002-01-09'],\n",
       "              dtype='datetime64[ns]', freq='D')"
      ]
     },
     "execution_count": 4,
     "metadata": {},
     "output_type": "execute_result"
    }
   ],
   "source": [
    "d=pd.date_range(\"20011231\",periods=10)\n",
    "d"
   ]
  },
  {
   "cell_type": "code",
   "execution_count": 5,
   "id": "978b3232",
   "metadata": {},
   "outputs": [
    {
     "data": {
      "text/html": [
       "<div>\n",
       "<style scoped>\n",
       "    .dataframe tbody tr th:only-of-type {\n",
       "        vertical-align: middle;\n",
       "    }\n",
       "\n",
       "    .dataframe tbody tr th {\n",
       "        vertical-align: top;\n",
       "    }\n",
       "\n",
       "    .dataframe thead th {\n",
       "        text-align: right;\n",
       "    }\n",
       "</style>\n",
       "<table border=\"1\" class=\"dataframe\">\n",
       "  <thead>\n",
       "    <tr style=\"text-align: right;\">\n",
       "      <th></th>\n",
       "      <th>A</th>\n",
       "      <th>B</th>\n",
       "      <th>C</th>\n",
       "      <th>D</th>\n",
       "    </tr>\n",
       "  </thead>\n",
       "  <tbody>\n",
       "    <tr>\n",
       "      <th>2001-12-31</th>\n",
       "      <td>-0.406816</td>\n",
       "      <td>0.547716</td>\n",
       "      <td>1.131047</td>\n",
       "      <td>0.493786</td>\n",
       "    </tr>\n",
       "    <tr>\n",
       "      <th>2002-01-01</th>\n",
       "      <td>0.114830</td>\n",
       "      <td>-1.201789</td>\n",
       "      <td>-0.480451</td>\n",
       "      <td>1.296259</td>\n",
       "    </tr>\n",
       "    <tr>\n",
       "      <th>2002-01-02</th>\n",
       "      <td>-0.149815</td>\n",
       "      <td>1.340481</td>\n",
       "      <td>-0.615081</td>\n",
       "      <td>0.978135</td>\n",
       "    </tr>\n",
       "    <tr>\n",
       "      <th>2002-01-03</th>\n",
       "      <td>0.933508</td>\n",
       "      <td>-1.443527</td>\n",
       "      <td>1.139573</td>\n",
       "      <td>-1.872387</td>\n",
       "    </tr>\n",
       "    <tr>\n",
       "      <th>2002-01-04</th>\n",
       "      <td>0.294547</td>\n",
       "      <td>-0.096163</td>\n",
       "      <td>1.210580</td>\n",
       "      <td>-0.349508</td>\n",
       "    </tr>\n",
       "    <tr>\n",
       "      <th>2002-01-05</th>\n",
       "      <td>-0.443673</td>\n",
       "      <td>0.595833</td>\n",
       "      <td>0.436814</td>\n",
       "      <td>-0.607595</td>\n",
       "    </tr>\n",
       "    <tr>\n",
       "      <th>2002-01-06</th>\n",
       "      <td>-0.491680</td>\n",
       "      <td>-0.153775</td>\n",
       "      <td>-0.047082</td>\n",
       "      <td>-0.767054</td>\n",
       "    </tr>\n",
       "    <tr>\n",
       "      <th>2002-01-07</th>\n",
       "      <td>-0.095448</td>\n",
       "      <td>-1.739983</td>\n",
       "      <td>0.679127</td>\n",
       "      <td>0.101511</td>\n",
       "    </tr>\n",
       "    <tr>\n",
       "      <th>2002-01-08</th>\n",
       "      <td>1.376077</td>\n",
       "      <td>0.669776</td>\n",
       "      <td>-0.663579</td>\n",
       "      <td>-0.746900</td>\n",
       "    </tr>\n",
       "    <tr>\n",
       "      <th>2002-01-09</th>\n",
       "      <td>-1.827495</td>\n",
       "      <td>0.168753</td>\n",
       "      <td>2.104594</td>\n",
       "      <td>-1.991743</td>\n",
       "    </tr>\n",
       "  </tbody>\n",
       "</table>\n",
       "</div>"
      ],
      "text/plain": [
       "                   A         B         C         D\n",
       "2001-12-31 -0.406816  0.547716  1.131047  0.493786\n",
       "2002-01-01  0.114830 -1.201789 -0.480451  1.296259\n",
       "2002-01-02 -0.149815  1.340481 -0.615081  0.978135\n",
       "2002-01-03  0.933508 -1.443527  1.139573 -1.872387\n",
       "2002-01-04  0.294547 -0.096163  1.210580 -0.349508\n",
       "2002-01-05 -0.443673  0.595833  0.436814 -0.607595\n",
       "2002-01-06 -0.491680 -0.153775 -0.047082 -0.767054\n",
       "2002-01-07 -0.095448 -1.739983  0.679127  0.101511\n",
       "2002-01-08  1.376077  0.669776 -0.663579 -0.746900\n",
       "2002-01-09 -1.827495  0.168753  2.104594 -1.991743"
      ]
     },
     "execution_count": 5,
     "metadata": {},
     "output_type": "execute_result"
    }
   ],
   "source": [
    "df=pd.DataFrame(np.random.randn(10,4),index=d,columns=[\"A\",\"B\",\"C\",\"D\"])\n",
    "df"
   ]
  },
  {
   "cell_type": "code",
   "execution_count": 6,
   "id": "f6a5b841",
   "metadata": {},
   "outputs": [
    {
     "data": {
      "text/html": [
       "<div>\n",
       "<style scoped>\n",
       "    .dataframe tbody tr th:only-of-type {\n",
       "        vertical-align: middle;\n",
       "    }\n",
       "\n",
       "    .dataframe tbody tr th {\n",
       "        vertical-align: top;\n",
       "    }\n",
       "\n",
       "    .dataframe thead th {\n",
       "        text-align: right;\n",
       "    }\n",
       "</style>\n",
       "<table border=\"1\" class=\"dataframe\">\n",
       "  <thead>\n",
       "    <tr style=\"text-align: right;\">\n",
       "      <th></th>\n",
       "      <th>A</th>\n",
       "      <th>B</th>\n",
       "      <th>C</th>\n",
       "      <th>D</th>\n",
       "      <th>E</th>\n",
       "      <th>F</th>\n",
       "    </tr>\n",
       "  </thead>\n",
       "  <tbody>\n",
       "    <tr>\n",
       "      <th>0</th>\n",
       "      <td>1</td>\n",
       "      <td>2000-10-10</td>\n",
       "      <td>1.0</td>\n",
       "      <td>5</td>\n",
       "      <td>true</td>\n",
       "      <td>Pandas</td>\n",
       "    </tr>\n",
       "    <tr>\n",
       "      <th>1</th>\n",
       "      <td>2</td>\n",
       "      <td>2000-10-10</td>\n",
       "      <td>1.0</td>\n",
       "      <td>5</td>\n",
       "      <td>false</td>\n",
       "      <td>Pandas</td>\n",
       "    </tr>\n",
       "    <tr>\n",
       "      <th>2</th>\n",
       "      <td>3</td>\n",
       "      <td>2000-10-10</td>\n",
       "      <td>1.0</td>\n",
       "      <td>5</td>\n",
       "      <td>True</td>\n",
       "      <td>Pandas</td>\n",
       "    </tr>\n",
       "    <tr>\n",
       "      <th>3</th>\n",
       "      <td>4</td>\n",
       "      <td>2000-10-10</td>\n",
       "      <td>1.0</td>\n",
       "      <td>5</td>\n",
       "      <td>False</td>\n",
       "      <td>Pandas</td>\n",
       "    </tr>\n",
       "  </tbody>\n",
       "</table>\n",
       "</div>"
      ],
      "text/plain": [
       "   A          B    C  D      E       F\n",
       "0  1 2000-10-10  1.0  5   true  Pandas\n",
       "1  2 2000-10-10  1.0  5  false  Pandas\n",
       "2  3 2000-10-10  1.0  5   True  Pandas\n",
       "3  4 2000-10-10  1.0  5  False  Pandas"
      ]
     },
     "execution_count": 6,
     "metadata": {},
     "output_type": "execute_result"
    }
   ],
   "source": [
    "d1=pd.DataFrame({\n",
    "    \"A\":[1,2,3,4],\n",
    "    \"B\":pd.Timestamp(\"20001010\"),\n",
    "    \"C\":pd.Series(1,index=list(range(4)),dtype=\"float32\"),\n",
    "    \"D\":np.array([5]*4,dtype=\"int32\"),\n",
    "    \"E\":pd.Categorical([\"true\",\"false\",\"True\",\"False\"]),\n",
    "    \"F\":\"Pandas\"\n",
    "})\n",
    "d1"
   ]
  },
  {
   "cell_type": "code",
   "execution_count": 7,
   "id": "bd73fca0",
   "metadata": {},
   "outputs": [
    {
     "data": {
      "text/plain": [
       "A             int64\n",
       "B    datetime64[ns]\n",
       "C           float32\n",
       "D             int32\n",
       "E          category\n",
       "F            object\n",
       "dtype: object"
      ]
     },
     "execution_count": 7,
     "metadata": {},
     "output_type": "execute_result"
    }
   ],
   "source": [
    "d1.dtypes"
   ]
  },
  {
   "cell_type": "code",
   "execution_count": 8,
   "id": "319a2ef1",
   "metadata": {},
   "outputs": [
    {
     "data": {
      "text/plain": [
       "A    float64\n",
       "B    float64\n",
       "C    float64\n",
       "D    float64\n",
       "dtype: object"
      ]
     },
     "execution_count": 8,
     "metadata": {},
     "output_type": "execute_result"
    }
   ],
   "source": [
    "df.dtypes"
   ]
  },
  {
   "cell_type": "code",
   "execution_count": 9,
   "id": "86800cbd",
   "metadata": {},
   "outputs": [
    {
     "data": {
      "text/html": [
       "<div>\n",
       "<style scoped>\n",
       "    .dataframe tbody tr th:only-of-type {\n",
       "        vertical-align: middle;\n",
       "    }\n",
       "\n",
       "    .dataframe tbody tr th {\n",
       "        vertical-align: top;\n",
       "    }\n",
       "\n",
       "    .dataframe thead th {\n",
       "        text-align: right;\n",
       "    }\n",
       "</style>\n",
       "<table border=\"1\" class=\"dataframe\">\n",
       "  <thead>\n",
       "    <tr style=\"text-align: right;\">\n",
       "      <th></th>\n",
       "      <th>A</th>\n",
       "      <th>B</th>\n",
       "      <th>C</th>\n",
       "      <th>D</th>\n",
       "    </tr>\n",
       "  </thead>\n",
       "  <tbody>\n",
       "    <tr>\n",
       "      <th>2001-12-31</th>\n",
       "      <td>-0.406816</td>\n",
       "      <td>0.547716</td>\n",
       "      <td>1.131047</td>\n",
       "      <td>0.493786</td>\n",
       "    </tr>\n",
       "    <tr>\n",
       "      <th>2002-01-01</th>\n",
       "      <td>0.114830</td>\n",
       "      <td>-1.201789</td>\n",
       "      <td>-0.480451</td>\n",
       "      <td>1.296259</td>\n",
       "    </tr>\n",
       "    <tr>\n",
       "      <th>2002-01-02</th>\n",
       "      <td>-0.149815</td>\n",
       "      <td>1.340481</td>\n",
       "      <td>-0.615081</td>\n",
       "      <td>0.978135</td>\n",
       "    </tr>\n",
       "    <tr>\n",
       "      <th>2002-01-03</th>\n",
       "      <td>0.933508</td>\n",
       "      <td>-1.443527</td>\n",
       "      <td>1.139573</td>\n",
       "      <td>-1.872387</td>\n",
       "    </tr>\n",
       "    <tr>\n",
       "      <th>2002-01-04</th>\n",
       "      <td>0.294547</td>\n",
       "      <td>-0.096163</td>\n",
       "      <td>1.210580</td>\n",
       "      <td>-0.349508</td>\n",
       "    </tr>\n",
       "  </tbody>\n",
       "</table>\n",
       "</div>"
      ],
      "text/plain": [
       "                   A         B         C         D\n",
       "2001-12-31 -0.406816  0.547716  1.131047  0.493786\n",
       "2002-01-01  0.114830 -1.201789 -0.480451  1.296259\n",
       "2002-01-02 -0.149815  1.340481 -0.615081  0.978135\n",
       "2002-01-03  0.933508 -1.443527  1.139573 -1.872387\n",
       "2002-01-04  0.294547 -0.096163  1.210580 -0.349508"
      ]
     },
     "execution_count": 9,
     "metadata": {},
     "output_type": "execute_result"
    }
   ],
   "source": [
    "df.head()"
   ]
  },
  {
   "cell_type": "code",
   "execution_count": 10,
   "id": "781f9029",
   "metadata": {},
   "outputs": [
    {
     "data": {
      "text/html": [
       "<div>\n",
       "<style scoped>\n",
       "    .dataframe tbody tr th:only-of-type {\n",
       "        vertical-align: middle;\n",
       "    }\n",
       "\n",
       "    .dataframe tbody tr th {\n",
       "        vertical-align: top;\n",
       "    }\n",
       "\n",
       "    .dataframe thead th {\n",
       "        text-align: right;\n",
       "    }\n",
       "</style>\n",
       "<table border=\"1\" class=\"dataframe\">\n",
       "  <thead>\n",
       "    <tr style=\"text-align: right;\">\n",
       "      <th></th>\n",
       "      <th>A</th>\n",
       "      <th>B</th>\n",
       "      <th>C</th>\n",
       "      <th>D</th>\n",
       "    </tr>\n",
       "  </thead>\n",
       "  <tbody>\n",
       "    <tr>\n",
       "      <th>2002-01-05</th>\n",
       "      <td>-0.443673</td>\n",
       "      <td>0.595833</td>\n",
       "      <td>0.436814</td>\n",
       "      <td>-0.607595</td>\n",
       "    </tr>\n",
       "    <tr>\n",
       "      <th>2002-01-06</th>\n",
       "      <td>-0.491680</td>\n",
       "      <td>-0.153775</td>\n",
       "      <td>-0.047082</td>\n",
       "      <td>-0.767054</td>\n",
       "    </tr>\n",
       "    <tr>\n",
       "      <th>2002-01-07</th>\n",
       "      <td>-0.095448</td>\n",
       "      <td>-1.739983</td>\n",
       "      <td>0.679127</td>\n",
       "      <td>0.101511</td>\n",
       "    </tr>\n",
       "    <tr>\n",
       "      <th>2002-01-08</th>\n",
       "      <td>1.376077</td>\n",
       "      <td>0.669776</td>\n",
       "      <td>-0.663579</td>\n",
       "      <td>-0.746900</td>\n",
       "    </tr>\n",
       "    <tr>\n",
       "      <th>2002-01-09</th>\n",
       "      <td>-1.827495</td>\n",
       "      <td>0.168753</td>\n",
       "      <td>2.104594</td>\n",
       "      <td>-1.991743</td>\n",
       "    </tr>\n",
       "  </tbody>\n",
       "</table>\n",
       "</div>"
      ],
      "text/plain": [
       "                   A         B         C         D\n",
       "2002-01-05 -0.443673  0.595833  0.436814 -0.607595\n",
       "2002-01-06 -0.491680 -0.153775 -0.047082 -0.767054\n",
       "2002-01-07 -0.095448 -1.739983  0.679127  0.101511\n",
       "2002-01-08  1.376077  0.669776 -0.663579 -0.746900\n",
       "2002-01-09 -1.827495  0.168753  2.104594 -1.991743"
      ]
     },
     "execution_count": 10,
     "metadata": {},
     "output_type": "execute_result"
    }
   ],
   "source": [
    "df.tail()"
   ]
  },
  {
   "cell_type": "code",
   "execution_count": 11,
   "id": "e767308d",
   "metadata": {},
   "outputs": [
    {
     "data": {
      "text/plain": [
       "DatetimeIndex(['2001-12-31', '2002-01-01', '2002-01-02', '2002-01-03',\n",
       "               '2002-01-04', '2002-01-05', '2002-01-06', '2002-01-07',\n",
       "               '2002-01-08', '2002-01-09'],\n",
       "              dtype='datetime64[ns]', freq='D')"
      ]
     },
     "execution_count": 11,
     "metadata": {},
     "output_type": "execute_result"
    }
   ],
   "source": [
    "df.index"
   ]
  },
  {
   "cell_type": "code",
   "execution_count": 12,
   "id": "46526b80",
   "metadata": {},
   "outputs": [
    {
     "data": {
      "text/plain": [
       "Index(['A', 'B', 'C', 'D'], dtype='object')"
      ]
     },
     "execution_count": 12,
     "metadata": {},
     "output_type": "execute_result"
    }
   ],
   "source": [
    "df.columns"
   ]
  },
  {
   "cell_type": "code",
   "execution_count": 13,
   "id": "6a6fc88c",
   "metadata": {},
   "outputs": [
    {
     "data": {
      "text/plain": [
       "array([[-0.40681554,  0.54771596,  1.13104682,  0.49378612],\n",
       "       [ 0.11483009, -1.20178885, -0.48045095,  1.29625924],\n",
       "       [-0.14981487,  1.34048113, -0.61508075,  0.97813549],\n",
       "       [ 0.93350797, -1.44352744,  1.13957258, -1.87238707],\n",
       "       [ 0.29454695, -0.09616293,  1.21058026, -0.34950767],\n",
       "       [-0.44367304,  0.59583317,  0.43681387, -0.60759522],\n",
       "       [-0.49167955, -0.15377456, -0.04708165, -0.76705449],\n",
       "       [-0.09544834, -1.73998314,  0.67912687,  0.10151135],\n",
       "       [ 1.37607716,  0.66977588, -0.66357896, -0.74689968],\n",
       "       [-1.8274955 ,  0.16875314,  2.10459363, -1.99174274]])"
      ]
     },
     "execution_count": 13,
     "metadata": {},
     "output_type": "execute_result"
    }
   ],
   "source": [
    "df.to_numpy()"
   ]
  },
  {
   "cell_type": "code",
   "execution_count": 14,
   "id": "ac40009e",
   "metadata": {},
   "outputs": [
    {
     "data": {
      "text/html": [
       "<div>\n",
       "<style scoped>\n",
       "    .dataframe tbody tr th:only-of-type {\n",
       "        vertical-align: middle;\n",
       "    }\n",
       "\n",
       "    .dataframe tbody tr th {\n",
       "        vertical-align: top;\n",
       "    }\n",
       "\n",
       "    .dataframe thead th {\n",
       "        text-align: right;\n",
       "    }\n",
       "</style>\n",
       "<table border=\"1\" class=\"dataframe\">\n",
       "  <thead>\n",
       "    <tr style=\"text-align: right;\">\n",
       "      <th></th>\n",
       "      <th>A</th>\n",
       "      <th>B</th>\n",
       "      <th>C</th>\n",
       "      <th>D</th>\n",
       "    </tr>\n",
       "  </thead>\n",
       "  <tbody>\n",
       "    <tr>\n",
       "      <th>count</th>\n",
       "      <td>10.000000</td>\n",
       "      <td>10.000000</td>\n",
       "      <td>10.000000</td>\n",
       "      <td>10.000000</td>\n",
       "    </tr>\n",
       "    <tr>\n",
       "      <th>mean</th>\n",
       "      <td>-0.069596</td>\n",
       "      <td>-0.131268</td>\n",
       "      <td>0.489554</td>\n",
       "      <td>-0.346549</td>\n",
       "    </tr>\n",
       "    <tr>\n",
       "      <th>std</th>\n",
       "      <td>0.868710</td>\n",
       "      <td>1.018996</td>\n",
       "      <td>0.929744</td>\n",
       "      <td>1.095477</td>\n",
       "    </tr>\n",
       "    <tr>\n",
       "      <th>min</th>\n",
       "      <td>-1.827495</td>\n",
       "      <td>-1.739983</td>\n",
       "      <td>-0.663579</td>\n",
       "      <td>-1.991743</td>\n",
       "    </tr>\n",
       "    <tr>\n",
       "      <th>25%</th>\n",
       "      <td>-0.434459</td>\n",
       "      <td>-0.939785</td>\n",
       "      <td>-0.372109</td>\n",
       "      <td>-0.762016</td>\n",
       "    </tr>\n",
       "    <tr>\n",
       "      <th>50%</th>\n",
       "      <td>-0.122632</td>\n",
       "      <td>0.036295</td>\n",
       "      <td>0.557970</td>\n",
       "      <td>-0.478551</td>\n",
       "    </tr>\n",
       "    <tr>\n",
       "      <th>75%</th>\n",
       "      <td>0.249618</td>\n",
       "      <td>0.583804</td>\n",
       "      <td>1.137441</td>\n",
       "      <td>0.395717</td>\n",
       "    </tr>\n",
       "    <tr>\n",
       "      <th>max</th>\n",
       "      <td>1.376077</td>\n",
       "      <td>1.340481</td>\n",
       "      <td>2.104594</td>\n",
       "      <td>1.296259</td>\n",
       "    </tr>\n",
       "  </tbody>\n",
       "</table>\n",
       "</div>"
      ],
      "text/plain": [
       "               A          B          C          D\n",
       "count  10.000000  10.000000  10.000000  10.000000\n",
       "mean   -0.069596  -0.131268   0.489554  -0.346549\n",
       "std     0.868710   1.018996   0.929744   1.095477\n",
       "min    -1.827495  -1.739983  -0.663579  -1.991743\n",
       "25%    -0.434459  -0.939785  -0.372109  -0.762016\n",
       "50%    -0.122632   0.036295   0.557970  -0.478551\n",
       "75%     0.249618   0.583804   1.137441   0.395717\n",
       "max     1.376077   1.340481   2.104594   1.296259"
      ]
     },
     "execution_count": 14,
     "metadata": {},
     "output_type": "execute_result"
    }
   ],
   "source": [
    "df.describe()"
   ]
  },
  {
   "cell_type": "code",
   "execution_count": 15,
   "id": "0dd18d2d",
   "metadata": {},
   "outputs": [
    {
     "name": "stdout",
     "output_type": "stream",
     "text": [
      "<class 'pandas.core.frame.DataFrame'>\n",
      "DatetimeIndex: 10 entries, 2001-12-31 to 2002-01-09\n",
      "Freq: D\n",
      "Data columns (total 4 columns):\n",
      " #   Column  Non-Null Count  Dtype  \n",
      "---  ------  --------------  -----  \n",
      " 0   A       10 non-null     float64\n",
      " 1   B       10 non-null     float64\n",
      " 2   C       10 non-null     float64\n",
      " 3   D       10 non-null     float64\n",
      "dtypes: float64(4)\n",
      "memory usage: 400.0 bytes\n"
     ]
    }
   ],
   "source": [
    "df.info()"
   ]
  },
  {
   "cell_type": "code",
   "execution_count": 16,
   "id": "c0ccdf6b",
   "metadata": {},
   "outputs": [
    {
     "data": {
      "text/plain": [
       "2001-12-31    1.131047\n",
       "2002-01-01   -0.480451\n",
       "2002-01-02   -0.615081\n",
       "2002-01-03    1.139573\n",
       "2002-01-04    1.210580\n",
       "2002-01-05    0.436814\n",
       "2002-01-06   -0.047082\n",
       "2002-01-07    0.679127\n",
       "2002-01-08   -0.663579\n",
       "2002-01-09    2.104594\n",
       "Freq: D, Name: C, dtype: float64"
      ]
     },
     "execution_count": 16,
     "metadata": {},
     "output_type": "execute_result"
    }
   ],
   "source": [
    "df[\"C\"]"
   ]
  },
  {
   "cell_type": "code",
   "execution_count": 17,
   "id": "29a7f694",
   "metadata": {},
   "outputs": [
    {
     "data": {
      "text/html": [
       "<div>\n",
       "<style scoped>\n",
       "    .dataframe tbody tr th:only-of-type {\n",
       "        vertical-align: middle;\n",
       "    }\n",
       "\n",
       "    .dataframe tbody tr th {\n",
       "        vertical-align: top;\n",
       "    }\n",
       "\n",
       "    .dataframe thead th {\n",
       "        text-align: right;\n",
       "    }\n",
       "</style>\n",
       "<table border=\"1\" class=\"dataframe\">\n",
       "  <thead>\n",
       "    <tr style=\"text-align: right;\">\n",
       "      <th></th>\n",
       "      <th>A</th>\n",
       "      <th>B</th>\n",
       "      <th>C</th>\n",
       "      <th>D</th>\n",
       "    </tr>\n",
       "  </thead>\n",
       "  <tbody>\n",
       "    <tr>\n",
       "      <th>2001-12-31</th>\n",
       "      <td>-0.406816</td>\n",
       "      <td>0.547716</td>\n",
       "      <td>1.131047</td>\n",
       "      <td>0.493786</td>\n",
       "    </tr>\n",
       "    <tr>\n",
       "      <th>2002-01-01</th>\n",
       "      <td>0.114830</td>\n",
       "      <td>-1.201789</td>\n",
       "      <td>-0.480451</td>\n",
       "      <td>1.296259</td>\n",
       "    </tr>\n",
       "    <tr>\n",
       "      <th>2002-01-02</th>\n",
       "      <td>-0.149815</td>\n",
       "      <td>1.340481</td>\n",
       "      <td>-0.615081</td>\n",
       "      <td>0.978135</td>\n",
       "    </tr>\n",
       "  </tbody>\n",
       "</table>\n",
       "</div>"
      ],
      "text/plain": [
       "                   A         B         C         D\n",
       "2001-12-31 -0.406816  0.547716  1.131047  0.493786\n",
       "2002-01-01  0.114830 -1.201789 -0.480451  1.296259\n",
       "2002-01-02 -0.149815  1.340481 -0.615081  0.978135"
      ]
     },
     "execution_count": 17,
     "metadata": {},
     "output_type": "execute_result"
    }
   ],
   "source": [
    "df[0:3]"
   ]
  },
  {
   "cell_type": "code",
   "execution_count": 18,
   "id": "db7f699d",
   "metadata": {},
   "outputs": [
    {
     "data": {
      "text/plain": [
       "A   -0.406816\n",
       "B    0.547716\n",
       "C    1.131047\n",
       "D    0.493786\n",
       "Name: 2001-12-31 00:00:00, dtype: float64"
      ]
     },
     "execution_count": 18,
     "metadata": {},
     "output_type": "execute_result"
    }
   ],
   "source": [
    "df.loc[d[0]]"
   ]
  },
  {
   "cell_type": "code",
   "execution_count": 19,
   "id": "658120eb",
   "metadata": {},
   "outputs": [
    {
     "data": {
      "text/html": [
       "<div>\n",
       "<style scoped>\n",
       "    .dataframe tbody tr th:only-of-type {\n",
       "        vertical-align: middle;\n",
       "    }\n",
       "\n",
       "    .dataframe tbody tr th {\n",
       "        vertical-align: top;\n",
       "    }\n",
       "\n",
       "    .dataframe thead th {\n",
       "        text-align: right;\n",
       "    }\n",
       "</style>\n",
       "<table border=\"1\" class=\"dataframe\">\n",
       "  <thead>\n",
       "    <tr style=\"text-align: right;\">\n",
       "      <th></th>\n",
       "      <th>A</th>\n",
       "      <th>C</th>\n",
       "    </tr>\n",
       "  </thead>\n",
       "  <tbody>\n",
       "    <tr>\n",
       "      <th>2001-12-31</th>\n",
       "      <td>-0.406816</td>\n",
       "      <td>1.131047</td>\n",
       "    </tr>\n",
       "    <tr>\n",
       "      <th>2002-01-01</th>\n",
       "      <td>0.114830</td>\n",
       "      <td>-0.480451</td>\n",
       "    </tr>\n",
       "    <tr>\n",
       "      <th>2002-01-02</th>\n",
       "      <td>-0.149815</td>\n",
       "      <td>-0.615081</td>\n",
       "    </tr>\n",
       "    <tr>\n",
       "      <th>2002-01-03</th>\n",
       "      <td>0.933508</td>\n",
       "      <td>1.139573</td>\n",
       "    </tr>\n",
       "    <tr>\n",
       "      <th>2002-01-04</th>\n",
       "      <td>0.294547</td>\n",
       "      <td>1.210580</td>\n",
       "    </tr>\n",
       "    <tr>\n",
       "      <th>2002-01-05</th>\n",
       "      <td>-0.443673</td>\n",
       "      <td>0.436814</td>\n",
       "    </tr>\n",
       "    <tr>\n",
       "      <th>2002-01-06</th>\n",
       "      <td>-0.491680</td>\n",
       "      <td>-0.047082</td>\n",
       "    </tr>\n",
       "    <tr>\n",
       "      <th>2002-01-07</th>\n",
       "      <td>-0.095448</td>\n",
       "      <td>0.679127</td>\n",
       "    </tr>\n",
       "    <tr>\n",
       "      <th>2002-01-08</th>\n",
       "      <td>1.376077</td>\n",
       "      <td>-0.663579</td>\n",
       "    </tr>\n",
       "    <tr>\n",
       "      <th>2002-01-09</th>\n",
       "      <td>-1.827495</td>\n",
       "      <td>2.104594</td>\n",
       "    </tr>\n",
       "  </tbody>\n",
       "</table>\n",
       "</div>"
      ],
      "text/plain": [
       "                   A         C\n",
       "2001-12-31 -0.406816  1.131047\n",
       "2002-01-01  0.114830 -0.480451\n",
       "2002-01-02 -0.149815 -0.615081\n",
       "2002-01-03  0.933508  1.139573\n",
       "2002-01-04  0.294547  1.210580\n",
       "2002-01-05 -0.443673  0.436814\n",
       "2002-01-06 -0.491680 -0.047082\n",
       "2002-01-07 -0.095448  0.679127\n",
       "2002-01-08  1.376077 -0.663579\n",
       "2002-01-09 -1.827495  2.104594"
      ]
     },
     "execution_count": 19,
     "metadata": {},
     "output_type": "execute_result"
    }
   ],
   "source": [
    "df.loc[:,[\"A\",\"C\"]]"
   ]
  },
  {
   "cell_type": "code",
   "execution_count": 20,
   "id": "68cb2795",
   "metadata": {},
   "outputs": [
    {
     "data": {
      "text/html": [
       "<div>\n",
       "<style scoped>\n",
       "    .dataframe tbody tr th:only-of-type {\n",
       "        vertical-align: middle;\n",
       "    }\n",
       "\n",
       "    .dataframe tbody tr th {\n",
       "        vertical-align: top;\n",
       "    }\n",
       "\n",
       "    .dataframe thead th {\n",
       "        text-align: right;\n",
       "    }\n",
       "</style>\n",
       "<table border=\"1\" class=\"dataframe\">\n",
       "  <thead>\n",
       "    <tr style=\"text-align: right;\">\n",
       "      <th></th>\n",
       "      <th>D</th>\n",
       "      <th>C</th>\n",
       "    </tr>\n",
       "  </thead>\n",
       "  <tbody>\n",
       "    <tr>\n",
       "      <th>2001-12-31</th>\n",
       "      <td>0.493786</td>\n",
       "      <td>1.131047</td>\n",
       "    </tr>\n",
       "    <tr>\n",
       "      <th>2002-01-01</th>\n",
       "      <td>1.296259</td>\n",
       "      <td>-0.480451</td>\n",
       "    </tr>\n",
       "    <tr>\n",
       "      <th>2002-01-02</th>\n",
       "      <td>0.978135</td>\n",
       "      <td>-0.615081</td>\n",
       "    </tr>\n",
       "    <tr>\n",
       "      <th>2002-01-03</th>\n",
       "      <td>-1.872387</td>\n",
       "      <td>1.139573</td>\n",
       "    </tr>\n",
       "    <tr>\n",
       "      <th>2002-01-04</th>\n",
       "      <td>-0.349508</td>\n",
       "      <td>1.210580</td>\n",
       "    </tr>\n",
       "    <tr>\n",
       "      <th>2002-01-05</th>\n",
       "      <td>-0.607595</td>\n",
       "      <td>0.436814</td>\n",
       "    </tr>\n",
       "  </tbody>\n",
       "</table>\n",
       "</div>"
      ],
      "text/plain": [
       "                   D         C\n",
       "2001-12-31  0.493786  1.131047\n",
       "2002-01-01  1.296259 -0.480451\n",
       "2002-01-02  0.978135 -0.615081\n",
       "2002-01-03 -1.872387  1.139573\n",
       "2002-01-04 -0.349508  1.210580\n",
       "2002-01-05 -0.607595  0.436814"
      ]
     },
     "execution_count": 20,
     "metadata": {},
     "output_type": "execute_result"
    }
   ],
   "source": [
    "df.loc[\"20011231\":\"20020105\",[\"D\",\"C\"]]"
   ]
  },
  {
   "cell_type": "code",
   "execution_count": 21,
   "id": "a6c34ec2",
   "metadata": {},
   "outputs": [
    {
     "data": {
      "text/plain": [
       "D    0.493786\n",
       "C    1.131047\n",
       "Name: 2001-12-31 00:00:00, dtype: float64"
      ]
     },
     "execution_count": 21,
     "metadata": {},
     "output_type": "execute_result"
    }
   ],
   "source": [
    "df.loc[\"20011231\",[\"D\",\"C\"]]"
   ]
  },
  {
   "cell_type": "code",
   "execution_count": 22,
   "id": "4f69f168",
   "metadata": {},
   "outputs": [
    {
     "data": {
      "text/plain": [
       "D    0.493786\n",
       "C    1.131047\n",
       "Name: 2001-12-31 00:00:00, dtype: float64"
      ]
     },
     "execution_count": 22,
     "metadata": {},
     "output_type": "execute_result"
    }
   ],
   "source": [
    "df.loc[d[0],[\"D\",\"C\"]]"
   ]
  },
  {
   "cell_type": "code",
   "execution_count": 23,
   "id": "e8131acd",
   "metadata": {},
   "outputs": [
    {
     "data": {
      "text/plain": [
       "1.1310468159244662"
      ]
     },
     "execution_count": 23,
     "metadata": {},
     "output_type": "execute_result"
    }
   ],
   "source": [
    "df.at[d[0],\"C\"]"
   ]
  },
  {
   "cell_type": "code",
   "execution_count": 24,
   "id": "7cc4a09e",
   "metadata": {},
   "outputs": [
    {
     "data": {
      "text/plain": [
       "A    0.933508\n",
       "B   -1.443527\n",
       "C    1.139573\n",
       "D   -1.872387\n",
       "Name: 2002-01-03 00:00:00, dtype: float64"
      ]
     },
     "execution_count": 24,
     "metadata": {},
     "output_type": "execute_result"
    }
   ],
   "source": [
    "df.iloc[3]"
   ]
  },
  {
   "cell_type": "code",
   "execution_count": 25,
   "id": "bb077e76",
   "metadata": {},
   "outputs": [
    {
     "data": {
      "text/html": [
       "<div>\n",
       "<style scoped>\n",
       "    .dataframe tbody tr th:only-of-type {\n",
       "        vertical-align: middle;\n",
       "    }\n",
       "\n",
       "    .dataframe tbody tr th {\n",
       "        vertical-align: top;\n",
       "    }\n",
       "\n",
       "    .dataframe thead th {\n",
       "        text-align: right;\n",
       "    }\n",
       "</style>\n",
       "<table border=\"1\" class=\"dataframe\">\n",
       "  <thead>\n",
       "    <tr style=\"text-align: right;\">\n",
       "      <th></th>\n",
       "      <th>A</th>\n",
       "      <th>B</th>\n",
       "      <th>C</th>\n",
       "      <th>D</th>\n",
       "    </tr>\n",
       "  </thead>\n",
       "  <tbody>\n",
       "    <tr>\n",
       "      <th>2002-01-03</th>\n",
       "      <td>0.933508</td>\n",
       "      <td>-1.443527</td>\n",
       "      <td>1.139573</td>\n",
       "      <td>-1.872387</td>\n",
       "    </tr>\n",
       "    <tr>\n",
       "      <th>2002-01-04</th>\n",
       "      <td>0.294547</td>\n",
       "      <td>-0.096163</td>\n",
       "      <td>1.210580</td>\n",
       "      <td>-0.349508</td>\n",
       "    </tr>\n",
       "  </tbody>\n",
       "</table>\n",
       "</div>"
      ],
      "text/plain": [
       "                   A         B         C         D\n",
       "2002-01-03  0.933508 -1.443527  1.139573 -1.872387\n",
       "2002-01-04  0.294547 -0.096163  1.210580 -0.349508"
      ]
     },
     "execution_count": 25,
     "metadata": {},
     "output_type": "execute_result"
    }
   ],
   "source": [
    "df.iloc[3:5]"
   ]
  },
  {
   "cell_type": "code",
   "execution_count": 26,
   "id": "705daa1e",
   "metadata": {},
   "outputs": [
    {
     "data": {
      "text/html": [
       "<div>\n",
       "<style scoped>\n",
       "    .dataframe tbody tr th:only-of-type {\n",
       "        vertical-align: middle;\n",
       "    }\n",
       "\n",
       "    .dataframe tbody tr th {\n",
       "        vertical-align: top;\n",
       "    }\n",
       "\n",
       "    .dataframe thead th {\n",
       "        text-align: right;\n",
       "    }\n",
       "</style>\n",
       "<table border=\"1\" class=\"dataframe\">\n",
       "  <thead>\n",
       "    <tr style=\"text-align: right;\">\n",
       "      <th></th>\n",
       "      <th>A</th>\n",
       "      <th>B</th>\n",
       "      <th>C</th>\n",
       "      <th>D</th>\n",
       "      <th>E</th>\n",
       "    </tr>\n",
       "  </thead>\n",
       "  <tbody>\n",
       "    <tr>\n",
       "      <th>2001-12-31</th>\n",
       "      <td>-0.406816</td>\n",
       "      <td>0.547716</td>\n",
       "      <td>1.131047</td>\n",
       "      <td>0.493786</td>\n",
       "      <td>1.0</td>\n",
       "    </tr>\n",
       "    <tr>\n",
       "      <th>2002-01-01</th>\n",
       "      <td>0.114830</td>\n",
       "      <td>-1.201789</td>\n",
       "      <td>-0.480451</td>\n",
       "      <td>1.296259</td>\n",
       "      <td>1.0</td>\n",
       "    </tr>\n",
       "    <tr>\n",
       "      <th>2002-01-02</th>\n",
       "      <td>-0.149815</td>\n",
       "      <td>1.340481</td>\n",
       "      <td>-0.615081</td>\n",
       "      <td>0.978135</td>\n",
       "      <td>NaN</td>\n",
       "    </tr>\n",
       "    <tr>\n",
       "      <th>2002-01-03</th>\n",
       "      <td>0.933508</td>\n",
       "      <td>-1.443527</td>\n",
       "      <td>1.139573</td>\n",
       "      <td>-1.872387</td>\n",
       "      <td>NaN</td>\n",
       "    </tr>\n",
       "  </tbody>\n",
       "</table>\n",
       "</div>"
      ],
      "text/plain": [
       "                   A         B         C         D    E\n",
       "2001-12-31 -0.406816  0.547716  1.131047  0.493786  1.0\n",
       "2002-01-01  0.114830 -1.201789 -0.480451  1.296259  1.0\n",
       "2002-01-02 -0.149815  1.340481 -0.615081  0.978135  NaN\n",
       "2002-01-03  0.933508 -1.443527  1.139573 -1.872387  NaN"
      ]
     },
     "execution_count": 26,
     "metadata": {},
     "output_type": "execute_result"
    }
   ],
   "source": [
    "df2=df.reindex(index=d[0:4],columns=list(df.columns)+[\"E\"])\n",
    "df2.loc[d[0]:d[1], \"E\"]=1\n",
    "df2"
   ]
  },
  {
   "cell_type": "code",
   "execution_count": 27,
   "id": "162e2d5c",
   "metadata": {},
   "outputs": [
    {
     "data": {
      "text/html": [
       "<div>\n",
       "<style scoped>\n",
       "    .dataframe tbody tr th:only-of-type {\n",
       "        vertical-align: middle;\n",
       "    }\n",
       "\n",
       "    .dataframe tbody tr th {\n",
       "        vertical-align: top;\n",
       "    }\n",
       "\n",
       "    .dataframe thead th {\n",
       "        text-align: right;\n",
       "    }\n",
       "</style>\n",
       "<table border=\"1\" class=\"dataframe\">\n",
       "  <thead>\n",
       "    <tr style=\"text-align: right;\">\n",
       "      <th></th>\n",
       "      <th>A</th>\n",
       "      <th>B</th>\n",
       "      <th>C</th>\n",
       "      <th>D</th>\n",
       "      <th>E</th>\n",
       "    </tr>\n",
       "  </thead>\n",
       "  <tbody>\n",
       "    <tr>\n",
       "      <th>2001-12-31</th>\n",
       "      <td>False</td>\n",
       "      <td>False</td>\n",
       "      <td>False</td>\n",
       "      <td>False</td>\n",
       "      <td>False</td>\n",
       "    </tr>\n",
       "    <tr>\n",
       "      <th>2002-01-01</th>\n",
       "      <td>False</td>\n",
       "      <td>False</td>\n",
       "      <td>False</td>\n",
       "      <td>False</td>\n",
       "      <td>False</td>\n",
       "    </tr>\n",
       "    <tr>\n",
       "      <th>2002-01-02</th>\n",
       "      <td>False</td>\n",
       "      <td>False</td>\n",
       "      <td>False</td>\n",
       "      <td>False</td>\n",
       "      <td>True</td>\n",
       "    </tr>\n",
       "    <tr>\n",
       "      <th>2002-01-03</th>\n",
       "      <td>False</td>\n",
       "      <td>False</td>\n",
       "      <td>False</td>\n",
       "      <td>False</td>\n",
       "      <td>True</td>\n",
       "    </tr>\n",
       "  </tbody>\n",
       "</table>\n",
       "</div>"
      ],
      "text/plain": [
       "                A      B      C      D      E\n",
       "2001-12-31  False  False  False  False  False\n",
       "2002-01-01  False  False  False  False  False\n",
       "2002-01-02  False  False  False  False   True\n",
       "2002-01-03  False  False  False  False   True"
      ]
     },
     "execution_count": 27,
     "metadata": {},
     "output_type": "execute_result"
    }
   ],
   "source": [
    "df2.isnull()"
   ]
  },
  {
   "cell_type": "code",
   "execution_count": 28,
   "id": "7beadc24",
   "metadata": {},
   "outputs": [
    {
     "data": {
      "text/html": [
       "<div>\n",
       "<style scoped>\n",
       "    .dataframe tbody tr th:only-of-type {\n",
       "        vertical-align: middle;\n",
       "    }\n",
       "\n",
       "    .dataframe tbody tr th {\n",
       "        vertical-align: top;\n",
       "    }\n",
       "\n",
       "    .dataframe thead th {\n",
       "        text-align: right;\n",
       "    }\n",
       "</style>\n",
       "<table border=\"1\" class=\"dataframe\">\n",
       "  <thead>\n",
       "    <tr style=\"text-align: right;\">\n",
       "      <th></th>\n",
       "      <th>A</th>\n",
       "      <th>B</th>\n",
       "      <th>C</th>\n",
       "      <th>D</th>\n",
       "      <th>E</th>\n",
       "    </tr>\n",
       "  </thead>\n",
       "  <tbody>\n",
       "    <tr>\n",
       "      <th>2001-12-31</th>\n",
       "      <td>-0.406816</td>\n",
       "      <td>0.547716</td>\n",
       "      <td>1.131047</td>\n",
       "      <td>0.493786</td>\n",
       "      <td>1.0</td>\n",
       "    </tr>\n",
       "    <tr>\n",
       "      <th>2002-01-01</th>\n",
       "      <td>0.114830</td>\n",
       "      <td>-1.201789</td>\n",
       "      <td>-0.480451</td>\n",
       "      <td>1.296259</td>\n",
       "      <td>1.0</td>\n",
       "    </tr>\n",
       "  </tbody>\n",
       "</table>\n",
       "</div>"
      ],
      "text/plain": [
       "                   A         B         C         D    E\n",
       "2001-12-31 -0.406816  0.547716  1.131047  0.493786  1.0\n",
       "2002-01-01  0.114830 -1.201789 -0.480451  1.296259  1.0"
      ]
     },
     "execution_count": 28,
     "metadata": {},
     "output_type": "execute_result"
    }
   ],
   "source": [
    "df2.dropna()"
   ]
  },
  {
   "cell_type": "code",
   "execution_count": 29,
   "id": "ab1bbee6",
   "metadata": {},
   "outputs": [
    {
     "data": {
      "text/html": [
       "<div>\n",
       "<style scoped>\n",
       "    .dataframe tbody tr th:only-of-type {\n",
       "        vertical-align: middle;\n",
       "    }\n",
       "\n",
       "    .dataframe tbody tr th {\n",
       "        vertical-align: top;\n",
       "    }\n",
       "\n",
       "    .dataframe thead th {\n",
       "        text-align: right;\n",
       "    }\n",
       "</style>\n",
       "<table border=\"1\" class=\"dataframe\">\n",
       "  <thead>\n",
       "    <tr style=\"text-align: right;\">\n",
       "      <th></th>\n",
       "      <th>A</th>\n",
       "      <th>B</th>\n",
       "      <th>C</th>\n",
       "      <th>D</th>\n",
       "      <th>E</th>\n",
       "    </tr>\n",
       "  </thead>\n",
       "  <tbody>\n",
       "    <tr>\n",
       "      <th>2001-12-31</th>\n",
       "      <td>-0.406816</td>\n",
       "      <td>0.547716</td>\n",
       "      <td>1.131047</td>\n",
       "      <td>0.493786</td>\n",
       "      <td>1.0</td>\n",
       "    </tr>\n",
       "    <tr>\n",
       "      <th>2002-01-01</th>\n",
       "      <td>0.114830</td>\n",
       "      <td>-1.201789</td>\n",
       "      <td>-0.480451</td>\n",
       "      <td>1.296259</td>\n",
       "      <td>1.0</td>\n",
       "    </tr>\n",
       "    <tr>\n",
       "      <th>2002-01-02</th>\n",
       "      <td>-0.149815</td>\n",
       "      <td>1.340481</td>\n",
       "      <td>-0.615081</td>\n",
       "      <td>0.978135</td>\n",
       "      <td>2.0</td>\n",
       "    </tr>\n",
       "    <tr>\n",
       "      <th>2002-01-03</th>\n",
       "      <td>0.933508</td>\n",
       "      <td>-1.443527</td>\n",
       "      <td>1.139573</td>\n",
       "      <td>-1.872387</td>\n",
       "      <td>2.0</td>\n",
       "    </tr>\n",
       "  </tbody>\n",
       "</table>\n",
       "</div>"
      ],
      "text/plain": [
       "                   A         B         C         D    E\n",
       "2001-12-31 -0.406816  0.547716  1.131047  0.493786  1.0\n",
       "2002-01-01  0.114830 -1.201789 -0.480451  1.296259  1.0\n",
       "2002-01-02 -0.149815  1.340481 -0.615081  0.978135  2.0\n",
       "2002-01-03  0.933508 -1.443527  1.139573 -1.872387  2.0"
      ]
     },
     "execution_count": 29,
     "metadata": {},
     "output_type": "execute_result"
    }
   ],
   "source": [
    "df2.fillna(value=2)"
   ]
  },
  {
   "cell_type": "code",
   "execution_count": 30,
   "id": "982997f6",
   "metadata": {},
   "outputs": [
    {
     "data": {
      "text/plain": [
       "A    0.122927\n",
       "B   -0.189280\n",
       "C    0.293772\n",
       "D    0.223948\n",
       "E    1.000000\n",
       "dtype: float64"
      ]
     },
     "execution_count": 30,
     "metadata": {},
     "output_type": "execute_result"
    }
   ],
   "source": [
    "df2.mean()"
   ]
  },
  {
   "cell_type": "code",
   "execution_count": 31,
   "id": "26bc8427",
   "metadata": {},
   "outputs": [
    {
     "data": {
      "text/html": [
       "<div>\n",
       "<style scoped>\n",
       "    .dataframe tbody tr th:only-of-type {\n",
       "        vertical-align: middle;\n",
       "    }\n",
       "\n",
       "    .dataframe tbody tr th {\n",
       "        vertical-align: top;\n",
       "    }\n",
       "\n",
       "    .dataframe thead th {\n",
       "        text-align: right;\n",
       "    }\n",
       "</style>\n",
       "<table border=\"1\" class=\"dataframe\">\n",
       "  <thead>\n",
       "    <tr style=\"text-align: right;\">\n",
       "      <th></th>\n",
       "      <th>A</th>\n",
       "      <th>B</th>\n",
       "      <th>C</th>\n",
       "      <th>D</th>\n",
       "      <th>E</th>\n",
       "    </tr>\n",
       "  </thead>\n",
       "  <tbody>\n",
       "    <tr>\n",
       "      <th>0</th>\n",
       "      <td>-0.406816</td>\n",
       "      <td>-1.443527</td>\n",
       "      <td>-0.615081</td>\n",
       "      <td>-1.872387</td>\n",
       "      <td>1.0</td>\n",
       "    </tr>\n",
       "    <tr>\n",
       "      <th>1</th>\n",
       "      <td>-0.149815</td>\n",
       "      <td>-1.201789</td>\n",
       "      <td>-0.480451</td>\n",
       "      <td>0.493786</td>\n",
       "      <td>NaN</td>\n",
       "    </tr>\n",
       "    <tr>\n",
       "      <th>2</th>\n",
       "      <td>0.114830</td>\n",
       "      <td>0.547716</td>\n",
       "      <td>1.131047</td>\n",
       "      <td>0.978135</td>\n",
       "      <td>NaN</td>\n",
       "    </tr>\n",
       "    <tr>\n",
       "      <th>3</th>\n",
       "      <td>0.933508</td>\n",
       "      <td>1.340481</td>\n",
       "      <td>1.139573</td>\n",
       "      <td>1.296259</td>\n",
       "      <td>NaN</td>\n",
       "    </tr>\n",
       "  </tbody>\n",
       "</table>\n",
       "</div>"
      ],
      "text/plain": [
       "          A         B         C         D    E\n",
       "0 -0.406816 -1.443527 -0.615081 -1.872387  1.0\n",
       "1 -0.149815 -1.201789 -0.480451  0.493786  NaN\n",
       "2  0.114830  0.547716  1.131047  0.978135  NaN\n",
       "3  0.933508  1.340481  1.139573  1.296259  NaN"
      ]
     },
     "execution_count": 31,
     "metadata": {},
     "output_type": "execute_result"
    }
   ],
   "source": [
    "df2.mode()"
   ]
  },
  {
   "cell_type": "code",
   "execution_count": 33,
   "id": "54d3e18e",
   "metadata": {},
   "outputs": [
    {
     "data": {
      "text/plain": [
       "A   -0.017492\n",
       "B   -0.327036\n",
       "C    0.325298\n",
       "D    0.735961\n",
       "E    1.000000\n",
       "dtype: float64"
      ]
     },
     "execution_count": 33,
     "metadata": {},
     "output_type": "execute_result"
    }
   ],
   "source": [
    "df2.median()"
   ]
  },
  {
   "cell_type": "code",
   "execution_count": 34,
   "id": "7b6ad2a6",
   "metadata": {},
   "outputs": [
    {
     "data": {
      "text/plain": [
       "0        AMAN\n",
       "1    ABHIJITH\n",
       "2          DJ\n",
       "3         NaN\n",
       "dtype: object"
      ]
     },
     "execution_count": 34,
     "metadata": {},
     "output_type": "execute_result"
    }
   ],
   "source": [
    "f=pd.Series([\"aman\",\"abhijith\",\"dj\",np.nan])\n",
    "f.str.upper()"
   ]
  },
  {
   "cell_type": "code",
   "execution_count": 36,
   "id": "d4ca032f",
   "metadata": {},
   "outputs": [
    {
     "data": {
      "text/html": [
       "<div>\n",
       "<style scoped>\n",
       "    .dataframe tbody tr th:only-of-type {\n",
       "        vertical-align: middle;\n",
       "    }\n",
       "\n",
       "    .dataframe tbody tr th {\n",
       "        vertical-align: top;\n",
       "    }\n",
       "\n",
       "    .dataframe thead th {\n",
       "        text-align: right;\n",
       "    }\n",
       "</style>\n",
       "<table border=\"1\" class=\"dataframe\">\n",
       "  <thead>\n",
       "    <tr style=\"text-align: right;\">\n",
       "      <th></th>\n",
       "      <th>0</th>\n",
       "      <th>1</th>\n",
       "      <th>2</th>\n",
       "      <th>3</th>\n",
       "    </tr>\n",
       "  </thead>\n",
       "  <tbody>\n",
       "    <tr>\n",
       "      <th>0</th>\n",
       "      <td>1.585464</td>\n",
       "      <td>0.553448</td>\n",
       "      <td>-0.913830</td>\n",
       "      <td>-1.723692</td>\n",
       "    </tr>\n",
       "    <tr>\n",
       "      <th>1</th>\n",
       "      <td>0.754023</td>\n",
       "      <td>-2.246467</td>\n",
       "      <td>0.778610</td>\n",
       "      <td>-0.792833</td>\n",
       "    </tr>\n",
       "    <tr>\n",
       "      <th>2</th>\n",
       "      <td>1.001160</td>\n",
       "      <td>-2.661350</td>\n",
       "      <td>0.818519</td>\n",
       "      <td>0.078039</td>\n",
       "    </tr>\n",
       "    <tr>\n",
       "      <th>3</th>\n",
       "      <td>-1.120185</td>\n",
       "      <td>-0.133409</td>\n",
       "      <td>-1.868078</td>\n",
       "      <td>-1.324880</td>\n",
       "    </tr>\n",
       "    <tr>\n",
       "      <th>4</th>\n",
       "      <td>-1.829651</td>\n",
       "      <td>0.736719</td>\n",
       "      <td>-1.564462</td>\n",
       "      <td>0.383907</td>\n",
       "    </tr>\n",
       "    <tr>\n",
       "      <th>5</th>\n",
       "      <td>-0.018194</td>\n",
       "      <td>2.798185</td>\n",
       "      <td>1.985040</td>\n",
       "      <td>-0.202325</td>\n",
       "    </tr>\n",
       "    <tr>\n",
       "      <th>6</th>\n",
       "      <td>-0.885517</td>\n",
       "      <td>-0.056677</td>\n",
       "      <td>-0.039680</td>\n",
       "      <td>1.153925</td>\n",
       "    </tr>\n",
       "    <tr>\n",
       "      <th>7</th>\n",
       "      <td>0.750213</td>\n",
       "      <td>1.574371</td>\n",
       "      <td>-0.149987</td>\n",
       "      <td>1.011906</td>\n",
       "    </tr>\n",
       "    <tr>\n",
       "      <th>8</th>\n",
       "      <td>0.198450</td>\n",
       "      <td>1.042431</td>\n",
       "      <td>-0.735250</td>\n",
       "      <td>-0.726865</td>\n",
       "    </tr>\n",
       "    <tr>\n",
       "      <th>9</th>\n",
       "      <td>0.490626</td>\n",
       "      <td>0.281672</td>\n",
       "      <td>1.028510</td>\n",
       "      <td>-0.707464</td>\n",
       "    </tr>\n",
       "  </tbody>\n",
       "</table>\n",
       "</div>"
      ],
      "text/plain": [
       "          0         1         2         3\n",
       "0  1.585464  0.553448 -0.913830 -1.723692\n",
       "1  0.754023 -2.246467  0.778610 -0.792833\n",
       "2  1.001160 -2.661350  0.818519  0.078039\n",
       "3 -1.120185 -0.133409 -1.868078 -1.324880\n",
       "4 -1.829651  0.736719 -1.564462  0.383907\n",
       "5 -0.018194  2.798185  1.985040 -0.202325\n",
       "6 -0.885517 -0.056677 -0.039680  1.153925\n",
       "7  0.750213  1.574371 -0.149987  1.011906\n",
       "8  0.198450  1.042431 -0.735250 -0.726865\n",
       "9  0.490626  0.281672  1.028510 -0.707464"
      ]
     },
     "execution_count": 36,
     "metadata": {},
     "output_type": "execute_result"
    }
   ],
   "source": [
    "g=pd.DataFrame(np.random.randn(10,4))\n",
    "g"
   ]
  },
  {
   "cell_type": "code",
   "execution_count": 37,
   "id": "c5601ed5",
   "metadata": {},
   "outputs": [
    {
     "data": {
      "text/plain": [
       "[          0         1         2         3\n",
       " 0  1.585464  0.553448 -0.913830 -1.723692\n",
       " 1  0.754023 -2.246467  0.778610 -0.792833\n",
       " 2  1.001160 -2.661350  0.818519  0.078039,\n",
       "           0         1         2         3\n",
       " 3 -1.120185 -0.133409 -1.868078 -1.324880\n",
       " 4 -1.829651  0.736719 -1.564462  0.383907\n",
       " 5 -0.018194  2.798185  1.985040 -0.202325\n",
       " 6 -0.885517 -0.056677 -0.039680  1.153925,\n",
       "           0         1         2         3\n",
       " 7  0.750213  1.574371 -0.149987  1.011906\n",
       " 8  0.198450  1.042431 -0.735250 -0.726865\n",
       " 9  0.490626  0.281672  1.028510 -0.707464]"
      ]
     },
     "execution_count": 37,
     "metadata": {},
     "output_type": "execute_result"
    }
   ],
   "source": [
    "q=[g[:3],g[3:7],g[7:]]\n",
    "q"
   ]
  },
  {
   "cell_type": "code",
   "execution_count": 38,
   "id": "6d1ea494",
   "metadata": {},
   "outputs": [
    {
     "data": {
      "text/html": [
       "<div>\n",
       "<style scoped>\n",
       "    .dataframe tbody tr th:only-of-type {\n",
       "        vertical-align: middle;\n",
       "    }\n",
       "\n",
       "    .dataframe tbody tr th {\n",
       "        vertical-align: top;\n",
       "    }\n",
       "\n",
       "    .dataframe thead th {\n",
       "        text-align: right;\n",
       "    }\n",
       "</style>\n",
       "<table border=\"1\" class=\"dataframe\">\n",
       "  <thead>\n",
       "    <tr style=\"text-align: right;\">\n",
       "      <th></th>\n",
       "      <th>0</th>\n",
       "      <th>1</th>\n",
       "      <th>2</th>\n",
       "      <th>3</th>\n",
       "    </tr>\n",
       "  </thead>\n",
       "  <tbody>\n",
       "    <tr>\n",
       "      <th>0</th>\n",
       "      <td>1.585464</td>\n",
       "      <td>0.553448</td>\n",
       "      <td>-0.913830</td>\n",
       "      <td>-1.723692</td>\n",
       "    </tr>\n",
       "    <tr>\n",
       "      <th>1</th>\n",
       "      <td>0.754023</td>\n",
       "      <td>-2.246467</td>\n",
       "      <td>0.778610</td>\n",
       "      <td>-0.792833</td>\n",
       "    </tr>\n",
       "    <tr>\n",
       "      <th>2</th>\n",
       "      <td>1.001160</td>\n",
       "      <td>-2.661350</td>\n",
       "      <td>0.818519</td>\n",
       "      <td>0.078039</td>\n",
       "    </tr>\n",
       "    <tr>\n",
       "      <th>3</th>\n",
       "      <td>-1.120185</td>\n",
       "      <td>-0.133409</td>\n",
       "      <td>-1.868078</td>\n",
       "      <td>-1.324880</td>\n",
       "    </tr>\n",
       "    <tr>\n",
       "      <th>4</th>\n",
       "      <td>-1.829651</td>\n",
       "      <td>0.736719</td>\n",
       "      <td>-1.564462</td>\n",
       "      <td>0.383907</td>\n",
       "    </tr>\n",
       "    <tr>\n",
       "      <th>5</th>\n",
       "      <td>-0.018194</td>\n",
       "      <td>2.798185</td>\n",
       "      <td>1.985040</td>\n",
       "      <td>-0.202325</td>\n",
       "    </tr>\n",
       "    <tr>\n",
       "      <th>6</th>\n",
       "      <td>-0.885517</td>\n",
       "      <td>-0.056677</td>\n",
       "      <td>-0.039680</td>\n",
       "      <td>1.153925</td>\n",
       "    </tr>\n",
       "    <tr>\n",
       "      <th>7</th>\n",
       "      <td>0.750213</td>\n",
       "      <td>1.574371</td>\n",
       "      <td>-0.149987</td>\n",
       "      <td>1.011906</td>\n",
       "    </tr>\n",
       "    <tr>\n",
       "      <th>8</th>\n",
       "      <td>0.198450</td>\n",
       "      <td>1.042431</td>\n",
       "      <td>-0.735250</td>\n",
       "      <td>-0.726865</td>\n",
       "    </tr>\n",
       "    <tr>\n",
       "      <th>9</th>\n",
       "      <td>0.490626</td>\n",
       "      <td>0.281672</td>\n",
       "      <td>1.028510</td>\n",
       "      <td>-0.707464</td>\n",
       "    </tr>\n",
       "  </tbody>\n",
       "</table>\n",
       "</div>"
      ],
      "text/plain": [
       "          0         1         2         3\n",
       "0  1.585464  0.553448 -0.913830 -1.723692\n",
       "1  0.754023 -2.246467  0.778610 -0.792833\n",
       "2  1.001160 -2.661350  0.818519  0.078039\n",
       "3 -1.120185 -0.133409 -1.868078 -1.324880\n",
       "4 -1.829651  0.736719 -1.564462  0.383907\n",
       "5 -0.018194  2.798185  1.985040 -0.202325\n",
       "6 -0.885517 -0.056677 -0.039680  1.153925\n",
       "7  0.750213  1.574371 -0.149987  1.011906\n",
       "8  0.198450  1.042431 -0.735250 -0.726865\n",
       "9  0.490626  0.281672  1.028510 -0.707464"
      ]
     },
     "execution_count": 38,
     "metadata": {},
     "output_type": "execute_result"
    }
   ],
   "source": [
    "pd.concat(q)"
   ]
  },
  {
   "cell_type": "code",
   "execution_count": null,
   "id": "d1337035",
   "metadata": {},
   "outputs": [],
   "source": []
  }
 ],
 "metadata": {
  "kernelspec": {
   "display_name": "Python 3 (ipykernel)",
   "language": "python",
   "name": "python3"
  },
  "language_info": {
   "codemirror_mode": {
    "name": "ipython",
    "version": 3
   },
   "file_extension": ".py",
   "mimetype": "text/x-python",
   "name": "python",
   "nbconvert_exporter": "python",
   "pygments_lexer": "ipython3",
   "version": "3.9.12"
  }
 },
 "nbformat": 4,
 "nbformat_minor": 5
}
