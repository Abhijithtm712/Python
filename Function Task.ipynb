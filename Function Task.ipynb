{
 "cells": [
  {
   "cell_type": "code",
   "execution_count": 12,
   "id": "64e3c6bb",
   "metadata": {},
   "outputs": [
    {
     "name": "stdout",
     "output_type": "stream",
     "text": [
      "date is: 2022-09-20\n"
     ]
    }
   ],
   "source": [
    "from datetime import date\n",
    "h=date.today()\n",
    "print(\"date is:\",h)"
   ]
  },
  {
   "cell_type": "code",
   "execution_count": 22,
   "id": "146aed0c",
   "metadata": {},
   "outputs": [
    {
     "name": "stdout",
     "output_type": "stream",
     "text": [
      "enter a number:-25\n",
      "absolute value of the number is: -25\n"
     ]
    }
   ],
   "source": [
    "a=int(input(\"enter a number:\"))\n",
    "b=abs(a)\n",
    "print(\"absolute value of the number is:\",a)"
   ]
  },
  {
   "cell_type": "code",
   "execution_count": 27,
   "id": "508cac50",
   "metadata": {},
   "outputs": [
    {
     "name": "stdout",
     "output_type": "stream",
     "text": [
      "enter a number:64\n",
      "sq-rt of the number: 8.0\n"
     ]
    }
   ],
   "source": [
    "import math\n",
    "a=int(input(\"enter a number:\"))\n",
    "b=math.sqrt(a)\n",
    "print(\"sq-rt of the number:\",b)"
   ]
  },
  {
   "cell_type": "code",
   "execution_count": 28,
   "id": "309c3064",
   "metadata": {},
   "outputs": [
    {
     "name": "stdout",
     "output_type": "stream",
     "text": [
      "enter the number:8\n",
      "factor of the number is: 40320\n"
     ]
    }
   ],
   "source": [
    "import math\n",
    "o=int(input(\"enter the number:\"))\n",
    "p=math.factorial(o)\n",
    "print(\"factor of the number is:\",p)"
   ]
  },
  {
   "cell_type": "code",
   "execution_count": 1,
   "id": "ba252cdd",
   "metadata": {},
   "outputs": [
    {
     "data": {
      "text/plain": [
       "1"
      ]
     },
     "execution_count": 1,
     "metadata": {},
     "output_type": "execute_result"
    }
   ],
   "source": [
    "a=min([1,2,3,4,5,6,7,8,9,10])\n",
    "a"
   ]
  },
  {
   "cell_type": "code",
   "execution_count": 2,
   "id": "5361c793",
   "metadata": {},
   "outputs": [
    {
     "data": {
      "text/plain": [
       "10"
      ]
     },
     "execution_count": 2,
     "metadata": {},
     "output_type": "execute_result"
    }
   ],
   "source": [
    "b=max([1,2,3,4,5,6,7,8,9,10])\n",
    "b"
   ]
  },
  {
   "cell_type": "code",
   "execution_count": 5,
   "id": "22d4a0e3",
   "metadata": {},
   "outputs": [
    {
     "data": {
      "text/plain": [
       "64.0"
      ]
     },
     "execution_count": 5,
     "metadata": {},
     "output_type": "execute_result"
    }
   ],
   "source": [
    "import math\n",
    "d=math.pow(4,3)\n",
    "d"
   ]
  },
  {
   "cell_type": "code",
   "execution_count": 13,
   "id": "03ff647c",
   "metadata": {},
   "outputs": [
    {
     "name": "stdout",
     "output_type": "stream",
     "text": [
      "enter your limit6\n",
      "enter your number1\n",
      "enter your number2\n",
      "enter your number3\n",
      "enter your number4\n",
      "enter your number5\n",
      "enter your number6\n",
      "maximum element in the list is :  6 \n",
      "minimum element in the list is :  1\n"
     ]
    }
   ],
   "source": [
    "c=[]\n",
    "d=int(input(\"enter your limit\"))\n",
    "for i in range(d):\n",
    "    e=int(input(\"enter your number\"))\n",
    "    c.append(e)\n",
    "print(\"maximum element in the list is : \",max(c), \"\\nminimum element in the list is : \", min(c))    "
   ]
  },
  {
   "cell_type": "code",
   "execution_count": null,
   "id": "e3fa81e2",
   "metadata": {},
   "outputs": [],
   "source": []
  }
 ],
 "metadata": {
  "kernelspec": {
   "display_name": "Python 3 (ipykernel)",
   "language": "python",
   "name": "python3"
  },
  "language_info": {
   "codemirror_mode": {
    "name": "ipython",
    "version": 3
   },
   "file_extension": ".py",
   "mimetype": "text/x-python",
   "name": "python",
   "nbconvert_exporter": "python",
   "pygments_lexer": "ipython3",
   "version": "3.9.12"
  }
 },
 "nbformat": 4,
 "nbformat_minor": 5
}
