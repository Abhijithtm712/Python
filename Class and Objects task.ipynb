{
 "cells": [
  {
   "cell_type": "code",
   "execution_count": 2,
   "id": "55a33eec",
   "metadata": {},
   "outputs": [
    {
     "name": "stdout",
     "output_type": "stream",
     "text": [
      "enter a word :  ADIOS AMIGO\n",
      "tom\n"
     ]
    }
   ],
   "source": [
    "class show:\n",
    "    def variables(self,variable):\n",
    "        p=input(\"enter a word :  \")\n",
    "        print(variable)\n",
    "q=show()\n",
    "q.variables(\"tom\")"
   ]
  },
  {
   "cell_type": "code",
   "execution_count": 4,
   "id": "2c21db52",
   "metadata": {},
   "outputs": [
    {
     "name": "stdout",
     "output_type": "stream",
     "text": [
      "enter a string :  coc\n"
     ]
    }
   ],
   "source": [
    "class one:\n",
    "    def __init__(self):\n",
    "        self.string=\"\"\n",
    "    def user(self):\n",
    "        self.string=input(\"enter a string :  \")\n",
    "    def printing(self):\n",
    "        print(self.string)\n",
    "t=one()\n",
    "t.user()"
   ]
  },
  {
   "cell_type": "code",
   "execution_count": 6,
   "id": "e2abae21",
   "metadata": {},
   "outputs": [],
   "source": [
    "class calculater:\n",
    "    def __init__(self,a,b):\n",
    "        self.k=a\n",
    "        self.j=b\n",
    "    def addition(self):\n",
    "        return self.a+self.b\n",
    "    def substraction(self):\n",
    "        return self.a-self.b\n",
    "    def multipication(self):\n",
    "        return self.a*self.b\n",
    "    def division(self):\n",
    "        return self.a/self.b"
   ]
  },
  {
   "cell_type": "code",
   "execution_count": null,
   "id": "f475a1bd",
   "metadata": {},
   "outputs": [],
   "source": []
  }
 ],
 "metadata": {
  "kernelspec": {
   "display_name": "Python 3 (ipykernel)",
   "language": "python",
   "name": "python3"
  },
  "language_info": {
   "codemirror_mode": {
    "name": "ipython",
    "version": 3
   },
   "file_extension": ".py",
   "mimetype": "text/x-python",
   "name": "python",
   "nbconvert_exporter": "python",
   "pygments_lexer": "ipython3",
   "version": "3.9.12"
  }
 },
 "nbformat": 4,
 "nbformat_minor": 5
}
