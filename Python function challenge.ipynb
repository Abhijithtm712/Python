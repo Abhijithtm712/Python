{
 "cells": [
  {
   "cell_type": "code",
   "execution_count": 1,
   "id": "e7d0ac2c",
   "metadata": {},
   "outputs": [
    {
     "name": "stdout",
     "output_type": "stream",
     "text": [
      "4\n",
      "4\n"
     ]
    }
   ],
   "source": [
    "def student(name,dept):\n",
    "    b=len(name)\n",
    "    c=len(dept)\n",
    "    if b>c:\n",
    "        print(\"the largest is b\" ,b)\n",
    "    elif c>b:\n",
    "            print(\"the largest is c\" ,c)\n",
    "    else:\n",
    "        print(b)\n",
    "        print(c)\n",
    "student(\"aman\",\"bscc\")        \n",
    "            "
   ]
  },
  {
   "cell_type": "code",
   "execution_count": 2,
   "id": "4995a00c",
   "metadata": {},
   "outputs": [
    {
     "name": "stdout",
     "output_type": "stream",
     "text": [
      "number is even\n"
     ]
    }
   ],
   "source": [
    "def number(num):\n",
    "    if num%2==0:\n",
    "        print(\"number is even\")\n",
    "    else:\n",
    "        print(\"number is odd\")\n",
    "number(8)"
   ]
  },
  {
   "cell_type": "code",
   "execution_count": 3,
   "id": "a9238e49",
   "metadata": {},
   "outputs": [
    {
     "name": "stdout",
     "output_type": "stream",
     "text": [
      "{1: 1, 2: 4, 3: 9}\n"
     ]
    }
   ],
   "source": [
    "def dictionary():\n",
    "    a=dict()\n",
    "    a[1]=1\n",
    "    a[2]=2**2\n",
    "    a[3]=3**2\n",
    "    print(a)\n",
    "dictionary()"
   ]
  },
  {
   "cell_type": "code",
   "execution_count": 4,
   "id": "a947ecfd",
   "metadata": {},
   "outputs": [
    {
     "name": "stdout",
     "output_type": "stream",
     "text": [
      "{1: 1, 2: 4, 3: 9, 4: 16, 5: 25, 6: 36, 7: 49, 8: 64, 9: 81, 10: 100, 11: 121, 12: 144, 13: 169, 14: 196, 15: 225, 16: 256, 17: 289, 18: 324, 19: 361, 20: 400}\n"
     ]
    }
   ],
   "source": [
    "def dictionary():\n",
    "    d=dict()\n",
    "    for i in range(1,21):\n",
    "        d[i]=i**2\n",
    "    print(d)\n",
    "dictionary()    "
   ]
  },
  {
   "cell_type": "code",
   "execution_count": 5,
   "id": "78f21a96",
   "metadata": {},
   "outputs": [
    {
     "name": "stdout",
     "output_type": "stream",
     "text": [
      "1\n",
      "4\n",
      "9\n",
      "16\n",
      "25\n",
      "36\n",
      "49\n",
      "64\n",
      "81\n",
      "100\n",
      "121\n",
      "144\n",
      "169\n",
      "196\n",
      "225\n",
      "256\n",
      "289\n",
      "324\n",
      "361\n",
      "400\n"
     ]
    }
   ],
   "source": [
    "def dictionary():\n",
    "    k=dict()\n",
    "    for i in range(1,21):\n",
    "        k[i]=i**2\n",
    "    for(a,b) in k.items():\n",
    "        print(b)\n",
    "dictionary()"
   ]
  },
  {
   "cell_type": "code",
   "execution_count": 6,
   "id": "e359d8d7",
   "metadata": {},
   "outputs": [
    {
     "name": "stdout",
     "output_type": "stream",
     "text": [
      "1\n",
      "2\n",
      "3\n",
      "4\n",
      "5\n",
      "6\n",
      "7\n",
      "8\n",
      "9\n",
      "10\n",
      "11\n",
      "12\n",
      "13\n",
      "14\n",
      "15\n",
      "16\n",
      "17\n",
      "18\n",
      "19\n",
      "20\n"
     ]
    }
   ],
   "source": [
    "def dictionary():\n",
    "    h=dict()\n",
    "    for i in range (1,21):\n",
    "        h[i]=i**2\n",
    "    for l in h.keys():\n",
    "        print(l)\n",
    "dictionary()        "
   ]
  },
  {
   "cell_type": "code",
   "execution_count": 7,
   "id": "67e64065",
   "metadata": {},
   "outputs": [
    {
     "data": {
      "text/plain": [
       "[]"
      ]
     },
     "execution_count": 7,
     "metadata": {},
     "output_type": "execute_result"
    }
   ],
   "source": [
    "def lists():\n",
    "    l=list()\n",
    "    for i in range(1,21):\n",
    "        l.append(i**2)\n",
    "    print(l)\n",
    "list()    "
   ]
  },
  {
   "cell_type": "code",
   "execution_count": 8,
   "id": "b1c139fc",
   "metadata": {},
   "outputs": [
    {
     "name": "stderr",
     "output_type": "stream",
     "text": [
      "<>:5: SyntaxWarning: 'int' object is not subscriptable; perhaps you missed a comma?\n",
      "<>:5: SyntaxWarning: 'int' object is not subscriptable; perhaps you missed a comma?\n",
      "C:\\Users\\ABHIJITH\\AppData\\Local\\Temp\\ipykernel_14360\\3084658717.py:5: SyntaxWarning: 'int' object is not subscriptable; perhaps you missed a comma?\n",
      "  print(1[:5])\n",
      "C:\\Users\\ABHIJITH\\AppData\\Local\\Temp\\ipykernel_14360\\3084658717.py:5: SyntaxWarning: 'int' object is not subscriptable; perhaps you missed a comma?\n",
      "  print(1[:5])\n",
      "C:\\Users\\ABHIJITH\\AppData\\Local\\Temp\\ipykernel_14360\\3084658717.py:5: SyntaxWarning: 'int' object is not subscriptable; perhaps you missed a comma?\n",
      "  print(1[:5])\n"
     ]
    },
    {
     "ename": "TypeError",
     "evalue": "'int' object is not subscriptable",
     "output_type": "error",
     "traceback": [
      "\u001b[1;31m---------------------------------------------------------------------------\u001b[0m",
      "\u001b[1;31mTypeError\u001b[0m                                 Traceback (most recent call last)",
      "Input \u001b[1;32mIn [8]\u001b[0m, in \u001b[0;36m<cell line: 6>\u001b[1;34m()\u001b[0m\n\u001b[0;32m      4\u001b[0m         l\u001b[38;5;241m.\u001b[39mappend(i\u001b[38;5;241m*\u001b[39m\u001b[38;5;241m*\u001b[39m\u001b[38;5;241m2\u001b[39m)\n\u001b[0;32m      5\u001b[0m         \u001b[38;5;28mprint\u001b[39m(\u001b[38;5;241m1\u001b[39m[:\u001b[38;5;241m5\u001b[39m])\n\u001b[1;32m----> 6\u001b[0m \u001b[43mlists\u001b[49m\u001b[43m(\u001b[49m\u001b[43m)\u001b[49m\n",
      "Input \u001b[1;32mIn [8]\u001b[0m, in \u001b[0;36mlists\u001b[1;34m()\u001b[0m\n\u001b[0;32m      3\u001b[0m \u001b[38;5;28;01mfor\u001b[39;00m i \u001b[38;5;129;01min\u001b[39;00m \u001b[38;5;28mrange\u001b[39m(\u001b[38;5;241m1\u001b[39m,\u001b[38;5;241m21\u001b[39m):\n\u001b[0;32m      4\u001b[0m     l\u001b[38;5;241m.\u001b[39mappend(i\u001b[38;5;241m*\u001b[39m\u001b[38;5;241m*\u001b[39m\u001b[38;5;241m2\u001b[39m)\n\u001b[1;32m----> 5\u001b[0m     \u001b[38;5;28mprint\u001b[39m(\u001b[38;5;241;43m1\u001b[39;49m\u001b[43m[\u001b[49m\u001b[43m:\u001b[49m\u001b[38;5;241;43m5\u001b[39;49m\u001b[43m]\u001b[49m)\n",
      "\u001b[1;31mTypeError\u001b[0m: 'int' object is not subscriptable"
     ]
    }
   ],
   "source": [
    "def lists():\n",
    "    l=list()\n",
    "    for i in range(1,21):\n",
    "        l.append(i**2)\n",
    "        print(1[:5])\n",
    "lists()        "
   ]
  },
  {
   "cell_type": "code",
   "execution_count": null,
   "id": "cffe92d8",
   "metadata": {},
   "outputs": [],
   "source": [
    "def lists():\n",
    "    l=list()\n",
    "    for i in range(1,21):\n",
    "        l.append(i**2)\n",
    "        print(1[-5:])\n",
    "lists()        "
   ]
  }
 ],
 "metadata": {
  "kernelspec": {
   "display_name": "Python 3 (ipykernel)",
   "language": "python",
   "name": "python3"
  },
  "language_info": {
   "codemirror_mode": {
    "name": "ipython",
    "version": 3
   },
   "file_extension": ".py",
   "mimetype": "text/x-python",
   "name": "python",
   "nbconvert_exporter": "python",
   "pygments_lexer": "ipython3",
   "version": "3.9.12"
  }
 },
 "nbformat": 4,
 "nbformat_minor": 5
}
