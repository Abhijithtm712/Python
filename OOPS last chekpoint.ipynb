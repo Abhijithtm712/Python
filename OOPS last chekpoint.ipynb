{
 "cells": [
  {
   "cell_type": "code",
   "execution_count": 2,
   "id": "b0712444",
   "metadata": {},
   "outputs": [
    {
     "name": "stdout",
     "output_type": "stream",
     "text": [
      "enter your place:    puthiyatheru\n",
      "enter your current location :   payyambalam\n",
      "puthiyatheru\n",
      "payyambalam\n"
     ]
    }
   ],
   "source": [
    "class state:\n",
    "    def kannur (self,place):\n",
    "        b=input(\"enter your current location :   \")\n",
    "        print(place)\n",
    "        print(b)\n",
    "t=state()\n",
    "a=input(\"enter your place:    \")\n",
    "t.kannur(a)"
   ]
  },
  {
   "cell_type": "code",
   "execution_count": null,
   "id": "3fc58af8",
   "metadata": {},
   "outputs": [],
   "source": []
  },
  {
   "cell_type": "code",
   "execution_count": null,
   "id": "09f1d4f2",
   "metadata": {},
   "outputs": [],
   "source": []
  }
 ],
 "metadata": {
  "kernelspec": {
   "display_name": "Python 3 (ipykernel)",
   "language": "python",
   "name": "python3"
  },
  "language_info": {
   "codemirror_mode": {
    "name": "ipython",
    "version": 3
   },
   "file_extension": ".py",
   "mimetype": "text/x-python",
   "name": "python",
   "nbconvert_exporter": "python",
   "pygments_lexer": "ipython3",
   "version": "3.9.12"
  }
 },
 "nbformat": 4,
 "nbformat_minor": 5
}
