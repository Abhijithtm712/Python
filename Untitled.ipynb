{
 "cells": [
  {
   "cell_type": "code",
   "execution_count": 1,
   "id": "1f9e32d5",
   "metadata": {},
   "outputs": [],
   "source": [
    "import pandas as pd"
   ]
  },
  {
   "cell_type": "code",
   "execution_count": 2,
   "id": "25237218",
   "metadata": {},
   "outputs": [],
   "source": [
    "import numpy as np"
   ]
  },
  {
   "cell_type": "code",
   "execution_count": 3,
   "id": "19a174d5",
   "metadata": {},
   "outputs": [
    {
     "data": {
      "text/plain": [
       "0     1.0\n",
       "1     2.0\n",
       "2     3.0\n",
       "3     4.0\n",
       "4     5.0\n",
       "5     6.0\n",
       "6     NaN\n",
       "7     8.0\n",
       "8     9.0\n",
       "9    10.0\n",
       "dtype: float64"
      ]
     },
     "execution_count": 3,
     "metadata": {},
     "output_type": "execute_result"
    }
   ],
   "source": [
    "g=pd.Series([1,2,3,4,5,6,np.nan,8,9,10])\n",
    "g"
   ]
  },
  {
   "cell_type": "code",
   "execution_count": 4,
   "id": "7b636b3c",
   "metadata": {},
   "outputs": [
    {
     "data": {
      "text/plain": [
       "DatetimeIndex(['2000-10-30', '2000-10-31', '2000-11-01', '2000-11-02',\n",
       "               '2000-11-03', '2000-11-04', '2000-11-05', '2000-11-06',\n",
       "               '2000-11-07', '2000-11-08'],\n",
       "              dtype='datetime64[ns]', freq='D')"
      ]
     },
     "execution_count": 4,
     "metadata": {},
     "output_type": "execute_result"
    }
   ],
   "source": [
    "f=pd.date_range(\"20001030\",periods=10)\n",
    "f"
   ]
  },
  {
   "cell_type": "code",
   "execution_count": 6,
   "id": "48611d1d",
   "metadata": {},
   "outputs": [
    {
     "data": {
      "text/html": [
       "<div>\n",
       "<style scoped>\n",
       "    .dataframe tbody tr th:only-of-type {\n",
       "        vertical-align: middle;\n",
       "    }\n",
       "\n",
       "    .dataframe tbody tr th {\n",
       "        vertical-align: top;\n",
       "    }\n",
       "\n",
       "    .dataframe thead th {\n",
       "        text-align: right;\n",
       "    }\n",
       "</style>\n",
       "<table border=\"1\" class=\"dataframe\">\n",
       "  <thead>\n",
       "    <tr style=\"text-align: right;\">\n",
       "      <th></th>\n",
       "      <th>A</th>\n",
       "      <th>B</th>\n",
       "      <th>C</th>\n",
       "    </tr>\n",
       "  </thead>\n",
       "  <tbody>\n",
       "    <tr>\n",
       "      <th>2000-10-30</th>\n",
       "      <td>0.311886</td>\n",
       "      <td>0.814486</td>\n",
       "      <td>-0.319131</td>\n",
       "    </tr>\n",
       "    <tr>\n",
       "      <th>2000-10-31</th>\n",
       "      <td>0.201663</td>\n",
       "      <td>-0.570876</td>\n",
       "      <td>-1.192250</td>\n",
       "    </tr>\n",
       "    <tr>\n",
       "      <th>2000-11-01</th>\n",
       "      <td>-1.336937</td>\n",
       "      <td>-1.002885</td>\n",
       "      <td>-0.617541</td>\n",
       "    </tr>\n",
       "    <tr>\n",
       "      <th>2000-11-02</th>\n",
       "      <td>-1.351487</td>\n",
       "      <td>0.956463</td>\n",
       "      <td>-0.191726</td>\n",
       "    </tr>\n",
       "    <tr>\n",
       "      <th>2000-11-03</th>\n",
       "      <td>0.645707</td>\n",
       "      <td>-1.800172</td>\n",
       "      <td>2.635171</td>\n",
       "    </tr>\n",
       "    <tr>\n",
       "      <th>2000-11-04</th>\n",
       "      <td>-0.415008</td>\n",
       "      <td>-0.776868</td>\n",
       "      <td>0.367415</td>\n",
       "    </tr>\n",
       "    <tr>\n",
       "      <th>2000-11-05</th>\n",
       "      <td>0.189199</td>\n",
       "      <td>0.396900</td>\n",
       "      <td>0.805908</td>\n",
       "    </tr>\n",
       "    <tr>\n",
       "      <th>2000-11-06</th>\n",
       "      <td>1.660023</td>\n",
       "      <td>-0.999445</td>\n",
       "      <td>-0.236713</td>\n",
       "    </tr>\n",
       "    <tr>\n",
       "      <th>2000-11-07</th>\n",
       "      <td>-0.790865</td>\n",
       "      <td>0.687874</td>\n",
       "      <td>-0.736453</td>\n",
       "    </tr>\n",
       "    <tr>\n",
       "      <th>2000-11-08</th>\n",
       "      <td>-1.735661</td>\n",
       "      <td>1.069928</td>\n",
       "      <td>-0.377451</td>\n",
       "    </tr>\n",
       "  </tbody>\n",
       "</table>\n",
       "</div>"
      ],
      "text/plain": [
       "                   A         B         C\n",
       "2000-10-30  0.311886  0.814486 -0.319131\n",
       "2000-10-31  0.201663 -0.570876 -1.192250\n",
       "2000-11-01 -1.336937 -1.002885 -0.617541\n",
       "2000-11-02 -1.351487  0.956463 -0.191726\n",
       "2000-11-03  0.645707 -1.800172  2.635171\n",
       "2000-11-04 -0.415008 -0.776868  0.367415\n",
       "2000-11-05  0.189199  0.396900  0.805908\n",
       "2000-11-06  1.660023 -0.999445 -0.236713\n",
       "2000-11-07 -0.790865  0.687874 -0.736453\n",
       "2000-11-08 -1.735661  1.069928 -0.377451"
      ]
     },
     "execution_count": 6,
     "metadata": {},
     "output_type": "execute_result"
    }
   ],
   "source": [
    "df=pd.DataFrame(np.random.randn(10,3),index=f,columns=[\"A\",\"B\",\"C\"])\n",
    "df"
   ]
  },
  {
   "cell_type": "code",
   "execution_count": 10,
   "id": "a9f6dc9e",
   "metadata": {},
   "outputs": [
    {
     "data": {
      "text/html": [
       "<div>\n",
       "<style scoped>\n",
       "    .dataframe tbody tr th:only-of-type {\n",
       "        vertical-align: middle;\n",
       "    }\n",
       "\n",
       "    .dataframe tbody tr th {\n",
       "        vertical-align: top;\n",
       "    }\n",
       "\n",
       "    .dataframe thead th {\n",
       "        text-align: right;\n",
       "    }\n",
       "</style>\n",
       "<table border=\"1\" class=\"dataframe\">\n",
       "  <thead>\n",
       "    <tr style=\"text-align: right;\">\n",
       "      <th></th>\n",
       "      <th>A</th>\n",
       "      <th>B</th>\n",
       "      <th>C</th>\n",
       "      <th>D</th>\n",
       "      <th>E</th>\n",
       "      <th>F</th>\n",
       "    </tr>\n",
       "  </thead>\n",
       "  <tbody>\n",
       "    <tr>\n",
       "      <th>0</th>\n",
       "      <td>1</td>\n",
       "      <td>2000-10-10</td>\n",
       "      <td>1.0</td>\n",
       "      <td>5</td>\n",
       "      <td>true</td>\n",
       "      <td>Pandas</td>\n",
       "    </tr>\n",
       "    <tr>\n",
       "      <th>1</th>\n",
       "      <td>2</td>\n",
       "      <td>2000-10-10</td>\n",
       "      <td>1.0</td>\n",
       "      <td>5</td>\n",
       "      <td>false</td>\n",
       "      <td>Pandas</td>\n",
       "    </tr>\n",
       "    <tr>\n",
       "      <th>2</th>\n",
       "      <td>3</td>\n",
       "      <td>2000-10-10</td>\n",
       "      <td>1.0</td>\n",
       "      <td>5</td>\n",
       "      <td>True</td>\n",
       "      <td>Pandas</td>\n",
       "    </tr>\n",
       "    <tr>\n",
       "      <th>3</th>\n",
       "      <td>4</td>\n",
       "      <td>2000-10-10</td>\n",
       "      <td>1.0</td>\n",
       "      <td>5</td>\n",
       "      <td>False</td>\n",
       "      <td>Pandas</td>\n",
       "    </tr>\n",
       "  </tbody>\n",
       "</table>\n",
       "</div>"
      ],
      "text/plain": [
       "   A          B    C  D      E       F\n",
       "0  1 2000-10-10  1.0  5   true  Pandas\n",
       "1  2 2000-10-10  1.0  5  false  Pandas\n",
       "2  3 2000-10-10  1.0  5   True  Pandas\n",
       "3  4 2000-10-10  1.0  5  False  Pandas"
      ]
     },
     "execution_count": 10,
     "metadata": {},
     "output_type": "execute_result"
    }
   ],
   "source": [
    "d1=pd.DataFrame({\n",
    "    \"A\":[1,2,3,4],\n",
    "    \"B\":pd.Timestamp(\"20001010\"),\n",
    "    \"C\":pd.Series(1,index=list(range(4)),dtype=\"float32\"),\n",
    "    \"D\":np.array([5]*4,dtype=\"int32\"),\n",
    "    \"E\":pd.Categorical([\"true\",\"false\",\"True\",\"False\"]),\n",
    "    \"F\":\"Pandas\"\n",
    "})\n",
    "d1"
   ]
  },
  {
   "cell_type": "code",
   "execution_count": 11,
   "id": "28514a60",
   "metadata": {},
   "outputs": [
    {
     "data": {
      "text/plain": [
       "array([[ 0.3118856 ,  0.81448603, -0.31913141],\n",
       "       [ 0.20166329, -0.57087556, -1.19224961],\n",
       "       [-1.33693734, -1.00288465, -0.61754104],\n",
       "       [-1.35148665,  0.95646294, -0.19172646],\n",
       "       [ 0.64570694, -1.80017173,  2.63517098],\n",
       "       [-0.41500814, -0.77686801,  0.36741467],\n",
       "       [ 0.18919852,  0.3968999 ,  0.8059085 ],\n",
       "       [ 1.66002317, -0.99944547, -0.23671295],\n",
       "       [-0.79086503,  0.68787415, -0.73645297],\n",
       "       [-1.73566118,  1.06992789, -0.37745085]])"
      ]
     },
     "execution_count": 11,
     "metadata": {},
     "output_type": "execute_result"
    }
   ],
   "source": [
    "df.to_numpy()"
   ]
  },
  {
   "cell_type": "code",
   "execution_count": 12,
   "id": "248af312",
   "metadata": {},
   "outputs": [
    {
     "name": "stdout",
     "output_type": "stream",
     "text": [
      "<class 'pandas.core.frame.DataFrame'>\n",
      "DatetimeIndex: 10 entries, 2000-10-30 to 2000-11-08\n",
      "Freq: D\n",
      "Data columns (total 3 columns):\n",
      " #   Column  Non-Null Count  Dtype  \n",
      "---  ------  --------------  -----  \n",
      " 0   A       10 non-null     float64\n",
      " 1   B       10 non-null     float64\n",
      " 2   C       10 non-null     float64\n",
      "dtypes: float64(3)\n",
      "memory usage: 320.0 bytes\n"
     ]
    }
   ],
   "source": [
    "df.info()"
   ]
  },
  {
   "cell_type": "code",
   "execution_count": 13,
   "id": "aac6550d",
   "metadata": {},
   "outputs": [
    {
     "data": {
      "text/plain": [
       "2000-10-30   -0.319131\n",
       "2000-10-31   -1.192250\n",
       "2000-11-01   -0.617541\n",
       "2000-11-02   -0.191726\n",
       "2000-11-03    2.635171\n",
       "2000-11-04    0.367415\n",
       "2000-11-05    0.805908\n",
       "2000-11-06   -0.236713\n",
       "2000-11-07   -0.736453\n",
       "2000-11-08   -0.377451\n",
       "Freq: D, Name: C, dtype: float64"
      ]
     },
     "execution_count": 13,
     "metadata": {},
     "output_type": "execute_result"
    }
   ],
   "source": [
    "df[\"C\"]"
   ]
  },
  {
   "cell_type": "code",
   "execution_count": 14,
   "id": "1ccf316e",
   "metadata": {},
   "outputs": [
    {
     "data": {
      "text/plain": [
       "A             int64\n",
       "B    datetime64[ns]\n",
       "C           float32\n",
       "D             int32\n",
       "E          category\n",
       "F            object\n",
       "dtype: object"
      ]
     },
     "execution_count": 14,
     "metadata": {},
     "output_type": "execute_result"
    }
   ],
   "source": [
    "d1.dtypes"
   ]
  },
  {
   "cell_type": "code",
   "execution_count": 15,
   "id": "699f8cab",
   "metadata": {},
   "outputs": [
    {
     "data": {
      "text/plain": [
       "A    float64\n",
       "B    float64\n",
       "C    float64\n",
       "dtype: object"
      ]
     },
     "execution_count": 15,
     "metadata": {},
     "output_type": "execute_result"
    }
   ],
   "source": [
    "df.dtypes"
   ]
  },
  {
   "cell_type": "code",
   "execution_count": 16,
   "id": "54073d12",
   "metadata": {},
   "outputs": [
    {
     "data": {
      "text/html": [
       "<div>\n",
       "<style scoped>\n",
       "    .dataframe tbody tr th:only-of-type {\n",
       "        vertical-align: middle;\n",
       "    }\n",
       "\n",
       "    .dataframe tbody tr th {\n",
       "        vertical-align: top;\n",
       "    }\n",
       "\n",
       "    .dataframe thead th {\n",
       "        text-align: right;\n",
       "    }\n",
       "</style>\n",
       "<table border=\"1\" class=\"dataframe\">\n",
       "  <thead>\n",
       "    <tr style=\"text-align: right;\">\n",
       "      <th></th>\n",
       "      <th>A</th>\n",
       "      <th>B</th>\n",
       "      <th>C</th>\n",
       "    </tr>\n",
       "  </thead>\n",
       "  <tbody>\n",
       "    <tr>\n",
       "      <th>2000-10-30</th>\n",
       "      <td>0.311886</td>\n",
       "      <td>0.814486</td>\n",
       "      <td>-0.319131</td>\n",
       "    </tr>\n",
       "    <tr>\n",
       "      <th>2000-10-31</th>\n",
       "      <td>0.201663</td>\n",
       "      <td>-0.570876</td>\n",
       "      <td>-1.192250</td>\n",
       "    </tr>\n",
       "    <tr>\n",
       "      <th>2000-11-01</th>\n",
       "      <td>-1.336937</td>\n",
       "      <td>-1.002885</td>\n",
       "      <td>-0.617541</td>\n",
       "    </tr>\n",
       "    <tr>\n",
       "      <th>2000-11-02</th>\n",
       "      <td>-1.351487</td>\n",
       "      <td>0.956463</td>\n",
       "      <td>-0.191726</td>\n",
       "    </tr>\n",
       "    <tr>\n",
       "      <th>2000-11-03</th>\n",
       "      <td>0.645707</td>\n",
       "      <td>-1.800172</td>\n",
       "      <td>2.635171</td>\n",
       "    </tr>\n",
       "  </tbody>\n",
       "</table>\n",
       "</div>"
      ],
      "text/plain": [
       "                   A         B         C\n",
       "2000-10-30  0.311886  0.814486 -0.319131\n",
       "2000-10-31  0.201663 -0.570876 -1.192250\n",
       "2000-11-01 -1.336937 -1.002885 -0.617541\n",
       "2000-11-02 -1.351487  0.956463 -0.191726\n",
       "2000-11-03  0.645707 -1.800172  2.635171"
      ]
     },
     "execution_count": 16,
     "metadata": {},
     "output_type": "execute_result"
    }
   ],
   "source": [
    "df.head()"
   ]
  },
  {
   "cell_type": "code",
   "execution_count": 17,
   "id": "a3d31a18",
   "metadata": {},
   "outputs": [
    {
     "data": {
      "text/html": [
       "<div>\n",
       "<style scoped>\n",
       "    .dataframe tbody tr th:only-of-type {\n",
       "        vertical-align: middle;\n",
       "    }\n",
       "\n",
       "    .dataframe tbody tr th {\n",
       "        vertical-align: top;\n",
       "    }\n",
       "\n",
       "    .dataframe thead th {\n",
       "        text-align: right;\n",
       "    }\n",
       "</style>\n",
       "<table border=\"1\" class=\"dataframe\">\n",
       "  <thead>\n",
       "    <tr style=\"text-align: right;\">\n",
       "      <th></th>\n",
       "      <th>A</th>\n",
       "      <th>B</th>\n",
       "      <th>C</th>\n",
       "    </tr>\n",
       "  </thead>\n",
       "  <tbody>\n",
       "    <tr>\n",
       "      <th>2000-11-04</th>\n",
       "      <td>-0.415008</td>\n",
       "      <td>-0.776868</td>\n",
       "      <td>0.367415</td>\n",
       "    </tr>\n",
       "    <tr>\n",
       "      <th>2000-11-05</th>\n",
       "      <td>0.189199</td>\n",
       "      <td>0.396900</td>\n",
       "      <td>0.805908</td>\n",
       "    </tr>\n",
       "    <tr>\n",
       "      <th>2000-11-06</th>\n",
       "      <td>1.660023</td>\n",
       "      <td>-0.999445</td>\n",
       "      <td>-0.236713</td>\n",
       "    </tr>\n",
       "    <tr>\n",
       "      <th>2000-11-07</th>\n",
       "      <td>-0.790865</td>\n",
       "      <td>0.687874</td>\n",
       "      <td>-0.736453</td>\n",
       "    </tr>\n",
       "    <tr>\n",
       "      <th>2000-11-08</th>\n",
       "      <td>-1.735661</td>\n",
       "      <td>1.069928</td>\n",
       "      <td>-0.377451</td>\n",
       "    </tr>\n",
       "  </tbody>\n",
       "</table>\n",
       "</div>"
      ],
      "text/plain": [
       "                   A         B         C\n",
       "2000-11-04 -0.415008 -0.776868  0.367415\n",
       "2000-11-05  0.189199  0.396900  0.805908\n",
       "2000-11-06  1.660023 -0.999445 -0.236713\n",
       "2000-11-07 -0.790865  0.687874 -0.736453\n",
       "2000-11-08 -1.735661  1.069928 -0.377451"
      ]
     },
     "execution_count": 17,
     "metadata": {},
     "output_type": "execute_result"
    }
   ],
   "source": [
    "df.tail()"
   ]
  },
  {
   "cell_type": "code",
   "execution_count": 18,
   "id": "7b65d3ef",
   "metadata": {},
   "outputs": [
    {
     "data": {
      "text/html": [
       "<div>\n",
       "<style scoped>\n",
       "    .dataframe tbody tr th:only-of-type {\n",
       "        vertical-align: middle;\n",
       "    }\n",
       "\n",
       "    .dataframe tbody tr th {\n",
       "        vertical-align: top;\n",
       "    }\n",
       "\n",
       "    .dataframe thead th {\n",
       "        text-align: right;\n",
       "    }\n",
       "</style>\n",
       "<table border=\"1\" class=\"dataframe\">\n",
       "  <thead>\n",
       "    <tr style=\"text-align: right;\">\n",
       "      <th></th>\n",
       "      <th>A</th>\n",
       "      <th>B</th>\n",
       "      <th>C</th>\n",
       "    </tr>\n",
       "  </thead>\n",
       "  <tbody>\n",
       "    <tr>\n",
       "      <th>2000-10-30</th>\n",
       "      <td>0.311886</td>\n",
       "      <td>0.814486</td>\n",
       "      <td>-0.319131</td>\n",
       "    </tr>\n",
       "    <tr>\n",
       "      <th>2000-10-31</th>\n",
       "      <td>0.201663</td>\n",
       "      <td>-0.570876</td>\n",
       "      <td>-1.192250</td>\n",
       "    </tr>\n",
       "  </tbody>\n",
       "</table>\n",
       "</div>"
      ],
      "text/plain": [
       "                   A         B         C\n",
       "2000-10-30  0.311886  0.814486 -0.319131\n",
       "2000-10-31  0.201663 -0.570876 -1.192250"
      ]
     },
     "execution_count": 18,
     "metadata": {},
     "output_type": "execute_result"
    }
   ],
   "source": [
    "df[0:2]"
   ]
  },
  {
   "cell_type": "code",
   "execution_count": 20,
   "id": "c0d7b5bb",
   "metadata": {},
   "outputs": [
    {
     "data": {
      "text/plain": [
       "A    0.311886\n",
       "B    0.814486\n",
       "C   -0.319131\n",
       "Name: 2000-10-30 00:00:00, dtype: float64"
      ]
     },
     "execution_count": 20,
     "metadata": {},
     "output_type": "execute_result"
    }
   ],
   "source": [
    "df.loc[f[0]]"
   ]
  },
  {
   "cell_type": "code",
   "execution_count": 23,
   "id": "b6531073",
   "metadata": {},
   "outputs": [
    {
     "data": {
      "text/html": [
       "<div>\n",
       "<style scoped>\n",
       "    .dataframe tbody tr th:only-of-type {\n",
       "        vertical-align: middle;\n",
       "    }\n",
       "\n",
       "    .dataframe tbody tr th {\n",
       "        vertical-align: top;\n",
       "    }\n",
       "\n",
       "    .dataframe thead th {\n",
       "        text-align: right;\n",
       "    }\n",
       "</style>\n",
       "<table border=\"1\" class=\"dataframe\">\n",
       "  <thead>\n",
       "    <tr style=\"text-align: right;\">\n",
       "      <th></th>\n",
       "      <th>A</th>\n",
       "      <th>B</th>\n",
       "      <th>C</th>\n",
       "      <th>E</th>\n",
       "    </tr>\n",
       "  </thead>\n",
       "  <tbody>\n",
       "    <tr>\n",
       "      <th>2000-10-30</th>\n",
       "      <td>0.311886</td>\n",
       "      <td>0.814486</td>\n",
       "      <td>-0.319131</td>\n",
       "      <td>1.0</td>\n",
       "    </tr>\n",
       "    <tr>\n",
       "      <th>2000-10-31</th>\n",
       "      <td>0.201663</td>\n",
       "      <td>-0.570876</td>\n",
       "      <td>-1.192250</td>\n",
       "      <td>1.0</td>\n",
       "    </tr>\n",
       "    <tr>\n",
       "      <th>2000-11-01</th>\n",
       "      <td>-1.336937</td>\n",
       "      <td>-1.002885</td>\n",
       "      <td>-0.617541</td>\n",
       "      <td>NaN</td>\n",
       "    </tr>\n",
       "  </tbody>\n",
       "</table>\n",
       "</div>"
      ],
      "text/plain": [
       "                   A         B         C    E\n",
       "2000-10-30  0.311886  0.814486 -0.319131  1.0\n",
       "2000-10-31  0.201663 -0.570876 -1.192250  1.0\n",
       "2000-11-01 -1.336937 -1.002885 -0.617541  NaN"
      ]
     },
     "execution_count": 23,
     "metadata": {},
     "output_type": "execute_result"
    }
   ],
   "source": [
    "df2=df.reindex(index=f[0:3],columns=list(df.columns)+[\"E\"])\n",
    "df2.loc[f[0]:f[1], \"E\"]=1\n",
    "df2"
   ]
  },
  {
   "cell_type": "code",
   "execution_count": null,
   "id": "1c57e6f6",
   "metadata": {},
   "outputs": [],
   "source": []
  }
 ],
 "metadata": {
  "kernelspec": {
   "display_name": "Python 3 (ipykernel)",
   "language": "python",
   "name": "python3"
  },
  "language_info": {
   "codemirror_mode": {
    "name": "ipython",
    "version": 3
   },
   "file_extension": ".py",
   "mimetype": "text/x-python",
   "name": "python",
   "nbconvert_exporter": "python",
   "pygments_lexer": "ipython3",
   "version": "3.9.12"
  }
 },
 "nbformat": 4,
 "nbformat_minor": 5
}
