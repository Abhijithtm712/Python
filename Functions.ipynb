{
 "cells": [
  {
   "cell_type": "code",
   "execution_count": 1,
   "id": "25e056dc",
   "metadata": {},
   "outputs": [
    {
     "name": "stdout",
     "output_type": "stream",
     "text": [
      "30\n"
     ]
    }
   ],
   "source": [
    "def sum(a,b):\n",
    "    print(a+b)\n",
    "sum(10,20)    \n",
    "    "
   ]
  },
  {
   "cell_type": "code",
   "execution_count": 2,
   "id": "dd7c0f67",
   "metadata": {},
   "outputs": [
    {
     "name": "stdout",
     "output_type": "stream",
     "text": [
      "my name is:  abhijith\n",
      "my roll_no is:  1\n",
      "my place is:  kannur\n",
      "my age is:  20\n"
     ]
    }
   ],
   "source": [
    "def student(name,roll_no,place,age):\n",
    "    print(\"my name is: \",name)\n",
    "    print(\"my roll_no is: \",roll_no)\n",
    "    print(\"my place is: \",place)\n",
    "    print(\"my age is: \",age)\n",
    "#    print(name,roll_no,place,age)\n",
    "student(\"abhijith\",1,\"kannur\",20)    "
   ]
  },
  {
   "cell_type": "code",
   "execution_count": 3,
   "id": "fd22164c",
   "metadata": {},
   "outputs": [
    {
     "name": "stdout",
     "output_type": "stream",
     "text": [
      "enter your name abhijith\n",
      "enter your id num1\n",
      "enter your designation  bba\n",
      "enter your placekannur\n",
      "my name is:  abhijith\n",
      "my id_num is:  1\n",
      "my designation:  bba\n",
      "my place is:  kannur\n"
     ]
    }
   ],
   "source": [
    "def customer(name,id_num,designation,place):\n",
    "    print(\"my name is: \",name)\n",
    "    print(\"my id_num is: \",id_num)\n",
    "    print(\"my designation: \",designation)\n",
    "    print(\"my place is: \",place)\n",
    "a=input(\"enter your name \")\n",
    "b=int(input(\"enter your id num\"))\n",
    "c=input(\"enter your designation  \")\n",
    "d=input(\"enter your place\")\n",
    "customer(a,b,c,d)"
   ]
  },
  {
   "cell_type": "code",
   "execution_count": 4,
   "id": "45b8cf1c",
   "metadata": {},
   "outputs": [
    {
     "name": "stdout",
     "output_type": "stream",
     "text": [
      "90\n",
      "80\n"
     ]
    }
   ],
   "source": [
    "def kannur():\n",
    "    a=90\n",
    "    print(a)\n",
    "a=80\n",
    "kannur()\n",
    "print(a)"
   ]
  },
  {
   "cell_type": "code",
   "execution_count": 5,
   "id": "1bcfc68c",
   "metadata": {},
   "outputs": [
    {
     "name": "stdout",
     "output_type": "stream",
     "text": [
      "enter your placekannur\n",
      "enter your nameabhijith\n",
      "enter your id_num1\n",
      "my place is: kannur\n",
      "my name is: abhijith\n",
      "my id_num: 1\n",
      "90 80 70\n",
      "40 50 30\n"
     ]
    }
   ],
   "source": [
    "def jupiter(place,name,id_num):\n",
    "    print(\"my place is:\",place)\n",
    "    print(\"my name is:\",name)\n",
    "    print(\"my id_num:\",id_num)\n",
    "    b=90\n",
    "    c=80\n",
    "    d=70\n",
    "    print(b,c,d)\n",
    "b=40\n",
    "c=50\n",
    "d=30\n",
    "o=input(\"enter your place\")\n",
    "p=input(\"enter your name\")\n",
    "q=int(input(\"enter your id_num\"))\n",
    "jupiter(o,p,q)\n",
    "print(b,c,d)"
   ]
  },
  {
   "cell_type": "code",
   "execution_count": 6,
   "id": "cf1dc820",
   "metadata": {
    "scrolled": true
   },
   "outputs": [
    {
     "name": "stdout",
     "output_type": "stream",
     "text": [
      "90\n",
      "60\n"
     ]
    }
   ],
   "source": [
    "def world():\n",
    "    '''to print a variable'''\n",
    "    e=90\n",
    "    print(e)\n",
    "e=60\n",
    "world()\n",
    "print(e)"
   ]
  },
  {
   "cell_type": "code",
   "execution_count": 7,
   "id": "720ee233",
   "metadata": {},
   "outputs": [
    {
     "name": "stdout",
     "output_type": "stream",
     "text": [
      "hello aman,good morning\n",
      "hello 'abhijith,good night\n"
     ]
    }
   ],
   "source": [
    "def wish(name,greet=\"good morning\"):\n",
    "    print(\"hello\", name + ',' + greet)\n",
    "wish(\"aman\")\n",
    "wish(\"'abhijith\",\"good night\")"
   ]
  },
  {
   "cell_type": "code",
   "execution_count": 8,
   "id": "fcd8aadb",
   "metadata": {},
   "outputs": [
    {
     "name": "stdout",
     "output_type": "stream",
     "text": [
      "i am abhijith\n",
      "my state is karnataka\n",
      "my age is 70\n",
      "i am coming from kannur\n"
     ]
    }
   ],
   "source": [
    "def write(name,state,age=21,place=\"kannur\"):\n",
    "    print(\"i am\",name)\n",
    "    print(\"my state is\",state)\n",
    "    print(\"my age is\",age)\n",
    "    print(\"i am coming from\",place)\n",
    "# write(\"abhijith\",\"kerala\")\n",
    "# write(\"abhijith\",\"kerala\",60)\n",
    "write(\"abhijith\",\"karnataka\",70)\n",
    "# write(\"abhijith\",\"kerala\",40,\"kannur\")"
   ]
  },
  {
   "cell_type": "code",
   "execution_count": 9,
   "id": "be833b6d",
   "metadata": {},
   "outputs": [
    {
     "name": "stdout",
     "output_type": "stream",
     "text": [
      "25\n",
      "150\n"
     ]
    }
   ],
   "source": [
    "def calculation(c,d):\n",
    "    print(c+d)\n",
    "    print(c*d)\n",
    "calculation(10,15)    \n",
    "    "
   ]
  },
  {
   "cell_type": "code",
   "execution_count": 10,
   "id": "cef2688d",
   "metadata": {},
   "outputs": [
    {
     "name": "stdout",
     "output_type": "stream",
     "text": [
      "my name is abhijith\n",
      "my salary is 80000\n"
     ]
    }
   ],
   "source": [
    "def employee(name,salary=20000):\n",
    "    print(\"my name is\",name)\n",
    "    print(\"my salary is\",salary)\n",
    "employee(\"abhijith\",80000)\n",
    "\n",
    "\n",
    "    "
   ]
  },
  {
   "cell_type": "code",
   "execution_count": 11,
   "id": "aa9283d5",
   "metadata": {},
   "outputs": [
    {
     "name": "stdout",
     "output_type": "stream",
     "text": [
      "my car is mustang GT\n",
      "my bike is GT650\n",
      "my car is BMW\n",
      "my bike is RR310\n",
      "my car is polo\n",
      "my bike is GS310\n",
      "my car is BENZ\n",
      "my bike is RC390\n",
      "my car is swift\n",
      "my bike is himalayan\n"
     ]
    }
   ],
   "source": [
    "def road(car,bike=\"GT650\"):\n",
    "    print(\"my car is\",car)\n",
    "    print(\"my bike is\",bike)\n",
    "road(\"mustang GT\")    \n",
    "road(\"BMW\",\"RR310\")\n",
    "road(car=\"polo\",bike=\"GS310\")\n",
    "road(bike=\"RC390\",car=\"BENZ\")\n",
    "road(\"swift\",bike=\"himalayan\")\n"
   ]
  },
  {
   "cell_type": "code",
   "execution_count": 12,
   "id": "c6aac14b",
   "metadata": {},
   "outputs": [
    {
     "name": "stdout",
     "output_type": "stream",
     "text": [
      "22\n"
     ]
    }
   ],
   "source": [
    "g=lambda h:h*2\n",
    "print(g(11))"
   ]
  },
  {
   "cell_type": "code",
   "execution_count": 13,
   "id": "0650fba3",
   "metadata": {},
   "outputs": [
    {
     "name": "stdout",
     "output_type": "stream",
     "text": [
      "[8, 2, 4, 6, 10]\n"
     ]
    }
   ],
   "source": [
    "a=[5,8,9,3,1,2,4,6,7,10]\n",
    "b=list(filter(lambda o:(o%2==0),a))\n",
    "print(b)"
   ]
  },
  {
   "cell_type": "code",
   "execution_count": 14,
   "id": "692de8ef",
   "metadata": {},
   "outputs": [
    {
     "name": "stdout",
     "output_type": "stream",
     "text": [
      "[2, 4, 6, 8, 10, 12, 14, 16]\n"
     ]
    }
   ],
   "source": [
    "e=[1,2,3,4,5,6,7,8]\n",
    "f=list(map(lambda g:g*2,e))\n",
    "print(f)"
   ]
  },
  {
   "cell_type": "code",
   "execution_count": 15,
   "id": "ebbee596",
   "metadata": {
    "scrolled": true
   },
   "outputs": [
    {
     "name": "stdout",
     "output_type": "stream",
     "text": [
      "90\n",
      "my name is abhijith\n",
      "my department is bba\n",
      "my id_num is 70\n",
      "44\n"
     ]
    }
   ],
   "source": [
    "x=44\n",
    "def student(name,department,id_num=88):\n",
    "    x=90\n",
    "    print(x)\n",
    "    print(\"my name is\" ,name)\n",
    "    print(\"my department is\", department)\n",
    "    print(\"my id_num is\", id_num)\n",
    "student(\"abhijith\",\"bba\",70)\n",
    "print(x)\n"
   ]
  },
  {
   "cell_type": "code",
   "execution_count": 16,
   "id": "68f7b614",
   "metadata": {},
   "outputs": [
    {
     "name": "stdout",
     "output_type": "stream",
     "text": [
      "3.141592653589793\n"
     ]
    }
   ],
   "source": [
    "import  math\n",
    "print (math.pi)"
   ]
  },
  {
   "cell_type": "code",
   "execution_count": 17,
   "id": "98ccf2cf",
   "metadata": {},
   "outputs": [
    {
     "name": "stdout",
     "output_type": "stream",
     "text": [
      "3.141592653589793\n"
     ]
    }
   ],
   "source": [
    "import math as m\n",
    "print(m.pi)"
   ]
  },
  {
   "cell_type": "code",
   "execution_count": 18,
   "id": "9b5b2820",
   "metadata": {},
   "outputs": [
    {
     "name": "stdout",
     "output_type": "stream",
     "text": [
      "3.141592653589793\n"
     ]
    }
   ],
   "source": [
    "from math import pi\n",
    "print(pi)"
   ]
  },
  {
   "cell_type": "code",
   "execution_count": 19,
   "id": "0537084c",
   "metadata": {},
   "outputs": [
    {
     "name": "stdout",
     "output_type": "stream",
     "text": [
      "3.141592653589793\n"
     ]
    }
   ],
   "source": [
    "from math import *\n",
    "print(pi)"
   ]
  },
  {
   "cell_type": "code",
   "execution_count": 20,
   "id": "361ad175",
   "metadata": {},
   "outputs": [
    {
     "name": "stdout",
     "output_type": "stream",
     "text": [
      "40\n",
      "60\n",
      "100\n"
     ]
    }
   ],
   "source": [
    "def add():\n",
    "    a=int(input())\n",
    "    b=int(input())\n",
    "    print(a+b)\n",
    "add()    "
   ]
  },
  {
   "cell_type": "code",
   "execution_count": 21,
   "id": "05e1686e",
   "metadata": {},
   "outputs": [
    {
     "name": "stdout",
     "output_type": "stream",
     "text": [
      "50\n",
      "50\n",
      "100\n"
     ]
    }
   ],
   "source": [
    "def add(a,b):\n",
    "    print(a+b)\n",
    "a=int(input())\n",
    "b=int(input())\n",
    "add(a,b)"
   ]
  },
  {
   "cell_type": "code",
   "execution_count": 22,
   "id": "0d0e8381",
   "metadata": {},
   "outputs": [
    {
     "name": "stdout",
     "output_type": "stream",
     "text": [
      "5\n",
      "area of cirlce= 78.5\n"
     ]
    }
   ],
   "source": [
    "def circle(pi=3.14):\n",
    "    r=int(input())\n",
    "    area=(pi*r*r)\n",
    "    print(\"area of cirlce=\",area)\n",
    "circle()"
   ]
  },
  {
   "cell_type": "code",
   "execution_count": 23,
   "id": "57b9bb38",
   "metadata": {},
   "outputs": [
    {
     "name": "stdout",
     "output_type": "stream",
     "text": [
      "enter a number5\n",
      "enter power2\n",
      "25\n"
     ]
    }
   ],
   "source": [
    "def power(k,g):\n",
    "    a=(k**g)\n",
    "    print(a)\n",
    "p=int(input(\"enter a number\")) \n",
    "okey=int(input(\"enter power\"))\n",
    "power(p,okey)"
   ]
  },
  {
   "cell_type": "code",
   "execution_count": 24,
   "id": "1588a247",
   "metadata": {},
   "outputs": [
    {
     "name": "stdout",
     "output_type": "stream",
     "text": [
      "enter a number9\n",
      "enter a number8\n",
      "36.0\n"
     ]
    }
   ],
   "source": [
    "def triangle(half=1/2):\n",
    "    print(half*b*h)\n",
    "b=int(input(\"enter a number\"))\n",
    "h=int(input(\"enter a number\"))\n",
    "triangle()    "
   ]
  },
  {
   "cell_type": "code",
   "execution_count": null,
   "id": "96a09173",
   "metadata": {},
   "outputs": [],
   "source": []
  }
 ],
 "metadata": {
  "kernelspec": {
   "display_name": "Python 3 (ipykernel)",
   "language": "python",
   "name": "python3"
  },
  "language_info": {
   "codemirror_mode": {
    "name": "ipython",
    "version": 3
   },
   "file_extension": ".py",
   "mimetype": "text/x-python",
   "name": "python",
   "nbconvert_exporter": "python",
   "pygments_lexer": "ipython3",
   "version": "3.9.12"
  }
 },
 "nbformat": 4,
 "nbformat_minor": 5
}
