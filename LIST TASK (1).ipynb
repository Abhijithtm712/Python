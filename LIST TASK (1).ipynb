{
 "cells": [
  {
   "cell_type": "code",
   "execution_count": 1,
   "id": "dc2d5764",
   "metadata": {},
   "outputs": [
    {
     "name": "stdout",
     "output_type": "stream",
     "text": [
      "150\n"
     ]
    }
   ],
   "source": [
    "mylist=[50,40,30,20,10]\n",
    "print(sum(mylist))"
   ]
  },
  {
   "cell_type": "code",
   "execution_count": 2,
   "id": "70a17bb1",
   "metadata": {},
   "outputs": [
    {
     "name": "stdout",
     "output_type": "stream",
     "text": [
      "100\n"
     ]
    }
   ],
   "source": [
    "a=[100,99,80,50,98]\n",
    "print(max(a))"
   ]
  },
  {
   "cell_type": "code",
   "execution_count": 3,
   "id": "b691742a",
   "metadata": {},
   "outputs": [
    {
     "name": "stdout",
     "output_type": "stream",
     "text": [
      "25\n"
     ]
    }
   ],
   "source": [
    "a=[45,55,25,35,65]\n",
    "print(min(a))"
   ]
  },
  {
   "cell_type": "code",
   "execution_count": 24,
   "id": "6216fa03",
   "metadata": {},
   "outputs": [
    {
     "name": "stdout",
     "output_type": "stream",
     "text": [
      "list is empty\n"
     ]
    }
   ],
   "source": [
    "a=[  ]\n",
    "b=len(a)\n",
    "if b>0:\n",
    "    print(\"list contain elements\")\n",
    "else:  \n",
    "    print(\"list is empty\")"
   ]
  },
  {
   "cell_type": "code",
   "execution_count": 9,
   "id": "cf926da0",
   "metadata": {},
   "outputs": [
    {
     "name": "stdout",
     "output_type": "stream",
     "text": [
      "['monday', 50, 60, 70]\n",
      "['monday', 50, 60, 70]\n"
     ]
    }
   ],
   "source": [
    "a=[\"monday\",50,60,70]\n",
    "b=a\n",
    "print(a)\n",
    "print(b)"
   ]
  },
  {
   "cell_type": "code",
   "execution_count": 15,
   "id": "a9bc2a11",
   "metadata": {},
   "outputs": [
    {
     "name": "stdout",
     "output_type": "stream",
     "text": [
      "[10, 'ab', 20, 50]\n"
     ]
    }
   ],
   "source": [
    "m=[10,\"ab\",20]\n",
    "m.append(50)\n",
    "print(m)"
   ]
  },
  {
   "cell_type": "code",
   "execution_count": 17,
   "id": "22ee4b8c",
   "metadata": {},
   "outputs": [
    {
     "name": "stdout",
     "output_type": "stream",
     "text": [
      "[22, 'tm', 33, 44, 55, 66]\n"
     ]
    }
   ],
   "source": [
    "m=[22,\"tm\",33]\n",
    "m.extend([44,55,66])\n",
    "print(m)"
   ]
  },
  {
   "cell_type": "code",
   "execution_count": 29,
   "id": "6f62b656",
   "metadata": {},
   "outputs": [
    {
     "name": "stdout",
     "output_type": "stream",
     "text": [
      "['welcome', 'you']\n"
     ]
    }
   ],
   "source": [
    "str1=\"welcome you\"\n",
    "list1=str1.split()\n",
    "print(list1)"
   ]
  },
  {
   "cell_type": "code",
   "execution_count": 43,
   "id": "2a07d4e5",
   "metadata": {},
   "outputs": [
    {
     "name": "stdout",
     "output_type": "stream",
     "text": [
      "1\n",
      "3\n",
      "5\n",
      "7\n",
      "9\n"
     ]
    }
   ],
   "source": [
    "a=[1,2,3,4,5,6,7,8,9,10]\n",
    "for i in a:\n",
    "    if i%2==1:\n",
    "        print(i)\n",
    "   \n"
   ]
  },
  {
   "cell_type": "code",
   "execution_count": 44,
   "id": "0f047f78",
   "metadata": {},
   "outputs": [
    {
     "name": "stdout",
     "output_type": "stream",
     "text": [
      "range(0, 10)\n"
     ]
    }
   ],
   "source": [
    "print(range(10))"
   ]
  },
  {
   "cell_type": "code",
   "execution_count": 45,
   "id": "e9a38e79",
   "metadata": {},
   "outputs": [
    {
     "name": "stdout",
     "output_type": "stream",
     "text": [
      "0\n",
      "1\n",
      "2\n",
      "3\n",
      "4\n",
      "5\n",
      "6\n",
      "7\n",
      "8\n",
      "9\n"
     ]
    }
   ],
   "source": [
    "for i in range(10):\n",
    "    print(i)"
   ]
  },
  {
   "cell_type": "code",
   "execution_count": 46,
   "id": "bdec88fc",
   "metadata": {},
   "outputs": [
    {
     "name": "stdout",
     "output_type": "stream",
     "text": [
      "2\n",
      "3\n",
      "4\n",
      "5\n",
      "6\n",
      "7\n",
      "8\n",
      "9\n"
     ]
    }
   ],
   "source": [
    "for i in range(2,10):\n",
    "    print(i)"
   ]
  },
  {
   "cell_type": "code",
   "execution_count": 48,
   "id": "23a96d9f",
   "metadata": {},
   "outputs": [
    {
     "name": "stdout",
     "output_type": "stream",
     "text": [
      "1\n",
      "4\n",
      "7\n"
     ]
    }
   ],
   "source": [
    "for i in range(1,10,3):\n",
    "    print(i)"
   ]
  },
  {
   "cell_type": "code",
   "execution_count": 49,
   "id": "606b6ea1",
   "metadata": {},
   "outputs": [
    {
     "name": "stdout",
     "output_type": "stream",
     "text": [
      "0 55\n",
      "1 44\n",
      "2 33\n",
      "3 22\n",
      "4 11\n"
     ]
    }
   ],
   "source": [
    "mylist=[55,44,33,22,11]\n",
    "for i in range(len(mylist)):\n",
    "    value=mylist[i]\n",
    "    print(i,value)"
   ]
  },
  {
   "cell_type": "code",
   "execution_count": 53,
   "id": "137175d2",
   "metadata": {},
   "outputs": [
    {
     "name": "stdout",
     "output_type": "stream",
     "text": [
      " program for concatenation\n"
     ]
    }
   ],
   "source": [
    "a=[\"program\",\"for\",\"concatenation\"]\n",
    "b=\"\"\n",
    "for i in a:\n",
    "    b=b+ \" \" +i\n",
    "print(b)"
   ]
  },
  {
   "cell_type": "code",
   "execution_count": null,
   "id": "1b387fe9",
   "metadata": {},
   "outputs": [],
   "source": []
  }
 ],
 "metadata": {
  "kernelspec": {
   "display_name": "Python 3 (ipykernel)",
   "language": "python",
   "name": "python3"
  },
  "language_info": {
   "codemirror_mode": {
    "name": "ipython",
    "version": 3
   },
   "file_extension": ".py",
   "mimetype": "text/x-python",
   "name": "python",
   "nbconvert_exporter": "python",
   "pygments_lexer": "ipython3",
   "version": "3.9.12"
  }
 },
 "nbformat": 4,
 "nbformat_minor": 5
}
