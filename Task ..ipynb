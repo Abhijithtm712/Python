{
 "cells": [
  {
   "cell_type": "code",
   "execution_count": 2,
   "id": "e6ad01cd",
   "metadata": {},
   "outputs": [
    {
     "name": "stdout",
     "output_type": "stream",
     "text": [
      "24\n"
     ]
    }
   ],
   "source": [
    "def rectangle(l,b):\n",
    "    u=l*b\n",
    "    print(u)\n",
    "rectangle(4,6)    "
   ]
  },
  {
   "cell_type": "code",
   "execution_count": 3,
   "id": "fedfbbde",
   "metadata": {},
   "outputs": [
    {
     "name": "stdout",
     "output_type": "stream",
     "text": [
      "the largest number is :  30\n"
     ]
    }
   ],
   "source": [
    "a=10\n",
    "b=20\n",
    "c=30\n",
    "if (a>b)&(a>c):\n",
    "    print(\"the largest number is : \", a)\n",
    "elif (b>a)&(b>c):\n",
    "    print(\"the largest number is : \", b)\n",
    "else:\n",
    "    print(\"the largest number is : \", c)"
   ]
  },
  {
   "cell_type": "code",
   "execution_count": 7,
   "id": "3066c336",
   "metadata": {},
   "outputs": [
    {
     "name": "stdout",
     "output_type": "stream",
     "text": [
      "enter a number-4\n",
      "a is negative\n"
     ]
    }
   ],
   "source": [
    "a=int(input(\"enter a number\"))\n",
    "if (a>0):\n",
    "    print(\"a is positive\")\n",
    "elif (a<0):\n",
    "    print(\"a is negative\")\n",
    "else:\n",
    "    print(\"entered number is zero \")"
   ]
  },
  {
   "cell_type": "code",
   "execution_count": 8,
   "id": "c2f63108",
   "metadata": {},
   "outputs": [
    {
     "name": "stdout",
     "output_type": "stream",
     "text": [
      "6\n"
     ]
    }
   ],
   "source": [
    "a=2\n",
    "b=4\n",
    "c=(a+b)\n",
    "print(c)"
   ]
  },
  {
   "cell_type": "code",
   "execution_count": 9,
   "id": "b1b1fbea",
   "metadata": {},
   "outputs": [
    {
     "name": "stdout",
     "output_type": "stream",
     "text": [
      "the factorial of a num is :  120\n"
     ]
    }
   ],
   "source": [
    "num=5\n",
    "h=1\n",
    "for i in range(1,num+1):\n",
    "    h=h*i\n",
    "print(\"the factorial of a num is : \",h )    "
   ]
  },
  {
   "cell_type": "code",
   "execution_count": null,
   "id": "c38cfca9",
   "metadata": {},
   "outputs": [],
   "source": []
  }
 ],
 "metadata": {
  "kernelspec": {
   "display_name": "Python 3 (ipykernel)",
   "language": "python",
   "name": "python3"
  },
  "language_info": {
   "codemirror_mode": {
    "name": "ipython",
    "version": 3
   },
   "file_extension": ".py",
   "mimetype": "text/x-python",
   "name": "python",
   "nbconvert_exporter": "python",
   "pygments_lexer": "ipython3",
   "version": "3.9.12"
  }
 },
 "nbformat": 4,
 "nbformat_minor": 5
}
