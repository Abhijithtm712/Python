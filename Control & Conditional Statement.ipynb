{
 "cells": [
  {
   "cell_type": "code",
   "execution_count": 1,
   "id": "e6f8956b",
   "metadata": {},
   "outputs": [
    {
     "name": "stdout",
     "output_type": "stream",
     "text": [
      "it is a positive number\n"
     ]
    }
   ],
   "source": [
    "b=30\n",
    "if b>0:\n",
    "    print(\"it is a positive number\")\n",
    "elif b<0:\n",
    "    print:(\"it is a negative number\")\n",
    "else:\n",
    "    print(\"it is 0\")"
   ]
  },
  {
   "cell_type": "code",
   "execution_count": 7,
   "id": "6edba5a7",
   "metadata": {},
   "outputs": [
    {
     "name": "stdout",
     "output_type": "stream",
     "text": [
      "enter the bill amount2000\n",
      "200.0\n",
      "1800.0\n"
     ]
    }
   ],
   "source": [
    "a=int(input(\"enter the bill amount\"))\n",
    "if a>1000:\n",
    "    b=10/100*a\n",
    "    print(b)\n",
    "    a=a-b\n",
    "    print(a)"
   ]
  },
  {
   "cell_type": "code",
   "execution_count": 2,
   "id": "7bb3f524",
   "metadata": {},
   "outputs": [
    {
     "name": "stdout",
     "output_type": "stream",
     "text": [
      "enter a number10\n",
      "the entered number is multiple of 5\n"
     ]
    }
   ],
   "source": [
    "g=int(input(\"enter a number\"))\n",
    "if g%5==0:\n",
    "    print(\"the entered number is multiple of 5\")\n",
    "else:\n",
    "    print(\"the entered number is not a multiple of 5\")\n",
    "    "
   ]
  },
  {
   "cell_type": "code",
   "execution_count": 13,
   "id": "4a9431fb",
   "metadata": {},
   "outputs": [
    {
     "name": "stdout",
     "output_type": "stream",
     "text": [
      "enter your age18\n",
      "you are eligible for voting\n"
     ]
    }
   ],
   "source": [
    "a=int(input(\"enter your age\"))\n",
    "if a<18:\n",
    "    print(\"you are not eligible for voting\")\n",
    "elif (a>18)and(a>25):\n",
    "    print(\"you are eligible for contesting an election\")\n",
    "else:\n",
    "    print(\"you are eligible for voting\")"
   ]
  },
  {
   "cell_type": "code",
   "execution_count": 1,
   "id": "a6caf714",
   "metadata": {},
   "outputs": [
    {
     "name": "stdout",
     "output_type": "stream",
     "text": [
      "22\n",
      "55\n",
      "666\n",
      "88\n",
      "99\n",
      "44\n"
     ]
    }
   ],
   "source": [
    "j=[22,55,666,88,99,44]\n",
    "for i in j:\n",
    "    print(i)"
   ]
  },
  {
   "cell_type": "code",
   "execution_count": 6,
   "id": "ccc82f1b",
   "metadata": {},
   "outputs": [
    {
     "name": "stdout",
     "output_type": "stream",
     "text": [
      "100\n"
     ]
    }
   ],
   "source": [
    "h=[10,20,30,40]\n",
    "t=0\n",
    "for i in h:\n",
    "    t=t+i\n",
    "print(t)    "
   ]
  },
  {
   "cell_type": "code",
   "execution_count": 7,
   "id": "60c4acc4",
   "metadata": {},
   "outputs": [
    {
     "name": "stdout",
     "output_type": "stream",
     "text": [
      "range(0, 10)\n"
     ]
    }
   ],
   "source": [
    "print (range(10))"
   ]
  },
  {
   "cell_type": "code",
   "execution_count": 8,
   "id": "8a797781",
   "metadata": {},
   "outputs": [
    {
     "name": "stdout",
     "output_type": "stream",
     "text": [
      "[0, 1, 2, 3, 4, 5, 6, 7, 8, 9]\n"
     ]
    }
   ],
   "source": [
    "print(list(range(10)))"
   ]
  },
  {
   "cell_type": "code",
   "execution_count": 9,
   "id": "abfe0558",
   "metadata": {},
   "outputs": [
    {
     "name": "stdout",
     "output_type": "stream",
     "text": [
      "[2, 3, 4, 5, 6, 7, 8, 9, 10]\n"
     ]
    }
   ],
   "source": [
    "print(list(range(2,11)))"
   ]
  },
  {
   "cell_type": "code",
   "execution_count": 10,
   "id": "b8f7ab4a",
   "metadata": {},
   "outputs": [
    {
     "name": "stdout",
     "output_type": "stream",
     "text": [
      "[2, 4, 6, 8, 10, 12, 14]\n"
     ]
    }
   ],
   "source": [
    "print(list(range(2,15,2)))"
   ]
  },
  {
   "cell_type": "code",
   "execution_count": 4,
   "id": "0aae63ce",
   "metadata": {},
   "outputs": [
    {
     "name": "stdout",
     "output_type": "stream",
     "text": [
      "enter a number6\n",
      "720\n"
     ]
    }
   ],
   "source": [
    "a=int(input(\"enter a number\"))\n",
    "b=1\n",
    "for i in range(1,a+1):\n",
    "    b=b*i\n",
    "print(b)    "
   ]
  },
  {
   "cell_type": "code",
   "execution_count": 5,
   "id": "5a434cc1",
   "metadata": {},
   "outputs": [
    {
     "name": "stdout",
     "output_type": "stream",
     "text": [
      "enter a number8\n",
      "40320\n"
     ]
    }
   ],
   "source": [
    "e=int(input(\"enter a number\"))\n",
    "t=1\n",
    "while e>=1:\n",
    "    t=t*e\n",
    "    e=e-1\n",
    "print(t)    "
   ]
  },
  {
   "cell_type": "code",
   "execution_count": 7,
   "id": "b2387b72",
   "metadata": {},
   "outputs": [
    {
     "name": "stdout",
     "output_type": "stream",
     "text": [
      "0\n",
      "1\n",
      "2\n"
     ]
    }
   ],
   "source": [
    "for i in range(10):\n",
    "    if i==3:\n",
    "        break\n",
    "    print(i)"
   ]
  },
  {
   "cell_type": "code",
   "execution_count": 8,
   "id": "d450c987",
   "metadata": {},
   "outputs": [
    {
     "name": "stdout",
     "output_type": "stream",
     "text": [
      "0\n",
      "1\n",
      "2\n",
      "4\n",
      "5\n",
      "6\n",
      "7\n",
      "8\n",
      "9\n"
     ]
    }
   ],
   "source": [
    "for i in range(10):\n",
    "    if i==3:\n",
    "        continue\n",
    "    print(i)"
   ]
  },
  {
   "cell_type": "code",
   "execution_count": 7,
   "id": "12998bfa",
   "metadata": {},
   "outputs": [],
   "source": [
    "for i in range(10):\n",
    "    pass"
   ]
  },
  {
   "cell_type": "code",
   "execution_count": null,
   "id": "7865653f",
   "metadata": {},
   "outputs": [],
   "source": []
  }
 ],
 "metadata": {
  "kernelspec": {
   "display_name": "Python 3 (ipykernel)",
   "language": "python",
   "name": "python3"
  },
  "language_info": {
   "codemirror_mode": {
    "name": "ipython",
    "version": 3
   },
   "file_extension": ".py",
   "mimetype": "text/x-python",
   "name": "python",
   "nbconvert_exporter": "python",
   "pygments_lexer": "ipython3",
   "version": "3.9.12"
  }
 },
 "nbformat": 4,
 "nbformat_minor": 5
}
