{
 "cells": [
  {
   "cell_type": "code",
   "execution_count": 1,
   "id": "abf5bc6b",
   "metadata": {},
   "outputs": [],
   "source": [
    "import numpy as np"
   ]
  },
  {
   "cell_type": "code",
   "execution_count": 2,
   "id": "48d9121a",
   "metadata": {},
   "outputs": [
    {
     "name": "stdout",
     "output_type": "stream",
     "text": [
      "[[6 7 8]\n",
      " [9 5 4]]\n"
     ]
    }
   ],
   "source": [
    "h=np.array([(6,7,8),(9,5,4)])\n",
    "print(h)"
   ]
  },
  {
   "cell_type": "code",
   "execution_count": 3,
   "id": "0a89b0e3",
   "metadata": {},
   "outputs": [
    {
     "name": "stdout",
     "output_type": "stream",
     "text": [
      "2\n"
     ]
    }
   ],
   "source": [
    "print(h.ndim)"
   ]
  },
  {
   "cell_type": "code",
   "execution_count": 4,
   "id": "19d5c2b7",
   "metadata": {},
   "outputs": [
    {
     "name": "stdout",
     "output_type": "stream",
     "text": [
      "int32\n"
     ]
    }
   ],
   "source": [
    "print(h.dtype)"
   ]
  },
  {
   "cell_type": "code",
   "execution_count": 5,
   "id": "2972fed2",
   "metadata": {},
   "outputs": [
    {
     "name": "stdout",
     "output_type": "stream",
     "text": [
      "(2, 3)\n"
     ]
    }
   ],
   "source": [
    "print(h.shape)"
   ]
  },
  {
   "cell_type": "code",
   "execution_count": 6,
   "id": "0d1e78a2",
   "metadata": {},
   "outputs": [
    {
     "name": "stdout",
     "output_type": "stream",
     "text": [
      "6\n"
     ]
    }
   ],
   "source": [
    "print(h.size)"
   ]
  },
  {
   "cell_type": "code",
   "execution_count": 11,
   "id": "bda23e5d",
   "metadata": {},
   "outputs": [
    {
     "name": "stdout",
     "output_type": "stream",
     "text": [
      "[[6 7]\n",
      " [8 9]\n",
      " [5 4]]\n"
     ]
    }
   ],
   "source": [
    "print(h.reshape(3,2))"
   ]
  },
  {
   "cell_type": "code",
   "execution_count": 13,
   "id": "bfc6c138",
   "metadata": {},
   "outputs": [
    {
     "name": "stdout",
     "output_type": "stream",
     "text": [
      "39\n"
     ]
    }
   ],
   "source": [
    "print(h.sum())"
   ]
  },
  {
   "cell_type": "code",
   "execution_count": 14,
   "id": "21faa105",
   "metadata": {},
   "outputs": [
    {
     "name": "stdout",
     "output_type": "stream",
     "text": [
      "[[2.44948974 2.64575131 2.82842712]\n",
      " [3.         2.23606798 2.        ]]\n"
     ]
    }
   ],
   "source": [
    "print(np.sqrt(h))"
   ]
  },
  {
   "cell_type": "code",
   "execution_count": 15,
   "id": "2696783d",
   "metadata": {},
   "outputs": [
    {
     "name": "stdout",
     "output_type": "stream",
     "text": [
      "[[100 100 100]\n",
      " [ 66  88 111]]\n"
     ]
    }
   ],
   "source": [
    "t=np.array([(11,22,33),(44,55,66)])\n",
    "y=np.array([(89,78,67),(22,33,45)])\n",
    "print(t+y)"
   ]
  },
  {
   "cell_type": "code",
   "execution_count": 16,
   "id": "42b2217a",
   "metadata": {},
   "outputs": [
    {
     "name": "stdout",
     "output_type": "stream",
     "text": [
      "[[-78 -56 -34]\n",
      " [ 22  22  21]]\n"
     ]
    }
   ],
   "source": [
    "t=np.array([(11,22,33),(44,55,66)])\n",
    "y=np.array([(89,78,67),(22,33,45)])\n",
    "print(t-y)"
   ]
  },
  {
   "cell_type": "code",
   "execution_count": 17,
   "id": "a5afb5fb",
   "metadata": {},
   "outputs": [
    {
     "name": "stdout",
     "output_type": "stream",
     "text": [
      "[[ 979 1716 2211]\n",
      " [ 968 1815 2970]]\n"
     ]
    }
   ],
   "source": [
    "t=np.array([(11,22,33),(44,55,66)])\n",
    "y=np.array([(89,78,67),(22,33,45)])\n",
    "print(t*y)"
   ]
  },
  {
   "cell_type": "code",
   "execution_count": 18,
   "id": "00f53b52",
   "metadata": {},
   "outputs": [
    {
     "name": "stdout",
     "output_type": "stream",
     "text": [
      "[[0.12359551 0.28205128 0.49253731]\n",
      " [2.         1.66666667 1.46666667]]\n"
     ]
    }
   ],
   "source": [
    "t=np.array([(11,22,33),(44,55,66)])\n",
    "y=np.array([(89,78,67),(22,33,45)])\n",
    "print(t/y)"
   ]
  },
  {
   "cell_type": "code",
   "execution_count": 19,
   "id": "94f242b4",
   "metadata": {},
   "outputs": [
    {
     "name": "stdout",
     "output_type": "stream",
     "text": [
      "[[11 22 33]\n",
      " [44 55 66]\n",
      " [89 78 67]\n",
      " [22 33 45]]\n"
     ]
    }
   ],
   "source": [
    "print(np.vstack((t,y)))"
   ]
  },
  {
   "cell_type": "code",
   "execution_count": 20,
   "id": "f628ca8f",
   "metadata": {},
   "outputs": [
    {
     "name": "stdout",
     "output_type": "stream",
     "text": [
      "[[11 22 33 89 78 67]\n",
      " [44 55 66 22 33 45]]\n"
     ]
    }
   ],
   "source": [
    "print(np.hstack((t,y)))"
   ]
  },
  {
   "cell_type": "code",
   "execution_count": 21,
   "id": "d2085254",
   "metadata": {},
   "outputs": [
    {
     "name": "stdout",
     "output_type": "stream",
     "text": [
      "[11 22 33 44 55 66]\n"
     ]
    }
   ],
   "source": [
    "print(t.ravel())"
   ]
  },
  {
   "cell_type": "code",
   "execution_count": 23,
   "id": "e3cc964e",
   "metadata": {},
   "outputs": [
    {
     "data": {
      "text/plain": [
       "array([[88., 99., 79.],\n",
       "       [55., 66., 77.]])"
      ]
     },
     "execution_count": 23,
     "metadata": {},
     "output_type": "execute_result"
    }
   ],
   "source": [
    "j=np.array([[88,99,79],[55,66,77]],\"float\")\n",
    "j"
   ]
  },
  {
   "cell_type": "code",
   "execution_count": 25,
   "id": "46a7f620",
   "metadata": {},
   "outputs": [
    {
     "data": {
      "text/plain": [
       "array([[0., 0., 0., 0.],\n",
       "       [0., 0., 0., 0.],\n",
       "       [0., 0., 0., 0.],\n",
       "       [0., 0., 0., 0.]])"
      ]
     },
     "execution_count": 25,
     "metadata": {},
     "output_type": "execute_result"
    }
   ],
   "source": [
    "g=np.zeros((4,4))\n",
    "g"
   ]
  },
  {
   "cell_type": "code",
   "execution_count": 30,
   "id": "5c630a74",
   "metadata": {},
   "outputs": [
    {
     "data": {
      "text/plain": [
       "array([[0.26739297, 0.65155113],\n",
       "       [0.67996899, 0.3758023 ]])"
      ]
     },
     "execution_count": 30,
     "metadata": {},
     "output_type": "execute_result"
    }
   ],
   "source": [
    "h=np.random.random((2,2))\n",
    "h"
   ]
  },
  {
   "cell_type": "code",
   "execution_count": 31,
   "id": "86daa901",
   "metadata": {},
   "outputs": [
    {
     "data": {
      "text/plain": [
       "array([ 0,  5, 10, 15, 20, 25, 30, 35])"
      ]
     },
     "execution_count": 31,
     "metadata": {},
     "output_type": "execute_result"
    }
   ],
   "source": [
    "r=np.arange(0,40,5)\n",
    "r"
   ]
  },
  {
   "cell_type": "code",
   "execution_count": 33,
   "id": "bdd74e52",
   "metadata": {},
   "outputs": [
    {
     "name": "stdout",
     "output_type": "stream",
     "text": [
      "[111 222 333 555 444 666]\n"
     ]
    }
   ],
   "source": [
    "t=np.array([(111,222,333),(555,444,666)])\n",
    "k=t.flatten()\n",
    "print(k)"
   ]
  },
  {
   "cell_type": "code",
   "execution_count": null,
   "id": "e866be6f",
   "metadata": {},
   "outputs": [],
   "source": []
  }
 ],
 "metadata": {
  "kernelspec": {
   "display_name": "Python 3 (ipykernel)",
   "language": "python",
   "name": "python3"
  },
  "language_info": {
   "codemirror_mode": {
    "name": "ipython",
    "version": 3
   },
   "file_extension": ".py",
   "mimetype": "text/x-python",
   "name": "python",
   "nbconvert_exporter": "python",
   "pygments_lexer": "ipython3",
   "version": "3.9.12"
  }
 },
 "nbformat": 4,
 "nbformat_minor": 5
}
