{
 "cells": [
  {
   "cell_type": "code",
   "execution_count": 1,
   "id": "33f776ef",
   "metadata": {},
   "outputs": [
    {
     "name": "stdout",
     "output_type": "stream",
     "text": [
      "{50, 20, 40, 10, 60, 30}\n"
     ]
    }
   ],
   "source": [
    "y={10,20,30,40,50,60}\n",
    "print(y)"
   ]
  },
  {
   "cell_type": "code",
   "execution_count": 2,
   "id": "e8b8a549",
   "metadata": {},
   "outputs": [
    {
     "name": "stdout",
     "output_type": "stream",
     "text": [
      "{50, 20, 40, 10, 60}\n"
     ]
    }
   ],
   "source": [
    "y.remove(30)\n",
    "print(y)"
   ]
  },
  {
   "cell_type": "code",
   "execution_count": 3,
   "id": "0d570373",
   "metadata": {},
   "outputs": [
    {
     "name": "stdout",
     "output_type": "stream",
     "text": [
      "{50, 20, 70, 40, 10, 60}\n"
     ]
    }
   ],
   "source": [
    "y.add(70)\n",
    "print(y)"
   ]
  },
  {
   "cell_type": "code",
   "execution_count": 4,
   "id": "9b639631",
   "metadata": {},
   "outputs": [
    {
     "name": "stdout",
     "output_type": "stream",
     "text": [
      "set()\n"
     ]
    }
   ],
   "source": [
    "y.clear()\n",
    "print(y)"
   ]
  },
  {
   "cell_type": "code",
   "execution_count": 6,
   "id": "42fbcf4e",
   "metadata": {},
   "outputs": [
    {
     "data": {
      "text/plain": [
       "5"
      ]
     },
     "execution_count": 6,
     "metadata": {},
     "output_type": "execute_result"
    }
   ],
   "source": [
    "u={40,80,90,80,79,68}\n",
    "len(u)"
   ]
  },
  {
   "cell_type": "code",
   "execution_count": 7,
   "id": "fa97ba07",
   "metadata": {},
   "outputs": [],
   "source": [
    "h={1,2,3,4,5,6,7}\n",
    "i={5,7,6}"
   ]
  },
  {
   "cell_type": "code",
   "execution_count": 10,
   "id": "61063a06",
   "metadata": {},
   "outputs": [
    {
     "data": {
      "text/plain": [
       "False"
      ]
     },
     "execution_count": 10,
     "metadata": {},
     "output_type": "execute_result"
    }
   ],
   "source": [
    "h.issubset(i)"
   ]
  },
  {
   "cell_type": "code",
   "execution_count": 15,
   "id": "fb88091e",
   "metadata": {},
   "outputs": [],
   "source": [
    "a={999,888,777,666,555,444,333}\n",
    "b={888,999,111,564,656}"
   ]
  },
  {
   "cell_type": "code",
   "execution_count": 17,
   "id": "2c29ff1c",
   "metadata": {},
   "outputs": [
    {
     "data": {
      "text/plain": [
       "{888, 999}"
      ]
     },
     "execution_count": 17,
     "metadata": {},
     "output_type": "execute_result"
    }
   ],
   "source": [
    "b&a"
   ]
  },
  {
   "cell_type": "code",
   "execution_count": 18,
   "id": "c7ede773",
   "metadata": {},
   "outputs": [
    {
     "data": {
      "text/plain": [
       "{111, 333, 444, 555, 564, 656, 666, 777, 888, 999}"
      ]
     },
     "execution_count": 18,
     "metadata": {},
     "output_type": "execute_result"
    }
   ],
   "source": [
    "b|a"
   ]
  },
  {
   "cell_type": "code",
   "execution_count": 19,
   "id": "246cc91e",
   "metadata": {},
   "outputs": [
    {
     "data": {
      "text/plain": [
       "{111, 564, 656}"
      ]
     },
     "execution_count": 19,
     "metadata": {},
     "output_type": "execute_result"
    }
   ],
   "source": [
    "b.difference(a)"
   ]
  },
  {
   "cell_type": "code",
   "execution_count": 20,
   "id": "07058612",
   "metadata": {},
   "outputs": [
    {
     "data": {
      "text/plain": [
       "{111, 564, 656}"
      ]
     },
     "execution_count": 20,
     "metadata": {},
     "output_type": "execute_result"
    }
   ],
   "source": [
    "b-a"
   ]
  },
  {
   "cell_type": "code",
   "execution_count": 21,
   "id": "930051c4",
   "metadata": {},
   "outputs": [
    {
     "ename": "AttributeError",
     "evalue": "'set' object has no attribute 'iscommon'",
     "output_type": "error",
     "traceback": [
      "\u001b[1;31m---------------------------------------------------------------------------\u001b[0m",
      "\u001b[1;31mAttributeError\u001b[0m                            Traceback (most recent call last)",
      "Input \u001b[1;32mIn [21]\u001b[0m, in \u001b[0;36m<cell line: 3>\u001b[1;34m()\u001b[0m\n\u001b[0;32m      1\u001b[0m j\u001b[38;5;241m=\u001b[39m{\u001b[38;5;241m22\u001b[39m,\u001b[38;5;241m44\u001b[39m,\u001b[38;5;241m66\u001b[39m,\u001b[38;5;241m77\u001b[39m,\u001b[38;5;241m88\u001b[39m,\u001b[38;5;241m99\u001b[39m,\u001b[38;5;241m66\u001b[39m}\n\u001b[0;32m      2\u001b[0m k\u001b[38;5;241m=\u001b[39m{\u001b[38;5;241m55\u001b[39m,\u001b[38;5;241m88\u001b[39m,\u001b[38;5;241m77\u001b[39m,\u001b[38;5;241m66\u001b[39m,\u001b[38;5;241m44\u001b[39m}\n\u001b[1;32m----> 3\u001b[0m \u001b[43mj\u001b[49m\u001b[38;5;241;43m.\u001b[39;49m\u001b[43miscommon\u001b[49m(k)\n",
      "\u001b[1;31mAttributeError\u001b[0m: 'set' object has no attribute 'iscommon'"
     ]
    }
   ],
   "source": [
    "j={22,44,66,77,88,99,66}\n",
    "k={55,88,77,66,44}\n",
    "j.iscommon(k)"
   ]
  },
  {
   "cell_type": "code",
   "execution_count": 2,
   "id": "1cc65c02",
   "metadata": {},
   "outputs": [
    {
     "name": "stdout",
     "output_type": "stream",
     "text": [
      "66\n",
      "99\n",
      "999\n",
      "777\n",
      "555\n",
      "333\n",
      "909\n",
      "8888\n"
     ]
    }
   ],
   "source": [
    "o={66,777,8888,999,555,333,99,909}\n",
    "for i in o:\n",
    "    print(i)\n",
    "    "
   ]
  },
  {
   "cell_type": "code",
   "execution_count": 3,
   "id": "9705f2df",
   "metadata": {},
   "outputs": [
    {
     "name": "stdout",
     "output_type": "stream",
     "text": [
      "{656, 121, 989, 776, 345, 333, 878}\n"
     ]
    }
   ],
   "source": [
    "u={333,656,878,989,776,345,121}\n",
    "s=u.copy()\n",
    "print(s)"
   ]
  },
  {
   "cell_type": "code",
   "execution_count": 5,
   "id": "71b3996a",
   "metadata": {},
   "outputs": [
    {
     "data": {
      "text/plain": [
       "{56, 57}"
      ]
     },
     "execution_count": 5,
     "metadata": {},
     "output_type": "execute_result"
    }
   ],
   "source": [
    "r={51,52,53,54,55,56,57}\n",
    "s={56,57,58,59,60,61,62}\n",
    "r&s"
   ]
  },
  {
   "cell_type": "code",
   "execution_count": null,
   "id": "3cd27760",
   "metadata": {},
   "outputs": [],
   "source": []
  }
 ],
 "metadata": {
  "kernelspec": {
   "display_name": "Python 3 (ipykernel)",
   "language": "python",
   "name": "python3"
  },
  "language_info": {
   "codemirror_mode": {
    "name": "ipython",
    "version": 3
   },
   "file_extension": ".py",
   "mimetype": "text/x-python",
   "name": "python",
   "nbconvert_exporter": "python",
   "pygments_lexer": "ipython3",
   "version": "3.9.12"
  }
 },
 "nbformat": 4,
 "nbformat_minor": 5
}
