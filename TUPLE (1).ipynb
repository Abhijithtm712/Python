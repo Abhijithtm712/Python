{
 "cells": [
  {
   "cell_type": "code",
   "execution_count": 1,
   "id": "76d44060",
   "metadata": {},
   "outputs": [
    {
     "name": "stdout",
     "output_type": "stream",
     "text": [
      "('kannur', 20, 30, 40)\n"
     ]
    }
   ],
   "source": [
    "a=()\n",
    "b=(\"kannur\",20,30,40)\n",
    "print(b)"
   ]
  },
  {
   "cell_type": "code",
   "execution_count": 2,
   "id": "00939da1",
   "metadata": {},
   "outputs": [
    {
     "data": {
      "text/plain": [
       "80"
      ]
     },
     "execution_count": 2,
     "metadata": {},
     "output_type": "execute_result"
    }
   ],
   "source": [
    "h=80\n",
    "h"
   ]
  },
  {
   "cell_type": "code",
   "execution_count": 3,
   "id": "91a68d73",
   "metadata": {},
   "outputs": [
    {
     "data": {
      "text/plain": [
       "(80,)"
      ]
     },
     "execution_count": 3,
     "metadata": {},
     "output_type": "execute_result"
    }
   ],
   "source": [
    "h=(80,)\n",
    "h"
   ]
  },
  {
   "cell_type": "code",
   "execution_count": 4,
   "id": "52cca487",
   "metadata": {},
   "outputs": [
    {
     "data": {
      "text/plain": [
       "12"
      ]
     },
     "execution_count": 4,
     "metadata": {},
     "output_type": "execute_result"
    }
   ],
   "source": [
    "j=(10,20,30,40,50,60,70,\"abcd\",\"efgh\",80,90,100)\n",
    "len(j)"
   ]
  },
  {
   "cell_type": "code",
   "execution_count": 5,
   "id": "c5a6b08f",
   "metadata": {},
   "outputs": [
    {
     "data": {
      "text/plain": [
       "8"
      ]
     },
     "execution_count": 5,
     "metadata": {},
     "output_type": "execute_result"
    }
   ],
   "source": [
    "k=(\"aaa\",\"bbb\",\"ccc\",222,333,444,(\"hello\",\"okay\",555,666),888)\n",
    "len(k)"
   ]
  },
  {
   "cell_type": "code",
   "execution_count": 6,
   "id": "a188f82f",
   "metadata": {},
   "outputs": [
    {
     "name": "stdout",
     "output_type": "stream",
     "text": [
      "bbb\n"
     ]
    }
   ],
   "source": [
    "print(k[1])"
   ]
  },
  {
   "cell_type": "code",
   "execution_count": 7,
   "id": "e3285481",
   "metadata": {},
   "outputs": [
    {
     "name": "stdout",
     "output_type": "stream",
     "text": [
      "666\n"
     ]
    }
   ],
   "source": [
    "print(k[6][3])"
   ]
  },
  {
   "cell_type": "code",
   "execution_count": 8,
   "id": "510cb054",
   "metadata": {},
   "outputs": [
    {
     "data": {
      "text/plain": [
       "('a', 'b', 'h', 'i', 'j', 'i', 't', 'h')"
      ]
     },
     "execution_count": 8,
     "metadata": {},
     "output_type": "execute_result"
    }
   ],
   "source": [
    "f=tuple(\"abhijith\")\n",
    "f"
   ]
  },
  {
   "cell_type": "code",
   "execution_count": 9,
   "id": "fcdf8d93",
   "metadata": {},
   "outputs": [
    {
     "data": {
      "text/plain": [
       "('abc', 'efg', 555, 666, 777)"
      ]
     },
     "execution_count": 9,
     "metadata": {},
     "output_type": "execute_result"
    }
   ],
   "source": [
    "d=tuple([\"abc\",\"efg\",555,666,777])\n",
    "d"
   ]
  },
  {
   "cell_type": "code",
   "execution_count": 10,
   "id": "24637459",
   "metadata": {},
   "outputs": [
    {
     "data": {
      "text/plain": [
       "list['aaa', 'bbb', 666, 777]"
      ]
     },
     "execution_count": 10,
     "metadata": {},
     "output_type": "execute_result"
    }
   ],
   "source": [
    "s=list[(\"aaa\",\"bbb\",666,777)]\n",
    "s\n"
   ]
  },
  {
   "cell_type": "code",
   "execution_count": 11,
   "id": "5e8fb0dc",
   "metadata": {},
   "outputs": [
    {
     "data": {
      "text/plain": [
       "['aaa', 'bbb', 666, 777]"
      ]
     },
     "execution_count": 11,
     "metadata": {},
     "output_type": "execute_result"
    }
   ],
   "source": [
    "s=(\"aaa\",\"bbb\",666,777)\n",
    "r=list(s)\n",
    "r"
   ]
  },
  {
   "cell_type": "code",
   "execution_count": 12,
   "id": "e1c0658f",
   "metadata": {},
   "outputs": [
    {
     "name": "stdout",
     "output_type": "stream",
     "text": [
      "enter your number888\n"
     ]
    },
    {
     "data": {
      "text/plain": [
       "('8', '8', '8')"
      ]
     },
     "execution_count": 12,
     "metadata": {},
     "output_type": "execute_result"
    }
   ],
   "source": [
    "e=tuple(input(\"enter your number\"))\n",
    "e"
   ]
  },
  {
   "cell_type": "code",
   "execution_count": 13,
   "id": "0cedf8f9",
   "metadata": {},
   "outputs": [
    {
     "name": "stdout",
     "output_type": "stream",
     "text": [
      "enter your number555\n"
     ]
    },
    {
     "data": {
      "text/plain": [
       "['5', '5', '5']"
      ]
     },
     "execution_count": 13,
     "metadata": {},
     "output_type": "execute_result"
    }
   ],
   "source": [
    "e=list(input(\"enter your number\"))\n",
    "e"
   ]
  },
  {
   "cell_type": "code",
   "execution_count": 14,
   "id": "a643c174",
   "metadata": {},
   "outputs": [
    {
     "data": {
      "text/plain": [
       "('aaaa', 'bbbb', 'cccc', 1111, 2222, 3333)"
      ]
     },
     "execution_count": 14,
     "metadata": {},
     "output_type": "execute_result"
    }
   ],
   "source": [
    "h=(\"aaaa\",\"bbbb\",\"cccc\",1111,2222,3333)\n",
    "h"
   ]
  },
  {
   "cell_type": "code",
   "execution_count": 15,
   "id": "4a660ddc",
   "metadata": {},
   "outputs": [
    {
     "name": "stdout",
     "output_type": "stream",
     "text": [
      "cccc\n"
     ]
    }
   ],
   "source": [
    "print(h[2])"
   ]
  },
  {
   "cell_type": "code",
   "execution_count": 16,
   "id": "2a1ec6a0",
   "metadata": {},
   "outputs": [
    {
     "name": "stdout",
     "output_type": "stream",
     "text": [
      "2222\n"
     ]
    }
   ],
   "source": [
    "print(h[-2])"
   ]
  },
  {
   "cell_type": "code",
   "execution_count": 17,
   "id": "1603852a",
   "metadata": {},
   "outputs": [
    {
     "ename": "TypeError",
     "evalue": "'tuple' object does not support item assignment",
     "output_type": "error",
     "traceback": [
      "\u001b[1;31m---------------------------------------------------------------------------\u001b[0m",
      "\u001b[1;31mTypeError\u001b[0m                                 Traceback (most recent call last)",
      "Input \u001b[1;32mIn [17]\u001b[0m, in \u001b[0;36m<cell line: 1>\u001b[1;34m()\u001b[0m\n\u001b[1;32m----> 1\u001b[0m h[\u001b[38;5;241m2\u001b[39m]\u001b[38;5;241m=\u001b[39m\u001b[38;5;124m\"\u001b[39m\u001b[38;5;124m7777\u001b[39m\u001b[38;5;124m\"\u001b[39m\n\u001b[0;32m      2\u001b[0m h\n",
      "\u001b[1;31mTypeError\u001b[0m: 'tuple' object does not support item assignment"
     ]
    }
   ],
   "source": [
    "h[2]=\"7777\"\n",
    "h"
   ]
  },
  {
   "cell_type": "code",
   "execution_count": 20,
   "id": "d9a13def",
   "metadata": {},
   "outputs": [
    {
     "data": {
      "text/plain": [
       "['hhhh', 'gggg', 'kkk', 80, 90, 70]"
      ]
     },
     "execution_count": 20,
     "metadata": {},
     "output_type": "execute_result"
    }
   ],
   "source": [
    "t=[\"hhhh\",\"jjjj\",\"kkk\",80,90,70]\n",
    "t[1]=\"gggg\"\n",
    "t"
   ]
  },
  {
   "cell_type": "code",
   "execution_count": 22,
   "id": "4218bb21",
   "metadata": {},
   "outputs": [
    {
     "ename": "AttributeError",
     "evalue": "'list' object has no attribute 'add'",
     "output_type": "error",
     "traceback": [
      "\u001b[1;31m---------------------------------------------------------------------------\u001b[0m",
      "\u001b[1;31mAttributeError\u001b[0m                            Traceback (most recent call last)",
      "Input \u001b[1;32mIn [22]\u001b[0m, in \u001b[0;36m<cell line: 1>\u001b[1;34m()\u001b[0m\n\u001b[1;32m----> 1\u001b[0m \u001b[43mt\u001b[49m\u001b[38;5;241;43m.\u001b[39;49m\u001b[43madd\u001b[49m(\u001b[38;5;241m100\u001b[39m)\n",
      "\u001b[1;31mAttributeError\u001b[0m: 'list' object has no attribute 'add'"
     ]
    }
   ],
   "source": [
    "t.add(100)"
   ]
  },
  {
   "cell_type": "code",
   "execution_count": null,
   "id": "b0c5af54",
   "metadata": {},
   "outputs": [],
   "source": []
  }
 ],
 "metadata": {
  "kernelspec": {
   "display_name": "Python 3 (ipykernel)",
   "language": "python",
   "name": "python3"
  },
  "language_info": {
   "codemirror_mode": {
    "name": "ipython",
    "version": 3
   },
   "file_extension": ".py",
   "mimetype": "text/x-python",
   "name": "python",
   "nbconvert_exporter": "python",
   "pygments_lexer": "ipython3",
   "version": "3.9.12"
  }
 },
 "nbformat": 4,
 "nbformat_minor": 5
}
