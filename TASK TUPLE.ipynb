{
 "cells": [
  {
   "cell_type": "code",
   "execution_count": 3,
   "id": "6665760a",
   "metadata": {},
   "outputs": [
    {
     "name": "stdout",
     "output_type": "stream",
     "text": [
      "('home', 66, 77, 88)\n"
     ]
    }
   ],
   "source": [
    "b=(\"home\",66,77,88)\n",
    "print(b)"
   ]
  },
  {
   "cell_type": "code",
   "execution_count": 4,
   "id": "db1294cb",
   "metadata": {},
   "outputs": [
    {
     "data": {
      "text/plain": [
       "9"
      ]
     },
     "execution_count": 4,
     "metadata": {},
     "output_type": "execute_result"
    }
   ],
   "source": [
    "p=(55,66,77,88,99,90,80,70,60)\n",
    "len(p)"
   ]
  },
  {
   "cell_type": "code",
   "execution_count": 5,
   "id": "725dc3c6",
   "metadata": {},
   "outputs": [
    {
     "name": "stdout",
     "output_type": "stream",
     "text": [
      "5\n"
     ]
    }
   ],
   "source": [
    "b=(1,2,3,4,5,6,7,8,9,10)\n",
    "print(b[4])"
   ]
  },
  {
   "cell_type": "code",
   "execution_count": 6,
   "id": "f26962f4",
   "metadata": {},
   "outputs": [
    {
     "name": "stdout",
     "output_type": "stream",
     "text": [
      "('aa', 'bb', 'cc', 66, 77, 88, 99)\n"
     ]
    }
   ],
   "source": [
    "c=tuple([\"aa\",\"bb\",\"cc\",66,77,88,99])\n",
    "print(c)"
   ]
  },
  {
   "cell_type": "code",
   "execution_count": 7,
   "id": "fb17f659",
   "metadata": {},
   "outputs": [
    {
     "name": "stdout",
     "output_type": "stream",
     "text": [
      "({88, 99, 'abhijith'}, [77, 55, 'tm', 44], 'abhijithtm')\n"
     ]
    }
   ],
   "source": [
    "a=({99,88,\"abhijith\"},[77,55,\"tm\",44],\"abhijithtm\")\n",
    "print(a)"
   ]
  },
  {
   "cell_type": "code",
   "execution_count": 8,
   "id": "af8f3a5e",
   "metadata": {},
   "outputs": [
    {
     "name": "stdout",
     "output_type": "stream",
     "text": [
      "('a', 'b', 'h', 'i', 'j', 'i', 't', 'h', 't', 'm')\n"
     ]
    }
   ],
   "source": [
    "j=tuple(\"abhijithtm\")\n",
    "print(j)"
   ]
  },
  {
   "cell_type": "code",
   "execution_count": 1,
   "id": "24871ea6",
   "metadata": {},
   "outputs": [
    {
     "name": "stdout",
     "output_type": "stream",
     "text": [
      "(8, 9, 0, 8, 7, 6, 5, 1)\n"
     ]
    }
   ],
   "source": [
    "k=(8,9,0,8,7,6,5)\n",
    "p=k+(1,)\n",
    "print(p)"
   ]
  },
  {
   "cell_type": "code",
   "execution_count": 2,
   "id": "9c80718e",
   "metadata": {},
   "outputs": [
    {
     "name": "stdout",
     "output_type": "stream",
     "text": [
      "(8, 5, 6)\n"
     ]
    }
   ],
   "source": [
    "p=(8,7,6)\n",
    "a,b,c=p\n",
    "b=5\n",
    "p=(a,b,c)\n",
    "print(p)"
   ]
  },
  {
   "cell_type": "code",
   "execution_count": 3,
   "id": "cfef49cf",
   "metadata": {},
   "outputs": [
    {
     "name": "stdout",
     "output_type": "stream",
     "text": [
      "['hi', 'hello', 'okey', 'bye']\n"
     ]
    }
   ],
   "source": [
    "o=(\"hi\",\"hello\",\"okey\",\"bye\")\n",
    "u=list(o)\n",
    "print(u)"
   ]
  },
  {
   "cell_type": "code",
   "execution_count": 4,
   "id": "2f08bf65",
   "metadata": {},
   "outputs": [
    {
     "name": "stdout",
     "output_type": "stream",
     "text": [
      "['hi', 'welcome', 'okey', 'bye']\n"
     ]
    }
   ],
   "source": [
    "u[1]=\"welcome\"\n",
    "print(u)"
   ]
  },
  {
   "cell_type": "code",
   "execution_count": 6,
   "id": "7b10d807",
   "metadata": {},
   "outputs": [
    {
     "name": "stdout",
     "output_type": "stream",
     "text": [
      "('hi', 'welcome', 'okey', 'bye')\n"
     ]
    }
   ],
   "source": [
    "o=tuple(u)\n",
    "print(o)"
   ]
  },
  {
   "cell_type": "code",
   "execution_count": 8,
   "id": "f9c564d4",
   "metadata": {},
   "outputs": [
    {
     "name": "stdout",
     "output_type": "stream",
     "text": [
      "(4444, 5555, 666, 777, 767)\n"
     ]
    }
   ],
   "source": [
    "y=(767,777,666,5555,4444)\n",
    "t=y[::-1]\n",
    "print(t)"
   ]
  },
  {
   "cell_type": "code",
   "execution_count": null,
   "id": "53136379",
   "metadata": {},
   "outputs": [],
   "source": []
  }
 ],
 "metadata": {
  "kernelspec": {
   "display_name": "Python 3 (ipykernel)",
   "language": "python",
   "name": "python3"
  },
  "language_info": {
   "codemirror_mode": {
    "name": "ipython",
    "version": 3
   },
   "file_extension": ".py",
   "mimetype": "text/x-python",
   "name": "python",
   "nbconvert_exporter": "python",
   "pygments_lexer": "ipython3",
   "version": "3.9.12"
  }
 },
 "nbformat": 4,
 "nbformat_minor": 5
}
